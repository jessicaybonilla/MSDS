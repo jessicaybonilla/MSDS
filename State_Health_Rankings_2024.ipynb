{
 "cells": [
  {
   "cell_type": "markdown",
   "id": "d7b35a28-8924-458d-a66b-75a54bcab1c5",
   "metadata": {},
   "source": [
    "# State Health Rankings 2024 Visualization Final"
   ]
  },
  {
   "cell_type": "markdown",
   "id": "169b2051-e94d-4e57-816a-d2763c2d6b96",
   "metadata": {},
   "source": [
    "### Introduction\n",
    "\n",
    "For this project, I used state-level health data from the 2024 United Health Foundation’s Annual Report. After some initial cleaning and reshaping of the data, I selected a focused set of metrics that included overall health scores, economic indicators, access to care, and several health outcomes such as obesity, depression, and diabetes. These indicators were chosen because they provide a well-rounded view of both the health status and the socioeconomic context of each U.S. state.\n",
    "\n",
    "The main goals of this visualization project were to understand how health outcomes vary across different states, identify possible relationships between economic hardship and public health conditions, and highlight states that might be under-resourced. Specifically, I was looking for patterns that could help explain disparities in health and funding, and explore different ways to visualize the data to provide to shareholders a visualization of the data.\n",
    "\n",
    "To meet these goals, I completed several key tasks. For the first task, I compared the overall health scores of all 50 states to see where they rank. Then, I created visualizations to explore how economic hardship is related to health outcomes, like obesity. Finally, I worked to identify states that not only have poor health outcomes, but also receive less public health funding, which could make them especially vulnerable to lower rankings.\n",
    "\n",
    "#### Data\n",
    "**The csv data was downloaded from [America's Health Rankings 2024](https://www.americashealthrankings.org/learn/reports/2024-annual-report).**\n",
    "The data had 1,315 data columns, further grouping the main categories I used by male/female, race, and age for each of the 50 states. The PDF report breaks down on individuals pages the findings of each state with plenty of links where the data was retrieved. I, for one, believed my beloved state of Texas would have made the top half prior to creating the visuals or that John Denver spoke heavenly about West Virginia for a reason. And then I, personally, wanted to visualize more.\n",
    "\n",
    "Full source code:"
   ]
  },
  {
   "cell_type": "code",
   "execution_count": 10,
   "id": "60519b84-9f40-4d24-92a2-3de3c590affd",
   "metadata": {},
   "outputs": [
    {
     "data": {
      "text/html": [
       "<div>\n",
       "<style scoped>\n",
       "    .dataframe tbody tr th:only-of-type {\n",
       "        vertical-align: middle;\n",
       "    }\n",
       "\n",
       "    .dataframe tbody tr th {\n",
       "        vertical-align: top;\n",
       "    }\n",
       "\n",
       "    .dataframe thead th {\n",
       "        text-align: right;\n",
       "    }\n",
       "</style>\n",
       "<table border=\"1\" class=\"dataframe\">\n",
       "  <thead>\n",
       "    <tr style=\"text-align: right;\">\n",
       "      <th></th>\n",
       "      <th>State</th>\n",
       "      <th>Adverse Childhood Experiences</th>\n",
       "      <th>Adverse Childhood Experiences - American Indian/Alaska Native</th>\n",
       "      <th>Adverse Childhood Experiences - Asian</th>\n",
       "      <th>Adverse Childhood Experiences - Black</th>\n",
       "      <th>Adverse Childhood Experiences - Caregiver College Grad</th>\n",
       "      <th>Adverse Childhood Experiences - Caregiver High School Grad/GED</th>\n",
       "      <th>Adverse Childhood Experiences - Caregiver Less Than High School</th>\n",
       "      <th>Adverse Childhood Experiences - Caregiver Some Post-High School</th>\n",
       "      <th>Adverse Childhood Experiences - Female</th>\n",
       "      <th>...</th>\n",
       "      <th>Uninsured - Less Than High School</th>\n",
       "      <th>Uninsured - Multiracial</th>\n",
       "      <th>Uninsured - Native Hawaiian/Other Pacific Islander</th>\n",
       "      <th>Uninsured - Other Race</th>\n",
       "      <th>Uninsured - Some College</th>\n",
       "      <th>Uninsured - White</th>\n",
       "      <th>Volunteerism</th>\n",
       "      <th>Voter Participation (Average)</th>\n",
       "      <th>Voter Participation (Midterm)</th>\n",
       "      <th>Water Fluoridation</th>\n",
       "    </tr>\n",
       "  </thead>\n",
       "  <tbody>\n",
       "    <tr>\n",
       "      <th>0</th>\n",
       "      <td>AK</td>\n",
       "      <td>20.7</td>\n",
       "      <td>41.4</td>\n",
       "      <td>3.9</td>\n",
       "      <td>NaN</td>\n",
       "      <td>13.8</td>\n",
       "      <td>32.6</td>\n",
       "      <td>NaN</td>\n",
       "      <td>24.5</td>\n",
       "      <td>18.2</td>\n",
       "      <td>...</td>\n",
       "      <td>17.8</td>\n",
       "      <td>11.6</td>\n",
       "      <td>NaN</td>\n",
       "      <td>19.3</td>\n",
       "      <td>9.6</td>\n",
       "      <td>7.3</td>\n",
       "      <td>27.3</td>\n",
       "      <td>59.2</td>\n",
       "      <td>54.6</td>\n",
       "      <td>42.3</td>\n",
       "    </tr>\n",
       "    <tr>\n",
       "      <th>1</th>\n",
       "      <td>AL</td>\n",
       "      <td>15.7</td>\n",
       "      <td>NaN</td>\n",
       "      <td>NaN</td>\n",
       "      <td>17.3</td>\n",
       "      <td>10.9</td>\n",
       "      <td>19.1</td>\n",
       "      <td>15.5</td>\n",
       "      <td>22.0</td>\n",
       "      <td>14.6</td>\n",
       "      <td>...</td>\n",
       "      <td>21.5</td>\n",
       "      <td>12.4</td>\n",
       "      <td>NaN</td>\n",
       "      <td>30.9</td>\n",
       "      <td>8.0</td>\n",
       "      <td>6.2</td>\n",
       "      <td>19.5</td>\n",
       "      <td>53.0</td>\n",
       "      <td>45.4</td>\n",
       "      <td>76.6</td>\n",
       "    </tr>\n",
       "    <tr>\n",
       "      <th>2</th>\n",
       "      <td>ALL</td>\n",
       "      <td>14.5</td>\n",
       "      <td>32.3</td>\n",
       "      <td>3.7</td>\n",
       "      <td>20.1</td>\n",
       "      <td>10.0</td>\n",
       "      <td>21.1</td>\n",
       "      <td>14.9</td>\n",
       "      <td>20.8</td>\n",
       "      <td>14.8</td>\n",
       "      <td>...</td>\n",
       "      <td>20.7</td>\n",
       "      <td>12.7</td>\n",
       "      <td>11.9</td>\n",
       "      <td>18.8</td>\n",
       "      <td>7.1</td>\n",
       "      <td>5.1</td>\n",
       "      <td>23.2</td>\n",
       "      <td>59.5</td>\n",
       "      <td>52.2</td>\n",
       "      <td>72.3</td>\n",
       "    </tr>\n",
       "    <tr>\n",
       "      <th>3</th>\n",
       "      <td>AR</td>\n",
       "      <td>21.3</td>\n",
       "      <td>NaN</td>\n",
       "      <td>4.6</td>\n",
       "      <td>29.1</td>\n",
       "      <td>13.8</td>\n",
       "      <td>25.5</td>\n",
       "      <td>17.2</td>\n",
       "      <td>31.2</td>\n",
       "      <td>24.3</td>\n",
       "      <td>...</td>\n",
       "      <td>20.0</td>\n",
       "      <td>18.5</td>\n",
       "      <td>32.9</td>\n",
       "      <td>22.9</td>\n",
       "      <td>7.7</td>\n",
       "      <td>6.5</td>\n",
       "      <td>20.9</td>\n",
       "      <td>49.0</td>\n",
       "      <td>43.9</td>\n",
       "      <td>86.8</td>\n",
       "    </tr>\n",
       "    <tr>\n",
       "      <th>4</th>\n",
       "      <td>AZ</td>\n",
       "      <td>15.7</td>\n",
       "      <td>NaN</td>\n",
       "      <td>4.1</td>\n",
       "      <td>19.7</td>\n",
       "      <td>10.3</td>\n",
       "      <td>20.6</td>\n",
       "      <td>19.1</td>\n",
       "      <td>21.8</td>\n",
       "      <td>16.2</td>\n",
       "      <td>...</td>\n",
       "      <td>22.6</td>\n",
       "      <td>15.6</td>\n",
       "      <td>19.6</td>\n",
       "      <td>18.3</td>\n",
       "      <td>7.8</td>\n",
       "      <td>5.6</td>\n",
       "      <td>23.5</td>\n",
       "      <td>63.9</td>\n",
       "      <td>55.8</td>\n",
       "      <td>57.5</td>\n",
       "    </tr>\n",
       "  </tbody>\n",
       "</table>\n",
       "<p>5 rows × 1315 columns</p>\n",
       "</div>"
      ],
      "text/plain": [
       "  State  Adverse Childhood Experiences  \\\n",
       "0    AK                           20.7   \n",
       "1    AL                           15.7   \n",
       "2   ALL                           14.5   \n",
       "3    AR                           21.3   \n",
       "4    AZ                           15.7   \n",
       "\n",
       "   Adverse Childhood Experiences - American Indian/Alaska Native  \\\n",
       "0                                               41.4               \n",
       "1                                                NaN               \n",
       "2                                               32.3               \n",
       "3                                                NaN               \n",
       "4                                                NaN               \n",
       "\n",
       "   Adverse Childhood Experiences - Asian  \\\n",
       "0                                    3.9   \n",
       "1                                    NaN   \n",
       "2                                    3.7   \n",
       "3                                    4.6   \n",
       "4                                    4.1   \n",
       "\n",
       "   Adverse Childhood Experiences - Black  \\\n",
       "0                                    NaN   \n",
       "1                                   17.3   \n",
       "2                                   20.1   \n",
       "3                                   29.1   \n",
       "4                                   19.7   \n",
       "\n",
       "   Adverse Childhood Experiences - Caregiver College Grad  \\\n",
       "0                                               13.8        \n",
       "1                                               10.9        \n",
       "2                                               10.0        \n",
       "3                                               13.8        \n",
       "4                                               10.3        \n",
       "\n",
       "   Adverse Childhood Experiences - Caregiver High School Grad/GED  \\\n",
       "0                                               32.6                \n",
       "1                                               19.1                \n",
       "2                                               21.1                \n",
       "3                                               25.5                \n",
       "4                                               20.6                \n",
       "\n",
       "   Adverse Childhood Experiences - Caregiver Less Than High School  \\\n",
       "0                                                NaN                 \n",
       "1                                               15.5                 \n",
       "2                                               14.9                 \n",
       "3                                               17.2                 \n",
       "4                                               19.1                 \n",
       "\n",
       "   Adverse Childhood Experiences - Caregiver Some Post-High School  \\\n",
       "0                                               24.5                 \n",
       "1                                               22.0                 \n",
       "2                                               20.8                 \n",
       "3                                               31.2                 \n",
       "4                                               21.8                 \n",
       "\n",
       "   Adverse Childhood Experiences - Female  ...  \\\n",
       "0                                    18.2  ...   \n",
       "1                                    14.6  ...   \n",
       "2                                    14.8  ...   \n",
       "3                                    24.3  ...   \n",
       "4                                    16.2  ...   \n",
       "\n",
       "   Uninsured - Less Than High School  Uninsured - Multiracial  \\\n",
       "0                               17.8                     11.6   \n",
       "1                               21.5                     12.4   \n",
       "2                               20.7                     12.7   \n",
       "3                               20.0                     18.5   \n",
       "4                               22.6                     15.6   \n",
       "\n",
       "   Uninsured - Native Hawaiian/Other Pacific Islander  Uninsured - Other Race  \\\n",
       "0                                                NaN                     19.3   \n",
       "1                                                NaN                     30.9   \n",
       "2                                               11.9                     18.8   \n",
       "3                                               32.9                     22.9   \n",
       "4                                               19.6                     18.3   \n",
       "\n",
       "   Uninsured - Some College  Uninsured - White  Volunteerism  \\\n",
       "0                       9.6                7.3          27.3   \n",
       "1                       8.0                6.2          19.5   \n",
       "2                       7.1                5.1          23.2   \n",
       "3                       7.7                6.5          20.9   \n",
       "4                       7.8                5.6          23.5   \n",
       "\n",
       "   Voter Participation (Average)  Voter Participation (Midterm)  \\\n",
       "0                           59.2                           54.6   \n",
       "1                           53.0                           45.4   \n",
       "2                           59.5                           52.2   \n",
       "3                           49.0                           43.9   \n",
       "4                           63.9                           55.8   \n",
       "\n",
       "   Water Fluoridation  \n",
       "0                42.3  \n",
       "1                76.6  \n",
       "2                72.3  \n",
       "3                86.8  \n",
       "4                57.5  \n",
       "\n",
       "[5 rows x 1315 columns]"
      ]
     },
     "metadata": {},
     "output_type": "display_data"
    }
   ],
   "source": [
    "import sys\n",
    "import pandas as pd\n",
    "from IPython.display import display\n",
    "\n",
    "data = pd.read_csv(\n",
    "    \"2024-annual-report-report-data-all-states.csv\",\n",
    "    encoding=\"windows-1252\",\n",
    "    low_memory=False\n",
    ")\n",
    "\n",
    "reshaped = data.pivot_table(\n",
    "    index='State',\n",
    "    columns='Measure',\n",
    "    values='Value'\n",
    ").reset_index()\n",
    "\n",
    "reshaped.columns.name = None \n",
    "\n",
    "for col in reshaped.columns:\n",
    "    if col != 'State':\n",
    "        reshaped[col] = pd.to_numeric(reshaped[col], errors='coerce')\n",
    "\n",
    "\n",
    "def running_in_voila():\n",
    "    return any(\"voila\" in arg.lower() for arg in sys.argv)\n",
    "\n",
    "if not running_in_voila():\n",
    "    display(reshaped.head())"
   ]
  },
  {
   "cell_type": "code",
   "execution_count": 11,
   "id": "d753b354-5b1f-4bb3-ab35-9aaceffba97e",
   "metadata": {},
   "outputs": [
    {
     "data": {
      "text/html": [
       "<div>\n",
       "<style scoped>\n",
       "    .dataframe tbody tr th:only-of-type {\n",
       "        vertical-align: middle;\n",
       "    }\n",
       "\n",
       "    .dataframe tbody tr th {\n",
       "        vertical-align: top;\n",
       "    }\n",
       "\n",
       "    .dataframe thead th {\n",
       "        text-align: right;\n",
       "    }\n",
       "</style>\n",
       "<table border=\"1\" class=\"dataframe\">\n",
       "  <thead>\n",
       "    <tr style=\"text-align: right;\">\n",
       "      <th></th>\n",
       "      <th>State</th>\n",
       "      <th>Overall</th>\n",
       "      <th>Total Population</th>\n",
       "      <th>Social and Economic Factors</th>\n",
       "      <th>Homicide</th>\n",
       "      <th>Public Health Funding</th>\n",
       "      <th>Economic Hardship Index</th>\n",
       "      <th>Per Capita Income</th>\n",
       "      <th>Poverty</th>\n",
       "      <th>Unemployment</th>\n",
       "      <th>...</th>\n",
       "      <th>Uninsured</th>\n",
       "      <th>Exercise</th>\n",
       "      <th>Cannabis Use</th>\n",
       "      <th>Suicide</th>\n",
       "      <th>Cancer</th>\n",
       "      <th>Depression</th>\n",
       "      <th>Diabetes</th>\n",
       "      <th>High Blood Pressure</th>\n",
       "      <th>High Cholesterol</th>\n",
       "      <th>Obesity</th>\n",
       "    </tr>\n",
       "  </thead>\n",
       "  <tbody>\n",
       "    <tr>\n",
       "      <th>0</th>\n",
       "      <td>AK</td>\n",
       "      <td>-0.176</td>\n",
       "      <td>733406.0</td>\n",
       "      <td>0.042</td>\n",
       "      <td>8.5</td>\n",
       "      <td>334.0</td>\n",
       "      <td>47.0</td>\n",
       "      <td>45792.0</td>\n",
       "      <td>10.4</td>\n",
       "      <td>4.8</td>\n",
       "      <td>...</td>\n",
       "      <td>10.4</td>\n",
       "      <td>33.9</td>\n",
       "      <td>20.0</td>\n",
       "      <td>27.3</td>\n",
       "      <td>7.3</td>\n",
       "      <td>19.5</td>\n",
       "      <td>8.7</td>\n",
       "      <td>33.8</td>\n",
       "      <td>34.2</td>\n",
       "      <td>35.2</td>\n",
       "    </tr>\n",
       "    <tr>\n",
       "      <th>1</th>\n",
       "      <td>AL</td>\n",
       "      <td>-0.599</td>\n",
       "      <td>5108468.0</td>\n",
       "      <td>-0.542</td>\n",
       "      <td>14.4</td>\n",
       "      <td>137.0</td>\n",
       "      <td>74.0</td>\n",
       "      <td>35046.0</td>\n",
       "      <td>16.0</td>\n",
       "      <td>4.0</td>\n",
       "      <td>...</td>\n",
       "      <td>8.5</td>\n",
       "      <td>25.0</td>\n",
       "      <td>17.7</td>\n",
       "      <td>16.6</td>\n",
       "      <td>8.4</td>\n",
       "      <td>22.5</td>\n",
       "      <td>15.7</td>\n",
       "      <td>44.7</td>\n",
       "      <td>42.3</td>\n",
       "      <td>39.2</td>\n",
       "    </tr>\n",
       "    <tr>\n",
       "      <th>3</th>\n",
       "      <td>AR</td>\n",
       "      <td>-0.770</td>\n",
       "      <td>3067732.0</td>\n",
       "      <td>-0.971</td>\n",
       "      <td>11.2</td>\n",
       "      <td>128.0</td>\n",
       "      <td>82.0</td>\n",
       "      <td>33012.0</td>\n",
       "      <td>16.3</td>\n",
       "      <td>4.2</td>\n",
       "      <td>...</td>\n",
       "      <td>8.9</td>\n",
       "      <td>26.8</td>\n",
       "      <td>24.4</td>\n",
       "      <td>18.0</td>\n",
       "      <td>8.4</td>\n",
       "      <td>24.2</td>\n",
       "      <td>14.5</td>\n",
       "      <td>42.5</td>\n",
       "      <td>40.2</td>\n",
       "      <td>40.0</td>\n",
       "    </tr>\n",
       "    <tr>\n",
       "      <th>4</th>\n",
       "      <td>AZ</td>\n",
       "      <td>-0.060</td>\n",
       "      <td>7431344.0</td>\n",
       "      <td>0.053</td>\n",
       "      <td>8.1</td>\n",
       "      <td>84.0</td>\n",
       "      <td>70.0</td>\n",
       "      <td>41290.0</td>\n",
       "      <td>12.6</td>\n",
       "      <td>4.3</td>\n",
       "      <td>...</td>\n",
       "      <td>9.9</td>\n",
       "      <td>33.3</td>\n",
       "      <td>28.8</td>\n",
       "      <td>21.8</td>\n",
       "      <td>9.4</td>\n",
       "      <td>18.0</td>\n",
       "      <td>11.4</td>\n",
       "      <td>33.4</td>\n",
       "      <td>38.7</td>\n",
       "      <td>31.9</td>\n",
       "    </tr>\n",
       "    <tr>\n",
       "      <th>5</th>\n",
       "      <td>CA</td>\n",
       "      <td>0.052</td>\n",
       "      <td>38965193.0</td>\n",
       "      <td>-0.167</td>\n",
       "      <td>6.1</td>\n",
       "      <td>173.0</td>\n",
       "      <td>84.0</td>\n",
       "      <td>48013.0</td>\n",
       "      <td>12.0</td>\n",
       "      <td>5.5</td>\n",
       "      <td>...</td>\n",
       "      <td>6.4</td>\n",
       "      <td>30.1</td>\n",
       "      <td>19.3</td>\n",
       "      <td>11.0</td>\n",
       "      <td>6.5</td>\n",
       "      <td>17.0</td>\n",
       "      <td>11.5</td>\n",
       "      <td>30.6</td>\n",
       "      <td>37.0</td>\n",
       "      <td>27.7</td>\n",
       "    </tr>\n",
       "  </tbody>\n",
       "</table>\n",
       "<p>5 rows × 25 columns</p>\n",
       "</div>"
      ],
      "text/plain": [
       "  State  Overall  Total Population  Social and Economic Factors  Homicide  \\\n",
       "0    AK   -0.176          733406.0                        0.042       8.5   \n",
       "1    AL   -0.599         5108468.0                       -0.542      14.4   \n",
       "3    AR   -0.770         3067732.0                       -0.971      11.2   \n",
       "4    AZ   -0.060         7431344.0                        0.053       8.1   \n",
       "5    CA    0.052        38965193.0                       -0.167       6.1   \n",
       "\n",
       "   Public Health Funding  Economic Hardship Index  Per Capita Income  Poverty  \\\n",
       "0                  334.0                     47.0            45792.0     10.4   \n",
       "1                  137.0                     74.0            35046.0     16.0   \n",
       "3                  128.0                     82.0            33012.0     16.3   \n",
       "4                   84.0                     70.0            41290.0     12.6   \n",
       "5                  173.0                     84.0            48013.0     12.0   \n",
       "\n",
       "   Unemployment  ...  Uninsured  Exercise  Cannabis Use  Suicide  Cancer  \\\n",
       "0           4.8  ...       10.4      33.9          20.0     27.3     7.3   \n",
       "1           4.0  ...        8.5      25.0          17.7     16.6     8.4   \n",
       "3           4.2  ...        8.9      26.8          24.4     18.0     8.4   \n",
       "4           4.3  ...        9.9      33.3          28.8     21.8     9.4   \n",
       "5           5.5  ...        6.4      30.1          19.3     11.0     6.5   \n",
       "\n",
       "   Depression  Diabetes  High Blood Pressure  High Cholesterol  Obesity  \n",
       "0        19.5       8.7                 33.8              34.2     35.2  \n",
       "1        22.5      15.7                 44.7              42.3     39.2  \n",
       "3        24.2      14.5                 42.5              40.2     40.0  \n",
       "4        18.0      11.4                 33.4              38.7     31.9  \n",
       "5        17.0      11.5                 30.6              37.0     27.7  \n",
       "\n",
       "[5 rows x 25 columns]"
      ]
     },
     "metadata": {},
     "output_type": "display_data"
    }
   ],
   "source": [
    "import sys\n",
    "from IPython.display import display\n",
    "cols_to_keep = [\"State\", \"Overall\", \"Total Population\", \"Social and Economic Factors\", \"Homicide\", \"Public Health Funding\", \"Economic Hardship Index\", \"Per Capita Income\", \"Poverty\", \"Unemployment\", \"High School Graduation\", \"Physical Environment\", \"Air Pollution\", \"Housing Cost Burden\", \"Avoided Care Due to Cost\", \"Uninsured\", \"Exercise\", \"Cannabis Use\", \"Suicide\", \"Cancer\", \"Depression\", \"Diabetes\", \"High Blood Pressure\", \"High Cholesterol\",  \"Obesity\", ]\n",
    "selected = reshaped[cols_to_keep]\n",
    "selected = selected[selected[\"State\"].str.upper() != \"ALL\"]\n",
    "selected = selected[selected[\"State\"] != \"DC\"]\n",
    "def running_in_voila():\n",
    "    return any(\"voila\" in arg.lower() for arg in sys.argv)\n",
    "\n",
    "if not running_in_voila():\n",
    "    display(selected.head())"
   ]
  },
  {
   "cell_type": "code",
   "execution_count": 14,
   "id": "86b793cc-5c85-4309-aaa8-58ead296b62e",
   "metadata": {},
   "outputs": [
    {
     "name": "stdout",
     "output_type": "stream",
     "text": [
      "(50, 25)\n",
      "['AK' 'AL' 'AR' 'AZ' 'CA' 'CO' 'CT' 'DE' 'FL' 'GA' 'HI' 'IA' 'ID' 'IL'\n",
      " 'IN' 'KS' 'KY' 'LA' 'MA' 'MD' 'ME' 'MI' 'MN' 'MO' 'MS' 'MT' 'NC' 'ND'\n",
      " 'NE' 'NH' 'NJ' 'NM' 'NV' 'NY' 'OH' 'OK' 'OR' 'PA' 'RI' 'SC' 'SD' 'TN'\n",
      " 'TX' 'UT' 'VA' 'VT' 'WA' 'WI' 'WV' 'WY']\n"
     ]
    }
   ],
   "source": [
    "import sys\n",
    "\n",
    "def running_in_voila():\n",
    "    return any(\"voila\" in arg.lower() for arg in sys.argv)\n",
    "\n",
    "if not running_in_voila():\n",
    "    print(selected.shape)\n",
    "    print(selected[\"State\"].unique())\n"
   ]
  },
  {
   "cell_type": "markdown",
   "id": "c4e443da-7fcb-44ca-af6f-95d92e4c40ae",
   "metadata": {},
   "source": [
    "## Task 1a: Compare Overall Health Scores Across States and Regions\n",
    "**Why?** To identify which states are performing well or poorly in terms of overall health scores.\n",
    "**How?** By creating a horizontal bar chart that ranks states by their `Overall` health score. A horizontal bar graph was chosen to easily distinguish top half and bottom half.\n",
    "**What?** This task explores variation and ranking among states based on a composite metric (`Overall`).\n",
    "**Where?** Column: `Overall` Index: `State`\n",
    "**When?** Performed early in the workflow to get a high-level overview of the dataset before exploring individual health factors.\n",
    "**Who?** Data analyst or public health researcher using visualization to identify priority regions for deeper analysis or intervention.\n",
    "\n",
    "**Task 1b: Compare Overall Health Scores Across Regions (last minute bonus visualization for the previous \"Who\"**\n"
   ]
  },
  {
   "cell_type": "code",
   "execution_count": 67,
   "id": "647cb239-b7d5-480d-8777-8e6e3b068aec",
   "metadata": {},
   "outputs": [
    {
     "data": {
      "application/vnd.vegalite.v5+json": {
       "$schema": "https://vega.github.io/schema/vega-lite/v5.20.1.json",
       "config": {
        "view": {
         "continuousHeight": 300,
         "continuousWidth": 300
        }
       },
       "data": {
        "name": "data-e00950b4d5486886e2ad5bda5ff77a34"
       },
       "datasets": {
        "data-e00950b4d5486886e2ad5bda5ff77a34": [
         {
          "Air Pollution": 6.3,
          "Avoided Care Due to Cost": 11.1,
          "Cancer": 7.3,
          "Cannabis Use": 20,
          "Depression": 19.5,
          "Diabetes": 8.7,
          "Economic Hardship Index": 47,
          "Exercise": 33.9,
          "High Blood Pressure": 33.8,
          "High Cholesterol": 34.2,
          "High School Graduation": 77.8,
          "Homicide": 8.5,
          "Housing Cost Burden": 28.2,
          "Obesity": 35.2,
          "Overall": -0.176,
          "Overall_Sign": "Negative",
          "Per Capita Income": 45792,
          "Physical Environment": -0.182,
          "Poverty": 10.4,
          "Public Health Funding": 334,
          "Social and Economic Factors": 0.042,
          "State": "AK",
          "Suicide": 27.3,
          "Total Population": 733406,
          "Unemployment": 4.8,
          "Uninsured": 10.4
         },
         {
          "Air Pollution": 7.5,
          "Avoided Care Due to Cost": 13.5,
          "Cancer": 8.4,
          "Cannabis Use": 17.7,
          "Depression": 22.5,
          "Diabetes": 15.7,
          "Economic Hardship Index": 74,
          "Exercise": 25,
          "High Blood Pressure": 44.7,
          "High Cholesterol": 42.3,
          "High School Graduation": 88.2,
          "Homicide": 14.4,
          "Housing Cost Burden": 25.4,
          "Obesity": 39.2,
          "Overall": -0.599,
          "Overall_Sign": "Negative",
          "Per Capita Income": 35046,
          "Physical Environment": 0.423,
          "Poverty": 16,
          "Public Health Funding": 137,
          "Social and Economic Factors": -0.542,
          "State": "AL",
          "Suicide": 16.6,
          "Total Population": 5108468,
          "Unemployment": 4,
          "Uninsured": 8.5
         },
         {
          "Air Pollution": 8.4,
          "Avoided Care Due to Cost": 13.9,
          "Cancer": 8.4,
          "Cannabis Use": 24.4,
          "Depression": 24.2,
          "Diabetes": 14.5,
          "Economic Hardship Index": 82,
          "Exercise": 26.8,
          "High Blood Pressure": 42.5,
          "High Cholesterol": 40.2,
          "High School Graduation": 88.2,
          "Homicide": 11.2,
          "Housing Cost Burden": 25.2,
          "Obesity": 40,
          "Overall": -0.77,
          "Overall_Sign": "Negative",
          "Per Capita Income": 33012,
          "Physical Environment": 0.272,
          "Poverty": 16.3,
          "Public Health Funding": 128,
          "Social and Economic Factors": -0.971,
          "State": "AR",
          "Suicide": 18,
          "Total Population": 3067732,
          "Unemployment": 4.2,
          "Uninsured": 8.9
         },
         {
          "Air Pollution": 10.5,
          "Avoided Care Due to Cost": 12.1,
          "Cancer": 9.4,
          "Cannabis Use": 28.8,
          "Depression": 18,
          "Diabetes": 11.4,
          "Economic Hardship Index": 70,
          "Exercise": 33.3,
          "High Blood Pressure": 33.4,
          "High Cholesterol": 38.7,
          "High School Graduation": 77.3,
          "Homicide": 8.1,
          "Housing Cost Burden": 31,
          "Obesity": 31.9,
          "Overall": -0.06,
          "Overall_Sign": "Negative",
          "Per Capita Income": 41290,
          "Physical Environment": 0.022,
          "Poverty": 12.6,
          "Public Health Funding": 84,
          "Social and Economic Factors": 0.053,
          "State": "AZ",
          "Suicide": 21.8,
          "Total Population": 7431344,
          "Unemployment": 4.3,
          "Uninsured": 9.9
         },
         {
          "Air Pollution": 12.7,
          "Avoided Care Due to Cost": 10.7,
          "Cancer": 6.5,
          "Cannabis Use": 19.3,
          "Depression": 17,
          "Diabetes": 11.5,
          "Economic Hardship Index": 84,
          "Exercise": 30.1,
          "High Blood Pressure": 30.6,
          "High Cholesterol": 37,
          "High School Graduation": 87,
          "Homicide": 6.1,
          "Housing Cost Burden": 41.1,
          "Obesity": 27.7,
          "Overall": 0.052,
          "Overall_Sign": "Positive",
          "Per Capita Income": 48013,
          "Physical Environment": -0.558,
          "Poverty": 12,
          "Public Health Funding": 173,
          "Social and Economic Factors": -0.167,
          "State": "CA",
          "Suicide": 11,
          "Total Population": 38965193,
          "Unemployment": 5.5,
          "Uninsured": 6.4
         },
         {
          "Air Pollution": 6.6,
          "Avoided Care Due to Cost": 12.1,
          "Cancer": 8.1,
          "Cannabis Use": 20.8,
          "Depression": 21.4,
          "Diabetes": 8.6,
          "Economic Hardship Index": 12,
          "Exercise": 35.4,
          "High Blood Pressure": 27.3,
          "High Cholesterol": 32.5,
          "High School Graduation": 82.3,
          "Homicide": 6.7,
          "Housing Cost Burden": 34.1,
          "Obesity": 24.9,
          "Overall": 0.53,
          "Overall_Sign": "Positive",
          "Per Capita Income": 51768,
          "Physical Environment": 0.508,
          "Poverty": 9.7,
          "Public Health Funding": 132,
          "Social and Economic Factors": 0.669,
          "State": "CO",
          "Suicide": 22.1,
          "Total Population": 5877610,
          "Unemployment": 3.8,
          "Uninsured": 6.7
         },
         {
          "Air Pollution": 7.4,
          "Avoided Care Due to Cost": 8.9,
          "Cancer": 8,
          "Cannabis Use": 18.5,
          "Depression": 18.7,
          "Diabetes": 9.9,
          "Economic Hardship Index": 37,
          "Exercise": 31.4,
          "High Blood Pressure": 32,
          "High Cholesterol": 38.6,
          "High School Graduation": 88.9,
          "Homicide": 4.2,
          "Housing Cost Burden": 34.7,
          "Obesity": 29.4,
          "Overall": 0.627,
          "Overall_Sign": "Positive",
          "Per Capita Income": 53119,
          "Physical Environment": 0.467,
          "Poverty": 11.1,
          "Public Health Funding": 119,
          "Social and Economic Factors": 0.384,
          "State": "CT",
          "Suicide": 11,
          "Total Population": 3617176,
          "Unemployment": 4.6,
          "Uninsured": 5.7
         },
         {
          "Air Pollution": 8.2,
          "Avoided Care Due to Cost": 8.7,
          "Cancer": 10.2,
          "Cannabis Use": 23.8,
          "Depression": 20.1,
          "Diabetes": 13.3,
          "Economic Hardship Index": 48,
          "Exercise": 28.3,
          "High Blood Pressure": 37.8,
          "High Cholesterol": 43.6,
          "High School Graduation": 87.8,
          "Homicide": 8.3,
          "Housing Cost Burden": 27.8,
          "Obesity": 35.7,
          "Overall": 0.178,
          "Overall_Sign": "Positive",
          "Per Capita Income": 44350,
          "Physical Environment": 0.75,
          "Poverty": 10.5,
          "Public Health Funding": 149,
          "Social and Economic Factors": 0.276,
          "State": "DE",
          "Suicide": 12.8,
          "Total Population": 1031890,
          "Unemployment": 3.5,
          "Uninsured": 6.5
         },
         {
          "Air Pollution": 7.4,
          "Avoided Care Due to Cost": 12.9,
          "Cancer": 9.8,
          "Cannabis Use": 20.7,
          "Depression": 16.3,
          "Diabetes": 12.5,
          "Economic Hardship Index": 65,
          "Exercise": 31.5,
          "High Blood Pressure": 35.9,
          "High Cholesterol": 39.3,
          "High School Graduation": 87.3,
          "Homicide": 6.7,
          "Housing Cost Burden": 37.7,
          "Obesity": 30.1,
          "Overall": -0.015,
          "Overall_Sign": "Negative",
          "Per Capita Income": 41902,
          "Physical Environment": 0.368,
          "Poverty": 12.6,
          "Public Health Funding": 77,
          "Social and Economic Factors": 0.139,
          "State": "FL",
          "Suicide": 15.5,
          "Total Population": 22610726,
          "Unemployment": 4.1,
          "Uninsured": 10.7
         },
         {
          "Air Pollution": 8.7,
          "Avoided Care Due to Cost": 15.6,
          "Cancer": 7.1,
          "Cannabis Use": 19.1,
          "Depression": 17.7,
          "Diabetes": 12.7,
          "Economic Hardship Index": 59,
          "Exercise": 29.6,
          "High Blood Pressure": 35.7,
          "High Cholesterol": 36.9,
          "High School Graduation": 84.1,
          "Homicide": 11.2,
          "Housing Cost Burden": 30.9,
          "Obesity": 35,
          "Overall": -0.332,
          "Overall_Sign": "Negative",
          "Per Capita Income": 39685,
          "Physical Environment": 0.203,
          "Poverty": 13.7,
          "Public Health Funding": 122,
          "Social and Economic Factors": -0.219,
          "State": "GA",
          "Suicide": 14.9,
          "Total Population": 11029227,
          "Unemployment": 4.4,
          "Uninsured": 11.4
         },
         {
          "Air Pollution": 4.3,
          "Avoided Care Due to Cost": 6.7,
          "Cancer": 6.6,
          "Cannabis Use": 15.1,
          "Depression": 13.9,
          "Diabetes": 11.3,
          "Economic Hardship Index": 67,
          "Exercise": 31.8,
          "High Blood Pressure": 32.4,
          "High Cholesterol": 37.5,
          "High School Graduation": 86,
          "Homicide": 2.8,
          "Housing Cost Burden": 38.7,
          "Obesity": 26.1,
          "Overall": 0.552,
          "Overall_Sign": "Positive",
          "Per Capita Income": 43794,
          "Physical Environment": 0.253,
          "Poverty": 10.3,
          "Public Health Funding": 156,
          "Social and Economic Factors": 0.438,
          "State": "HI",
          "Suicide": 17.1,
          "Total Population": 1435138,
          "Unemployment": 3.5,
          "Uninsured": 3.2
         },
         {
          "Air Pollution": 7.9,
          "Avoided Care Due to Cost": 7.3,
          "Cancer": 8.9,
          "Cannabis Use": 19.9,
          "Depression": 19.2,
          "Diabetes": 11.3,
          "Economic Hardship Index": 41,
          "Exercise": 25.9,
          "High Blood Pressure": 34.5,
          "High Cholesterol": 36.7,
          "High School Graduation": 89.9,
          "Homicide": 2.9,
          "Housing Cost Burden": 24.3,
          "Obesity": 37.8,
          "Overall": 0.264,
          "Overall_Sign": "Positive",
          "Per Capita Income": 39518,
          "Physical Environment": 0.428,
          "Poverty": 11.6,
          "Public Health Funding": 105,
          "Social and Economic Factors": 0.464,
          "State": "IA",
          "Suicide": 18.4,
          "Total Population": 3207004,
          "Unemployment": 2.8,
          "Uninsured": 5
         },
         {
          "Air Pollution": 8.5,
          "Avoided Care Due to Cost": 11.3,
          "Cancer": 8.6,
          "Cannabis Use": 18.1,
          "Depression": 22.9,
          "Diabetes": 9.8,
          "Economic Hardship Index": 54,
          "Exercise": 29.4,
          "High Blood Pressure": 31.2,
          "High Cholesterol": 34.4,
          "High School Graduation": 79.9,
          "Homicide": 2.3,
          "Housing Cost Burden": 28,
          "Obesity": 31,
          "Overall": 0.255,
          "Overall_Sign": "Positive",
          "Per Capita Income": 37426,
          "Physical Environment": -0.278,
          "Poverty": 10.1,
          "Public Health Funding": 119,
          "Social and Economic Factors": 0.184,
          "State": "ID",
          "Suicide": 22.9,
          "Total Population": 1964726,
          "Unemployment": 3.6,
          "Uninsured": 8.9
         },
         {
          "Air Pollution": 9.8,
          "Avoided Care Due to Cost": 10.6,
          "Cancer": 7.5,
          "Cannabis Use": 23.6,
          "Depression": 18.1,
          "Diabetes": 12.2,
          "Economic Hardship Index": 52,
          "Exercise": 29.1,
          "High Blood Pressure": 33.5,
          "High Cholesterol": 36.3,
          "High School Graduation": 87.3,
          "Homicide": 11.1,
          "Housing Cost Burden": 29.4,
          "Obesity": 36,
          "Overall": 0.044,
          "Overall_Sign": "Positive",
          "Per Capita Income": 45043,
          "Physical Environment": 0.162,
          "Poverty": 12.3,
          "Public Health Funding": 110,
          "Social and Economic Factors": 0.018,
          "State": "IL",
          "Suicide": 12.2,
          "Total Population": 12549689,
          "Unemployment": 4.7,
          "Uninsured": 6.2
         },
         {
          "Air Pollution": 9.1,
          "Avoided Care Due to Cost": 10.4,
          "Cancer": 8.8,
          "Cannabis Use": 17.3,
          "Depression": 24.1,
          "Diabetes": 13.2,
          "Economic Hardship Index": 56,
          "Exercise": 29.3,
          "High Blood Pressure": 37.6,
          "High Cholesterol": 39.3,
          "High School Graduation": 87.7,
          "Homicide": 8.6,
          "Housing Cost Burden": 25.7,
          "Obesity": 37.8,
          "Overall": -0.214,
          "Overall_Sign": "Negative",
          "Per Capita Income": 37299,
          "Physical Environment": 0.145,
          "Poverty": 12.6,
          "Public Health Funding": 73,
          "Social and Economic Factors": -0.259,
          "State": "IN",
          "Suicide": 16.9,
          "Total Population": 6862199,
          "Unemployment": 3.6,
          "Uninsured": 6.9
         },
         {
          "Air Pollution": 8.8,
          "Avoided Care Due to Cost": 10.9,
          "Cancer": 8.6,
          "Cannabis Use": 16.9,
          "Depression": 21.1,
          "Diabetes": 11.4,
          "Economic Hardship Index": 51,
          "Exercise": 26.8,
          "High Blood Pressure": 34.7,
          "High Cholesterol": 38.5,
          "High School Graduation": 89.1,
          "Homicide": 5.8,
          "Housing Cost Burden": 26.6,
          "Obesity": 35.9,
          "Overall": 0.015,
          "Overall_Sign": "Positive",
          "Per Capita Income": 38361,
          "Physical Environment": -0.043,
          "Poverty": 11.7,
          "Public Health Funding": 95,
          "Social and Economic Factors": 0.248,
          "State": "KS",
          "Suicide": 20.3,
          "Total Population": 2940546,
          "Unemployment": 3.3,
          "Uninsured": 8.4
         },
         {
          "Air Pollution": 8.3,
          "Avoided Care Due to Cost": null,
          "Cancer": null,
          "Cannabis Use": 17.8,
          "Depression": null,
          "Diabetes": null,
          "Economic Hardship Index": 75,
          "Exercise": null,
          "High Blood Pressure": null,
          "High Cholesterol": null,
          "High School Graduation": 90.1,
          "Homicide": 8.4,
          "Housing Cost Burden": 25.9,
          "Obesity": null,
          "Overall": -0.36,
          "Overall_Sign": "Negative",
          "Per Capita Income": 34676,
          "Physical Environment": 0.5,
          "Poverty": 16.9,
          "Public Health Funding": 108,
          "Social and Economic Factors": -0.602,
          "State": "KY",
          "Suicide": 18.2,
          "Total Population": 4526154,
          "Unemployment": 4.1,
          "Uninsured": 5.4
         },
         {
          "Air Pollution": 7.8,
          "Avoided Care Due to Cost": 11.5,
          "Cancer": 7.7,
          "Cannabis Use": 16.2,
          "Depression": 25.7,
          "Diabetes": 16.1,
          "Economic Hardship Index": 97,
          "Exercise": 26.9,
          "High Blood Pressure": 43.3,
          "High Cholesterol": 39.5,
          "High School Graduation": 83.1,
          "Homicide": 19.6,
          "Housing Cost Burden": 30.3,
          "Obesity": 39.9,
          "Overall": -0.946,
          "Overall_Sign": "Negative",
          "Per Capita Income": 34102,
          "Physical Environment": -0.24,
          "Poverty": 19.4,
          "Public Health Funding": 130,
          "Social and Economic Factors": -1.192,
          "State": "LA",
          "Suicide": 15.8,
          "Total Population": 4573749,
          "Unemployment": 4.9,
          "Uninsured": 6.9
         },
         {
          "Air Pollution": 7.3,
          "Avoided Care Due to Cost": 7.1,
          "Cancer": 8.7,
          "Cannabis Use": 17.6,
          "Depression": 22.4,
          "Diabetes": 9.8,
          "Economic Hardship Index": 21,
          "Exercise": 31.1,
          "High Blood Pressure": 31,
          "High Cholesterol": 35.7,
          "High School Graduation": 90.1,
          "Homicide": 2.4,
          "Housing Cost Burden": 35.8,
          "Obesity": 27.4,
          "Overall": 0.746,
          "Overall_Sign": "Positive",
          "Per Capita Income": 55897,
          "Physical Environment": 0.152,
          "Poverty": 11.3,
          "Public Health Funding": 205,
          "Social and Economic Factors": 0.762,
          "State": "MA",
          "Suicide": 9,
          "Total Population": 7001399,
          "Unemployment": 3.9,
          "Uninsured": 2.6
         },
         {
          "Air Pollution": 6.8,
          "Avoided Care Due to Cost": 9.6,
          "Cancer": 7.6,
          "Cannabis Use": 19.3,
          "Depression": 17.4,
          "Diabetes": 12.2,
          "Economic Hardship Index": 34,
          "Exercise": 30.8,
          "High Blood Pressure": 35.8,
          "High Cholesterol": 39.3,
          "High School Graduation": 86.3,
          "Homicide": 11.1,
          "Housing Cost Burden": 31.8,
          "Obesity": 34.1,
          "Overall": 0.52,
          "Overall_Sign": "Positive",
          "Per Capita Income": 50728,
          "Physical Environment": 0.857,
          "Poverty": 10,
          "Public Health Funding": 210,
          "Social and Economic Factors": 0.436,
          "State": "MD",
          "Suicide": 9.9,
          "Total Population": 6180253,
          "Unemployment": 4,
          "Uninsured": 6.3
         },
         {
          "Air Pollution": 5.2,
          "Avoided Care Due to Cost": 8.7,
          "Cancer": 10.4,
          "Cannabis Use": 17.3,
          "Depression": 25.8,
          "Diabetes": 11.4,
          "Economic Hardship Index": 30,
          "Exercise": 31,
          "High Blood Pressure": 35.8,
          "High Cholesterol": 38.3,
          "High School Graduation": 86.1,
          "Homicide": 1.9,
          "Housing Cost Burden": 28.8,
          "Obesity": 32.6,
          "Overall": 0.495,
          "Overall_Sign": "Positive",
          "Per Capita Income": 42936,
          "Physical Environment": 0.833,
          "Poverty": 11.1,
          "Public Health Funding": 157,
          "Social and Economic Factors": 0.582,
          "State": "ME",
          "Suicide": 19.3,
          "Total Population": 1395722,
          "Unemployment": 3.2,
          "Uninsured": 5.9
         },
         {
          "Air Pollution": 8.8,
          "Avoided Care Due to Cost": 9.2,
          "Cancer": 9.3,
          "Cannabis Use": 27.2,
          "Depression": 24.1,
          "Diabetes": 12.4,
          "Economic Hardship Index": 60,
          "Exercise": 30.2,
          "High Blood Pressure": 37,
          "High Cholesterol": 35.6,
          "High School Graduation": 81,
          "Homicide": 8.1,
          "Housing Cost Burden": 27.3,
          "Obesity": 35.4,
          "Overall": -0.003,
          "Overall_Sign": "Negative",
          "Per Capita Income": 38952,
          "Physical Environment": 0.482,
          "Poverty": 13.8,
          "Public Health Funding": 79,
          "Social and Economic Factors": -0.225,
          "State": "MI",
          "Suicide": 15,
          "Total Population": 10037261,
          "Unemployment": 4.5,
          "Uninsured": 4.5
         },
         {
          "Air Pollution": 7.5,
          "Avoided Care Due to Cost": 8.6,
          "Cancer": 8.4,
          "Cannabis Use": 19.7,
          "Depression": 23.1,
          "Diabetes": 10.5,
          "Economic Hardship Index": 25,
          "Exercise": 30.2,
          "High Blood Pressure": 31.1,
          "High Cholesterol": 33.8,
          "High School Graduation": 83.6,
          "Homicide": 3.8,
          "Housing Cost Burden": 27.4,
          "Obesity": 33.3,
          "Overall": 0.644,
          "Overall_Sign": "Positive",
          "Per Capita Income": 46530,
          "Physical Environment": 0.697,
          "Poverty": 9.8,
          "Public Health Funding": 127,
          "Social and Economic Factors": 0.955,
          "State": "MN",
          "Suicide": 15,
          "Total Population": 5737915,
          "Unemployment": 3,
          "Uninsured": 4.2
         },
         {
          "Air Pollution": 7.5,
          "Avoided Care Due to Cost": 11.5,
          "Cancer": 8.6,
          "Cannabis Use": 23,
          "Depression": 23.1,
          "Diabetes": 12.3,
          "Economic Hardship Index": 49,
          "Exercise": 23.7,
          "High Blood Pressure": 36.2,
          "High Cholesterol": 38.5,
          "High School Graduation": 89.8,
          "Homicide": 11.8,
          "Housing Cost Burden": 25.5,
          "Obesity": 35.3,
          "Overall": -0.333,
          "Overall_Sign": "Negative",
          "Per Capita Income": 38699,
          "Physical Environment": 0.458,
          "Poverty": 12.5,
          "Public Health Funding": 92,
          "Social and Economic Factors": -0.152,
          "State": "MO",
          "Suicide": 19.7,
          "Total Population": 6196156,
          "Unemployment": 3.4,
          "Uninsured": 7.5
         },
         {
          "Air Pollution": 7.9,
          "Avoided Care Due to Cost": 14.1,
          "Cancer": 8.7,
          "Cannabis Use": 15.5,
          "Depression": 18.1,
          "Diabetes": 17,
          "Economic Hardship Index": 100,
          "Exercise": 23.4,
          "High Blood Pressure": 46,
          "High Cholesterol": 39.8,
          "High School Graduation": 88.9,
          "Homicide": 20.9,
          "Housing Cost Burden": 26.7,
          "Obesity": 40.1,
          "Overall": -0.936,
          "Overall_Sign": "Negative",
          "Per Capita Income": 30807,
          "Physical Environment": 0.138,
          "Poverty": 19.5,
          "Public Health Funding": 119,
          "Social and Economic Factors": -0.971,
          "State": "MS",
          "Suicide": 14.2,
          "Total Population": 2939690,
          "Unemployment": 4.8,
          "Uninsured": 10.3
         },
         {
          "Air Pollution": 7,
          "Avoided Care Due to Cost": 9.7,
          "Cancer": 10.5,
          "Cannabis Use": 24.4,
          "Depression": 24.4,
          "Diabetes": 9.4,
          "Economic Hardship Index": 39,
          "Exercise": 32.2,
          "High Blood Pressure": 32.2,
          "High Cholesterol": 34,
          "High School Graduation": 85.8,
          "Homicide": 4.6,
          "Housing Cost Burden": 28.9,
          "Obesity": 30.5,
          "Overall": 0.053,
          "Overall_Sign": "Positive",
          "Per Capita Income": 40197,
          "Physical Environment": 0.195,
          "Poverty": 12.2,
          "Public Health Funding": 143,
          "Social and Economic Factors": 0.104,
          "State": "MT",
          "Suicide": 29.3,
          "Total Population": 1132812,
          "Unemployment": 2.7,
          "Uninsured": 8.4
         },
         {
          "Air Pollution": 7.5,
          "Avoided Care Due to Cost": 10.7,
          "Cancer": 8,
          "Cannabis Use": 15.3,
          "Depression": 23.1,
          "Diabetes": 12.4,
          "Economic Hardship Index": 51,
          "Exercise": 26,
          "High Blood Pressure": 37.5,
          "High Cholesterol": 36.3,
          "High School Graduation": 86.4,
          "Homicide": 9.2,
          "Housing Cost Burden": 28,
          "Obesity": 34,
          "Overall": -0.009,
          "Overall_Sign": "Negative",
          "Per Capita Income": 40414,
          "Physical Environment": 0.853,
          "Poverty": 12.8,
          "Public Health Funding": 78,
          "Social and Economic Factors": 0.09,
          "State": "NC",
          "Suicide": 15.1,
          "Total Population": 10835491,
          "Unemployment": 4,
          "Uninsured": 9.2
         },
         {
          "Air Pollution": 6.2,
          "Avoided Care Due to Cost": 8.3,
          "Cancer": 7.9,
          "Cannabis Use": 17.1,
          "Depression": 22.3,
          "Diabetes": 9.5,
          "Economic Hardship Index": 27,
          "Exercise": 30.9,
          "High Blood Pressure": 31.8,
          "High Cholesterol": 35.1,
          "High School Graduation": 85.1,
          "Homicide": 3.3,
          "Housing Cost Burden": 22.3,
          "Obesity": 35.6,
          "Overall": 0.351,
          "Overall_Sign": "Positive",
          "Per Capita Income": 42814,
          "Physical Environment": 0.83,
          "Poverty": 11.1,
          "Public Health Funding": 162,
          "Social and Economic Factors": 0.444,
          "State": "ND",
          "Suicide": 21.7,
          "Total Population": 783926,
          "Unemployment": 2.9,
          "Uninsured": 4.5
         },
         {
          "Air Pollution": 6.2,
          "Avoided Care Due to Cost": 8.8,
          "Cancer": 8.1,
          "Cannabis Use": 17.1,
          "Depression": 17.9,
          "Diabetes": 10.6,
          "Economic Hardship Index": 41,
          "Exercise": 28.2,
          "High Blood Pressure": 32.7,
          "High Cholesterol": 34,
          "High School Graduation": 87.1,
          "Homicide": 3.6,
          "Housing Cost Burden": 26.4,
          "Obesity": 36.6,
          "Overall": 0.239,
          "Overall_Sign": "Positive",
          "Per Capita Income": 41436,
          "Physical Environment": 0.187,
          "Poverty": 11.5,
          "Public Health Funding": 118,
          "Social and Economic Factors": 0.478,
          "State": "NE",
          "Suicide": 15.5,
          "Total Population": 1978379,
          "Unemployment": 2.7,
          "Uninsured": 6.1
         },
         {
          "Air Pollution": 4.9,
          "Avoided Care Due to Cost": 7.7,
          "Cancer": 10.2,
          "Cannabis Use": 21.1,
          "Depression": 22,
          "Diabetes": 9.8,
          "Economic Hardship Index": 1,
          "Exercise": 33.1,
          "High Blood Pressure": 33.3,
          "High Cholesterol": 35.8,
          "High School Graduation": 87.7,
          "Homicide": 1.4,
          "Housing Cost Burden": 31.5,
          "Obesity": 32.8,
          "Overall": 0.857,
          "Overall_Sign": "Positive",
          "Per Capita Income": 51587,
          "Physical Environment": 0.497,
          "Poverty": 8.3,
          "Public Health Funding": 109,
          "Social and Economic Factors": 0.998,
          "State": "NH",
          "Suicide": 17.7,
          "Total Population": 1402054,
          "Unemployment": 2.6,
          "Uninsured": 4.7
         },
         {
          "Air Pollution": 7.4,
          "Avoided Care Due to Cost": 10.8,
          "Cancer": 6.9,
          "Cannabis Use": 16.6,
          "Depression": 13.9,
          "Diabetes": 10.5,
          "Economic Hardship Index": 45,
          "Exercise": 31.3,
          "High Blood Pressure": 33.4,
          "High Cholesterol": 39.1,
          "High School Graduation": 85.2,
          "Homicide": 4,
          "Housing Cost Burden": 35.6,
          "Obesity": 28.9,
          "Overall": 0.425,
          "Overall_Sign": "Positive",
          "Per Capita Income": 52583,
          "Physical Environment": -0.068,
          "Poverty": 10.2,
          "Public Health Funding": 95,
          "Social and Economic Factors": 0.527,
          "State": "NJ",
          "Suicide": 8.3,
          "Total Population": 9290841,
          "Unemployment": 4.7,
          "Uninsured": 7.2
         },
         {
          "Air Pollution": 6.7,
          "Avoided Care Due to Cost": 10.7,
          "Cancer": 7.7,
          "Cannabis Use": 32.7,
          "Depression": 23,
          "Diabetes": 12.5,
          "Economic Hardship Index": 97,
          "Exercise": 30.4,
          "High Blood Pressure": 34.1,
          "High Cholesterol": 35.4,
          "High School Graduation": null,
          "Homicide": 14.1,
          "Housing Cost Burden": 28.1,
          "Obesity": 35.3,
          "Overall": -0.442,
          "Overall_Sign": "Negative",
          "Per Capita Income": 35510,
          "Physical Environment": 0.267,
          "Poverty": 17.2,
          "Public Health Funding": 300,
          "Social and Economic Factors": -0.989,
          "State": "NM",
          "Suicide": 24.8,
          "Total Population": 2114371,
          "Unemployment": 4.8,
          "Uninsured": 9.1
         },
         {
          "Air Pollution": 9.8,
          "Avoided Care Due to Cost": 15.2,
          "Cancer": 8.3,
          "Cannabis Use": 40.4,
          "Depression": 20.7,
          "Diabetes": 11.9,
          "Economic Hardship Index": 69,
          "Exercise": 31,
          "High Blood Pressure": 34,
          "High Cholesterol": 39.3,
          "High School Graduation": 81.7,
          "Homicide": 8,
          "Housing Cost Burden": 36,
          "Obesity": 30.8,
          "Overall": -0.492,
          "Overall_Sign": "Negative",
          "Per Capita Income": 40463,
          "Physical Environment": -0.053,
          "Poverty": 11.9,
          "Public Health Funding": 66,
          "Social and Economic Factors": -0.239,
          "State": "NV",
          "Suicide": 22,
          "Total Population": 3194176,
          "Unemployment": 4.6,
          "Uninsured": 10.8
         },
         {
          "Air Pollution": 6.9,
          "Avoided Care Due to Cost": 9.7,
          "Cancer": 7.7,
          "Cannabis Use": 19.7,
          "Depression": 16.4,
          "Diabetes": 10.6,
          "Economic Hardship Index": 71,
          "Exercise": 30.8,
          "High Blood Pressure": 32.1,
          "High Cholesterol": 38.5,
          "High School Graduation": 86.7,
          "Homicide": 4.5,
          "Housing Cost Burden": 37.4,
          "Obesity": 28,
          "Overall": 0.088,
          "Overall_Sign": "Positive",
          "Per Capita Income": 48847,
          "Physical Environment": -0.043,
          "Poverty": 14.5,
          "Public Health Funding": 178,
          "Social and Economic Factors": -0.326,
          "State": "NY",
          "Suicide": 9,
          "Total Population": 19571216,
          "Unemployment": 5,
          "Uninsured": 4.8
         },
         {
          "Air Pollution": 8.6,
          "Avoided Care Due to Cost": 9.5,
          "Cancer": 8.7,
          "Cannabis Use": 24.6,
          "Depression": 25,
          "Diabetes": 13.2,
          "Economic Hardship Index": 56,
          "Exercise": 30.6,
          "High Blood Pressure": 37.1,
          "High Cholesterol": 37.4,
          "High School Graduation": 86.2,
          "Homicide": 8.3,
          "Housing Cost Burden": 26.6,
          "Obesity": 36.4,
          "Overall": -0.151,
          "Overall_Sign": "Negative",
          "Per Capita Income": 39395,
          "Physical Environment": 0.282,
          "Poverty": 13.6,
          "Public Health Funding": 97,
          "Social and Economic Factors": -0.002,
          "State": "OH",
          "Suicide": 15.3,
          "Total Population": 11785935,
          "Unemployment": 4,
          "Uninsured": 6.1
         },
         {
          "Air Pollution": 8.8,
          "Avoided Care Due to Cost": 13.3,
          "Cancer": 7.7,
          "Cannabis Use": 23.3,
          "Depression": 25,
          "Diabetes": 12.4,
          "Economic Hardship Index": 83,
          "Exercise": 23.4,
          "High Blood Pressure": 38.4,
          "High Cholesterol": 39.2,
          "High School Graduation": null,
          "Homicide": 8.2,
          "Housing Cost Burden": 27.7,
          "Obesity": 38.7,
          "Overall": -0.722,
          "Overall_Sign": "Negative",
          "Per Capita Income": 34206,
          "Physical Environment": -0.39,
          "Poverty": 16.1,
          "Public Health Funding": 143,
          "Social and Economic Factors": -0.74,
          "State": "OK",
          "Suicide": 21.3,
          "Total Population": 4053824,
          "Unemployment": 4.6,
          "Uninsured": 11.4
         },
         {
          "Air Pollution": 8.9,
          "Avoided Care Due to Cost": 10.2,
          "Cancer": 10,
          "Cannabis Use": 30.3,
          "Depression": 25.8,
          "Diabetes": 10.9,
          "Economic Hardship Index": 46,
          "Exercise": 32.4,
          "High Blood Pressure": 33.5,
          "High Cholesterol": 34.2,
          "High School Graduation": 81.3,
          "Homicide": 4.9,
          "Housing Cost Burden": 35,
          "Obesity": 33.6,
          "Overall": 0.228,
          "Overall_Sign": "Positive",
          "Per Capita Income": 44623,
          "Physical Environment": -0.098,
          "Poverty": 12.2,
          "Public Health Funding": 191,
          "Social and Economic Factors": 0.202,
          "State": "OR",
          "Suicide": 20.8,
          "Total Population": 4233358,
          "Unemployment": 4.1,
          "Uninsured": 5.5
         },
         {
          "Air Pollution": 9,
          "Avoided Care Due to Cost": null,
          "Cancer": null,
          "Cannabis Use": 18.2,
          "Depression": null,
          "Diabetes": null,
          "Economic Hardship Index": 50,
          "Exercise": null,
          "High Blood Pressure": null,
          "High Cholesterol": null,
          "High School Graduation": 87,
          "Homicide": 8.4,
          "Housing Cost Burden": 28.2,
          "Obesity": null,
          "Overall": 0.148,
          "Overall_Sign": "Positive",
          "Per Capita Income": 42605,
          "Physical Environment": 0.038,
          "Poverty": 12.5,
          "Public Health Funding": 79,
          "Social and Economic Factors": 0.158,
          "State": "PA",
          "Suicide": 15.1,
          "Total Population": 12961683,
          "Unemployment": 4.2,
          "Uninsured": 5.4
         },
         {
          "Air Pollution": 6.6,
          "Avoided Care Due to Cost": 8.3,
          "Cancer": 8.2,
          "Cannabis Use": 23.7,
          "Depression": 21.7,
          "Diabetes": 11.8,
          "Economic Hardship Index": 47,
          "Exercise": 29.9,
          "High Blood Pressure": 34,
          "High Cholesterol": 35,
          "High School Graduation": 83.3,
          "Homicide": 2.8,
          "Housing Cost Burden": 32.3,
          "Obesity": 31.6,
          "Overall": 0.55,
          "Overall_Sign": "Positive",
          "Per Capita Income": 46525,
          "Physical Environment": 0.198,
          "Poverty": 12.2,
          "Public Health Funding": 333,
          "Social and Economic Factors": 0.432,
          "State": "RI",
          "Suicide": 11.5,
          "Total Population": 1095962,
          "Unemployment": 4.8,
          "Uninsured": 4.5
         },
         {
          "Air Pollution": 8.1,
          "Avoided Care Due to Cost": 12.8,
          "Cancer": 9.6,
          "Cannabis Use": 16.7,
          "Depression": 21.9,
          "Diabetes": 14.9,
          "Economic Hardship Index": 68,
          "Exercise": 31.6,
          "High Blood Pressure": 38.9,
          "High Cholesterol": 39.3,
          "High School Graduation": 83.8,
          "Homicide": 11.9,
          "Housing Cost Burden": 26.4,
          "Obesity": 36,
          "Overall": -0.256,
          "Overall_Sign": "Negative",
          "Per Capita Income": 38097,
          "Physical Environment": 0.608,
          "Poverty": 14.3,
          "Public Health Funding": 102,
          "Social and Economic Factors": -0.272,
          "State": "SC",
          "Suicide": 16.1,
          "Total Population": 5373555,
          "Unemployment": 4.3,
          "Uninsured": 9.1
         },
         {
          "Air Pollution": 5.9,
          "Avoided Care Due to Cost": 10.3,
          "Cancer": 8.7,
          "Cannabis Use": 13.8,
          "Depression": 23.1,
          "Diabetes": 11.8,
          "Economic Hardship Index": 43,
          "Exercise": 26.5,
          "High Blood Pressure": 35.2,
          "High Cholesterol": 35.5,
          "High School Graduation": 82.1,
          "Homicide": 5.6,
          "Housing Cost Burden": 24.6,
          "Obesity": 36,
          "Overall": 0.171,
          "Overall_Sign": "Positive",
          "Per Capita Income": 40263,
          "Physical Environment": 0.807,
          "Poverty": 11.6,
          "Public Health Funding": 136,
          "Social and Economic Factors": 0.326,
          "State": "SD",
          "Suicide": 21.1,
          "Total Population": 919318,
          "Unemployment": 2.6,
          "Uninsured": 8.3
         },
         {
          "Air Pollution": 7.7,
          "Avoided Care Due to Cost": 14.9,
          "Cancer": 8.8,
          "Cannabis Use": 17.8,
          "Depression": 27.3,
          "Diabetes": 14.5,
          "Economic Hardship Index": 60,
          "Exercise": 27.4,
          "High Blood Pressure": 40.7,
          "High Cholesterol": 40.6,
          "High School Graduation": 90.4,
          "Homicide": 11,
          "Housing Cost Burden": 27.3,
          "Obesity": 37.6,
          "Overall": -0.576,
          "Overall_Sign": "Negative",
          "Per Capita Income": 38538,
          "Physical Environment": 0.55,
          "Poverty": 14.2,
          "Public Health Funding": 132,
          "Social and Economic Factors": -0.394,
          "State": "TN",
          "Suicide": 17.7,
          "Total Population": 7126489,
          "Unemployment": 4,
          "Uninsured": 9.3
         },
         {
          "Air Pollution": 9.1,
          "Avoided Care Due to Cost": 18.3,
          "Cancer": 5.6,
          "Cannabis Use": 13.8,
          "Depression": 19.7,
          "Diabetes": 12.7,
          "Economic Hardship Index": 74,
          "Exercise": 30.9,
          "High Blood Pressure": 32.3,
          "High Cholesterol": 36.3,
          "High School Graduation": 89.7,
          "Homicide": 7.8,
          "Housing Cost Burden": 33.4,
          "Obesity": 34.4,
          "Overall": -0.353,
          "Overall_Sign": "Negative",
          "Per Capita Income": 39775,
          "Physical Environment": -0.135,
          "Poverty": 13.3,
          "Public Health Funding": 78,
          "Social and Economic Factors": -0.5,
          "State": "TX",
          "Suicide": 14.5,
          "Total Population": 30503301,
          "Unemployment": 4.4,
          "Uninsured": 16.4
         },
         {
          "Air Pollution": 8.2,
          "Avoided Care Due to Cost": 11.6,
          "Cancer": 8,
          "Cannabis Use": 16.3,
          "Depression": 26.1,
          "Diabetes": 7.8,
          "Economic Hardship Index": 36,
          "Exercise": 33.1,
          "High Blood Pressure": 27.3,
          "High Cholesterol": 31.2,
          "High School Graduation": 88.2,
          "Homicide": 2.4,
          "Housing Cost Burden": 28.3,
          "Obesity": 30.2,
          "Overall": 0.618,
          "Overall_Sign": "Positive",
          "Per Capita Income": 40096,
          "Physical Environment": 0.13,
          "Poverty": 9.2,
          "Public Health Funding": 95,
          "Social and Economic Factors": 0.752,
          "State": "UT",
          "Suicide": 21.2,
          "Total Population": 3417734,
          "Unemployment": 3.3,
          "Uninsured": 8
         },
         {
          "Air Pollution": 6.9,
          "Avoided Care Due to Cost": 9.2,
          "Cancer": 8.1,
          "Cannabis Use": 14.3,
          "Depression": 20.4,
          "Diabetes": 11.8,
          "Economic Hardship Index": 31,
          "Exercise": 31.8,
          "High Blood Pressure": 35.6,
          "High Cholesterol": 39.3,
          "High School Graduation": 89.1,
          "Homicide": 7.3,
          "Housing Cost Burden": 28.8,
          "Obesity": 34.3,
          "Overall": 0.344,
          "Overall_Sign": "Positive",
          "Per Capita Income": 48689,
          "Physical Environment": 0.87,
          "Poverty": 10.7,
          "Public Health Funding": 107,
          "Social and Economic Factors": 0.468,
          "State": "VA",
          "Suicide": 13.9,
          "Total Population": 8715698,
          "Unemployment": 3.7,
          "Uninsured": 6.4
         },
         {
          "Air Pollution": 5.9,
          "Avoided Care Due to Cost": 7,
          "Cancer": 10.3,
          "Cannabis Use": 9.6,
          "Depression": 25.8,
          "Diabetes": 9.3,
          "Economic Hardship Index": 18,
          "Exercise": 33.7,
          "High Blood Pressure": 32.5,
          "High Cholesterol": 33,
          "High School Graduation": 82.8,
          "Homicide": 2.2,
          "Housing Cost Burden": 30.4,
          "Obesity": 28.8,
          "Overall": 0.81,
          "Overall_Sign": "Positive",
          "Per Capita Income": 46029,
          "Physical Environment": 0.457,
          "Poverty": 11,
          "Public Health Funding": 206,
          "Social and Economic Factors": 0.717,
          "State": "VT",
          "Suicide": 19.8,
          "Total Population": 647464,
          "Unemployment": 2.6,
          "Uninsured": 3.4
         },
         {
          "Air Pollution": 8.2,
          "Avoided Care Due to Cost": 9.7,
          "Cancer": 8.2,
          "Cannabis Use": 21.2,
          "Depression": 23.8,
          "Diabetes": 9.6,
          "Economic Hardship Index": 33,
          "Exercise": 31.8,
          "High Blood Pressure": 30.6,
          "High Cholesterol": 36.2,
          "High School Graduation": 83.6,
          "Homicide": 5,
          "Housing Cost Burden": 33.4,
          "Obesity": 30.6,
          "Overall": 0.607,
          "Overall_Sign": "Positive",
          "Per Capita Income": 52011,
          "Physical Environment": 0.382,
          "Poverty": 10.4,
          "Public Health Funding": 139,
          "Social and Economic Factors": 0.721,
          "State": "WA",
          "Suicide": 16,
          "Total Population": 7812880,
          "Unemployment": 4.5,
          "Uninsured": 6.3
         },
         {
          "Air Pollution": 8,
          "Avoided Care Due to Cost": 8.4,
          "Cancer": 8.7,
          "Cannabis Use": 18.9,
          "Depression": 22.6,
          "Diabetes": 11.3,
          "Economic Hardship Index": 30,
          "Exercise": 27.5,
          "High Blood Pressure": 33.1,
          "High Cholesterol": 35.3,
          "High School Graduation": 90.3,
          "Homicide": 5.7,
          "Housing Cost Burden": 26.4,
          "Obesity": 35.9,
          "Overall": 0.222,
          "Overall_Sign": "Positive",
          "Per Capita Income": 41785,
          "Physical Environment": 0.487,
          "Poverty": 11.1,
          "Public Health Funding": 69,
          "Social and Economic Factors": 0.434,
          "State": "WI",
          "Suicide": 15.7,
          "Total Population": 5910955,
          "Unemployment": 2.8,
          "Uninsured": 4.9
         },
         {
          "Air Pollution": 7.5,
          "Avoided Care Due to Cost": 12.5,
          "Cancer": 10.2,
          "Cannabis Use": 25.2,
          "Depression": 31.1,
          "Diabetes": 18.2,
          "Economic Hardship Index": 87,
          "Exercise": 20.6,
          "High Blood Pressure": 45.1,
          "High Cholesterol": 45,
          "High School Graduation": 91.2,
          "Homicide": 6.2,
          "Housing Cost Burden": 20.9,
          "Obesity": 41.2,
          "Overall": -0.683,
          "Overall_Sign": "Negative",
          "Per Capita Income": 32766,
          "Physical Environment": 0.182,
          "Poverty": 17.2,
          "Public Health Funding": 161,
          "Social and Economic Factors": -0.795,
          "State": "WV",
          "Suicide": 19.9,
          "Total Population": 1770071,
          "Unemployment": 4.5,
          "Uninsured": 5.9
         },
         {
          "Air Pollution": 4.7,
          "Avoided Care Due to Cost": 12,
          "Cancer": 8.8,
          "Cannabis Use": 23.1,
          "Depression": 21.1,
          "Diabetes": 10.8,
          "Economic Hardship Index": 44,
          "Exercise": 30.1,
          "High Blood Pressure": 31.5,
          "High Cholesterol": 33.8,
          "High School Graduation": 81.8,
          "Homicide": 2.8,
          "Housing Cost Burden": 26,
          "Obesity": 33.3,
          "Overall": -0.03,
          "Overall_Sign": "Negative",
          "Per Capita Income": 39966,
          "Physical Environment": 0.488,
          "Poverty": 11.6,
          "Public Health Funding": 123,
          "Social and Economic Factors": 0.156,
          "State": "WY",
          "Suicide": 26.7,
          "Total Population": 584057,
          "Unemployment": 3.2,
          "Uninsured": 10.7
         }
        ]
       },
       "encoding": {
        "color": {
         "field": "Overall_Sign",
         "legend": null,
         "scale": {
          "domain": [
           "Positive",
           "Negative"
          ],
          "range": [
           "steelblue",
           "darkred"
          ]
         },
         "type": "nominal"
        },
        "tooltip": [
         {
          "field": "State",
          "type": "nominal"
         },
         {
          "field": "Overall",
          "type": "quantitative"
         },
         {
          "field": "Uninsured",
          "format": ".1f",
          "title": "Uninsured (%)",
          "type": "quantitative"
         }
        ],
        "x": {
         "field": "Overall",
         "title": "Overall Health Score",
         "type": "quantitative"
        },
        "y": {
         "field": "State",
         "sort": "-x",
         "title": "State",
         "type": "nominal"
        }
       },
       "height": 600,
       "mark": {
        "type": "bar"
       },
       "title": "Overall Health Score by State Ranking",
       "width": 800
      },
      "image/png": "[encoded data removed]",
      "text/plain": [
       "<VegaLite 5 object>\n",
       "\n",
       "If you see this message, it means the renderer has not been properly enabled\n",
       "for the frontend that you are using. For more information, see\n",
       "https://altair-viz.github.io/user_guide/display_frontends.html#troubleshooting\n"
      ]
     },
     "execution_count": 67,
     "metadata": {},
     "output_type": "execute_result"
    }
   ],
   "source": [
    "import altair as alt\n",
    "\n",
    "selected[\"Overall_Sign\"] = selected[\"Overall\"].apply(lambda x: \"Positive\" if x >= 0 else \"Negative\")\n",
    "\n",
    "alt.Chart(selected).mark_bar().encode(\n",
    "    x=alt.X(\"Overall:Q\", title=\"Overall Health Score\"),\n",
    "    y=alt.Y(\"State:N\", sort='-x', title=\"State\"),\n",
    "    color=alt.Color(\"Overall_Sign:N\",\n",
    "                    scale=alt.Scale(domain=[\"Positive\", \"Negative\"], range=[\"steelblue\", \"darkred\"]),\n",
    "                    legend=None),\n",
    "    tooltip=[    alt.Tooltip(\"State:N\"),\n",
    "    alt.Tooltip(\"Overall:Q\"),\n",
    "    alt.Tooltip(\"Uninsured:Q\", title=\"Uninsured (%)\", format=\".1f\")\n",
    "]\n",
    ").properties(\n",
    "    width=800,\n",
    "    height=600,\n",
    "    title=\"Overall Health Score by State Ranking\"\n",
    ")\n"
   ]
  },
  {
   "cell_type": "code",
   "execution_count": 68,
   "id": "a0f8eca4-261f-4afe-b7a3-c4147f20aece",
   "metadata": {},
   "outputs": [
    {
     "data": {
      "application/vnd.vegalite.v5+json": {
       "$schema": "https://vega.github.io/schema/vega-lite/v5.20.1.json",
       "config": {
        "view": {
         "continuousHeight": 300,
         "continuousWidth": 300
        }
       },
       "data": {
        "format": {
         "feature": "states",
         "type": "topojson"
        },
        "url": "https://cdn.jsdelivr.net/npm/vega-datasets@v1.29.0/data/us-10m.json"
       },
       "datasets": {
        "data-18f3f2eeabfc02ef8ba381b486e696d2": [
         {
          "Air Pollution": 6.3,
          "Avoided Care Due to Cost": 11.1,
          "Cancer": 7.3,
          "Cannabis Use": 20,
          "Depression": 19.5,
          "Diabetes": 8.7,
          "Economic Hardship Index": 47,
          "Exercise": 33.9,
          "High Blood Pressure": 33.8,
          "High Cholesterol": 34.2,
          "High School Graduation": 77.8,
          "Homicide": 8.5,
          "Housing Cost Burden": 28.2,
          "Obesity": 35.2,
          "Overall": -0.176,
          "Overall_Sign": "Negative",
          "Per Capita Income": 45792,
          "Physical Environment": -0.182,
          "Poverty": 10.4,
          "Public Health Funding": 334,
          "Social and Economic Factors": 0.042,
          "State": "AK",
          "Suicide": 27.3,
          "Total Population": 733406,
          "Unemployment": 4.8,
          "Uninsured": 10.4,
          "id": 2
         },
         {
          "Air Pollution": 7.5,
          "Avoided Care Due to Cost": 13.5,
          "Cancer": 8.4,
          "Cannabis Use": 17.7,
          "Depression": 22.5,
          "Diabetes": 15.7,
          "Economic Hardship Index": 74,
          "Exercise": 25,
          "High Blood Pressure": 44.7,
          "High Cholesterol": 42.3,
          "High School Graduation": 88.2,
          "Homicide": 14.4,
          "Housing Cost Burden": 25.4,
          "Obesity": 39.2,
          "Overall": -0.599,
          "Overall_Sign": "Negative",
          "Per Capita Income": 35046,
          "Physical Environment": 0.423,
          "Poverty": 16,
          "Public Health Funding": 137,
          "Social and Economic Factors": -0.542,
          "State": "AL",
          "Suicide": 16.6,
          "Total Population": 5108468,
          "Unemployment": 4,
          "Uninsured": 8.5,
          "id": 1
         },
         {
          "Air Pollution": 8.4,
          "Avoided Care Due to Cost": 13.9,
          "Cancer": 8.4,
          "Cannabis Use": 24.4,
          "Depression": 24.2,
          "Diabetes": 14.5,
          "Economic Hardship Index": 82,
          "Exercise": 26.8,
          "High Blood Pressure": 42.5,
          "High Cholesterol": 40.2,
          "High School Graduation": 88.2,
          "Homicide": 11.2,
          "Housing Cost Burden": 25.2,
          "Obesity": 40,
          "Overall": -0.77,
          "Overall_Sign": "Negative",
          "Per Capita Income": 33012,
          "Physical Environment": 0.272,
          "Poverty": 16.3,
          "Public Health Funding": 128,
          "Social and Economic Factors": -0.971,
          "State": "AR",
          "Suicide": 18,
          "Total Population": 3067732,
          "Unemployment": 4.2,
          "Uninsured": 8.9,
          "id": 5
         },
         {
          "Air Pollution": 10.5,
          "Avoided Care Due to Cost": 12.1,
          "Cancer": 9.4,
          "Cannabis Use": 28.8,
          "Depression": 18,
          "Diabetes": 11.4,
          "Economic Hardship Index": 70,
          "Exercise": 33.3,
          "High Blood Pressure": 33.4,
          "High Cholesterol": 38.7,
          "High School Graduation": 77.3,
          "Homicide": 8.1,
          "Housing Cost Burden": 31,
          "Obesity": 31.9,
          "Overall": -0.06,
          "Overall_Sign": "Negative",
          "Per Capita Income": 41290,
          "Physical Environment": 0.022,
          "Poverty": 12.6,
          "Public Health Funding": 84,
          "Social and Economic Factors": 0.053,
          "State": "AZ",
          "Suicide": 21.8,
          "Total Population": 7431344,
          "Unemployment": 4.3,
          "Uninsured": 9.9,
          "id": 4
         },
         {
          "Air Pollution": 12.7,
          "Avoided Care Due to Cost": 10.7,
          "Cancer": 6.5,
          "Cannabis Use": 19.3,
          "Depression": 17,
          "Diabetes": 11.5,
          "Economic Hardship Index": 84,
          "Exercise": 30.1,
          "High Blood Pressure": 30.6,
          "High Cholesterol": 37,
          "High School Graduation": 87,
          "Homicide": 6.1,
          "Housing Cost Burden": 41.1,
          "Obesity": 27.7,
          "Overall": 0.052,
          "Overall_Sign": "Positive",
          "Per Capita Income": 48013,
          "Physical Environment": -0.558,
          "Poverty": 12,
          "Public Health Funding": 173,
          "Social and Economic Factors": -0.167,
          "State": "CA",
          "Suicide": 11,
          "Total Population": 38965193,
          "Unemployment": 5.5,
          "Uninsured": 6.4,
          "id": 6
         },
         {
          "Air Pollution": 6.6,
          "Avoided Care Due to Cost": 12.1,
          "Cancer": 8.1,
          "Cannabis Use": 20.8,
          "Depression": 21.4,
          "Diabetes": 8.6,
          "Economic Hardship Index": 12,
          "Exercise": 35.4,
          "High Blood Pressure": 27.3,
          "High Cholesterol": 32.5,
          "High School Graduation": 82.3,
          "Homicide": 6.7,
          "Housing Cost Burden": 34.1,
          "Obesity": 24.9,
          "Overall": 0.53,
          "Overall_Sign": "Positive",
          "Per Capita Income": 51768,
          "Physical Environment": 0.508,
          "Poverty": 9.7,
          "Public Health Funding": 132,
          "Social and Economic Factors": 0.669,
          "State": "CO",
          "Suicide": 22.1,
          "Total Population": 5877610,
          "Unemployment": 3.8,
          "Uninsured": 6.7,
          "id": 8
         },
         {
          "Air Pollution": 7.4,
          "Avoided Care Due to Cost": 8.9,
          "Cancer": 8,
          "Cannabis Use": 18.5,
          "Depression": 18.7,
          "Diabetes": 9.9,
          "Economic Hardship Index": 37,
          "Exercise": 31.4,
          "High Blood Pressure": 32,
          "High Cholesterol": 38.6,
          "High School Graduation": 88.9,
          "Homicide": 4.2,
          "Housing Cost Burden": 34.7,
          "Obesity": 29.4,
          "Overall": 0.627,
          "Overall_Sign": "Positive",
          "Per Capita Income": 53119,
          "Physical Environment": 0.467,
          "Poverty": 11.1,
          "Public Health Funding": 119,
          "Social and Economic Factors": 0.384,
          "State": "CT",
          "Suicide": 11,
          "Total Population": 3617176,
          "Unemployment": 4.6,
          "Uninsured": 5.7,
          "id": 9
         },
         {
          "Air Pollution": 8.2,
          "Avoided Care Due to Cost": 8.7,
          "Cancer": 10.2,
          "Cannabis Use": 23.8,
          "Depression": 20.1,
          "Diabetes": 13.3,
          "Economic Hardship Index": 48,
          "Exercise": 28.3,
          "High Blood Pressure": 37.8,
          "High Cholesterol": 43.6,
          "High School Graduation": 87.8,
          "Homicide": 8.3,
          "Housing Cost Burden": 27.8,
          "Obesity": 35.7,
          "Overall": 0.178,
          "Overall_Sign": "Positive",
          "Per Capita Income": 44350,
          "Physical Environment": 0.75,
          "Poverty": 10.5,
          "Public Health Funding": 149,
          "Social and Economic Factors": 0.276,
          "State": "DE",
          "Suicide": 12.8,
          "Total Population": 1031890,
          "Unemployment": 3.5,
          "Uninsured": 6.5,
          "id": 10
         },
         {
          "Air Pollution": 7.4,
          "Avoided Care Due to Cost": 12.9,
          "Cancer": 9.8,
          "Cannabis Use": 20.7,
          "Depression": 16.3,
          "Diabetes": 12.5,
          "Economic Hardship Index": 65,
          "Exercise": 31.5,
          "High Blood Pressure": 35.9,
          "High Cholesterol": 39.3,
          "High School Graduation": 87.3,
          "Homicide": 6.7,
          "Housing Cost Burden": 37.7,
          "Obesity": 30.1,
          "Overall": -0.015,
          "Overall_Sign": "Negative",
          "Per Capita Income": 41902,
          "Physical Environment": 0.368,
          "Poverty": 12.6,
          "Public Health Funding": 77,
          "Social and Economic Factors": 0.139,
          "State": "FL",
          "Suicide": 15.5,
          "Total Population": 22610726,
          "Unemployment": 4.1,
          "Uninsured": 10.7,
          "id": 12
         },
         {
          "Air Pollution": 8.7,
          "Avoided Care Due to Cost": 15.6,
          "Cancer": 7.1,
          "Cannabis Use": 19.1,
          "Depression": 17.7,
          "Diabetes": 12.7,
          "Economic Hardship Index": 59,
          "Exercise": 29.6,
          "High Blood Pressure": 35.7,
          "High Cholesterol": 36.9,
          "High School Graduation": 84.1,
          "Homicide": 11.2,
          "Housing Cost Burden": 30.9,
          "Obesity": 35,
          "Overall": -0.332,
          "Overall_Sign": "Negative",
          "Per Capita Income": 39685,
          "Physical Environment": 0.203,
          "Poverty": 13.7,
          "Public Health Funding": 122,
          "Social and Economic Factors": -0.219,
          "State": "GA",
          "Suicide": 14.9,
          "Total Population": 11029227,
          "Unemployment": 4.4,
          "Uninsured": 11.4,
          "id": 13
         },
         {
          "Air Pollution": 4.3,
          "Avoided Care Due to Cost": 6.7,
          "Cancer": 6.6,
          "Cannabis Use": 15.1,
          "Depression": 13.9,
          "Diabetes": 11.3,
          "Economic Hardship Index": 67,
          "Exercise": 31.8,
          "High Blood Pressure": 32.4,
          "High Cholesterol": 37.5,
          "High School Graduation": 86,
          "Homicide": 2.8,
          "Housing Cost Burden": 38.7,
          "Obesity": 26.1,
          "Overall": 0.552,
          "Overall_Sign": "Positive",
          "Per Capita Income": 43794,
          "Physical Environment": 0.253,
          "Poverty": 10.3,
          "Public Health Funding": 156,
          "Social and Economic Factors": 0.438,
          "State": "HI",
          "Suicide": 17.1,
          "Total Population": 1435138,
          "Unemployment": 3.5,
          "Uninsured": 3.2,
          "id": 15
         },
         {
          "Air Pollution": 7.9,
          "Avoided Care Due to Cost": 7.3,
          "Cancer": 8.9,
          "Cannabis Use": 19.9,
          "Depression": 19.2,
          "Diabetes": 11.3,
          "Economic Hardship Index": 41,
          "Exercise": 25.9,
          "High Blood Pressure": 34.5,
          "High Cholesterol": 36.7,
          "High School Graduation": 89.9,
          "Homicide": 2.9,
          "Housing Cost Burden": 24.3,
          "Obesity": 37.8,
          "Overall": 0.264,
          "Overall_Sign": "Positive",
          "Per Capita Income": 39518,
          "Physical Environment": 0.428,
          "Poverty": 11.6,
          "Public Health Funding": 105,
          "Social and Economic Factors": 0.464,
          "State": "IA",
          "Suicide": 18.4,
          "Total Population": 3207004,
          "Unemployment": 2.8,
          "Uninsured": 5,
          "id": 19
         },
         {
          "Air Pollution": 8.5,
          "Avoided Care Due to Cost": 11.3,
          "Cancer": 8.6,
          "Cannabis Use": 18.1,
          "Depression": 22.9,
          "Diabetes": 9.8,
          "Economic Hardship Index": 54,
          "Exercise": 29.4,
          "High Blood Pressure": 31.2,
          "High Cholesterol": 34.4,
          "High School Graduation": 79.9,
          "Homicide": 2.3,
          "Housing Cost Burden": 28,
          "Obesity": 31,
          "Overall": 0.255,
          "Overall_Sign": "Positive",
          "Per Capita Income": 37426,
          "Physical Environment": -0.278,
          "Poverty": 10.1,
          "Public Health Funding": 119,
          "Social and Economic Factors": 0.184,
          "State": "ID",
          "Suicide": 22.9,
          "Total Population": 1964726,
          "Unemployment": 3.6,
          "Uninsured": 8.9,
          "id": 16
         },
         {
          "Air Pollution": 9.8,
          "Avoided Care Due to Cost": 10.6,
          "Cancer": 7.5,
          "Cannabis Use": 23.6,
          "Depression": 18.1,
          "Diabetes": 12.2,
          "Economic Hardship Index": 52,
          "Exercise": 29.1,
          "High Blood Pressure": 33.5,
          "High Cholesterol": 36.3,
          "High School Graduation": 87.3,
          "Homicide": 11.1,
          "Housing Cost Burden": 29.4,
          "Obesity": 36,
          "Overall": 0.044,
          "Overall_Sign": "Positive",
          "Per Capita Income": 45043,
          "Physical Environment": 0.162,
          "Poverty": 12.3,
          "Public Health Funding": 110,
          "Social and Economic Factors": 0.018,
          "State": "IL",
          "Suicide": 12.2,
          "Total Population": 12549689,
          "Unemployment": 4.7,
          "Uninsured": 6.2,
          "id": 17
         },
         {
          "Air Pollution": 9.1,
          "Avoided Care Due to Cost": 10.4,
          "Cancer": 8.8,
          "Cannabis Use": 17.3,
          "Depression": 24.1,
          "Diabetes": 13.2,
          "Economic Hardship Index": 56,
          "Exercise": 29.3,
          "High Blood Pressure": 37.6,
          "High Cholesterol": 39.3,
          "High School Graduation": 87.7,
          "Homicide": 8.6,
          "Housing Cost Burden": 25.7,
          "Obesity": 37.8,
          "Overall": -0.214,
          "Overall_Sign": "Negative",
          "Per Capita Income": 37299,
          "Physical Environment": 0.145,
          "Poverty": 12.6,
          "Public Health Funding": 73,
          "Social and Economic Factors": -0.259,
          "State": "IN",
          "Suicide": 16.9,
          "Total Population": 6862199,
          "Unemployment": 3.6,
          "Uninsured": 6.9,
          "id": 18
         },
         {
          "Air Pollution": 8.8,
          "Avoided Care Due to Cost": 10.9,
          "Cancer": 8.6,
          "Cannabis Use": 16.9,
          "Depression": 21.1,
          "Diabetes": 11.4,
          "Economic Hardship Index": 51,
          "Exercise": 26.8,
          "High Blood Pressure": 34.7,
          "High Cholesterol": 38.5,
          "High School Graduation": 89.1,
          "Homicide": 5.8,
          "Housing Cost Burden": 26.6,
          "Obesity": 35.9,
          "Overall": 0.015,
          "Overall_Sign": "Positive",
          "Per Capita Income": 38361,
          "Physical Environment": -0.043,
          "Poverty": 11.7,
          "Public Health Funding": 95,
          "Social and Economic Factors": 0.248,
          "State": "KS",
          "Suicide": 20.3,
          "Total Population": 2940546,
          "Unemployment": 3.3,
          "Uninsured": 8.4,
          "id": 20
         },
         {
          "Air Pollution": 8.3,
          "Avoided Care Due to Cost": null,
          "Cancer": null,
          "Cannabis Use": 17.8,
          "Depression": null,
          "Diabetes": null,
          "Economic Hardship Index": 75,
          "Exercise": null,
          "High Blood Pressure": null,
          "High Cholesterol": null,
          "High School Graduation": 90.1,
          "Homicide": 8.4,
          "Housing Cost Burden": 25.9,
          "Obesity": null,
          "Overall": -0.36,
          "Overall_Sign": "Negative",
          "Per Capita Income": 34676,
          "Physical Environment": 0.5,
          "Poverty": 16.9,
          "Public Health Funding": 108,
          "Social and Economic Factors": -0.602,
          "State": "KY",
          "Suicide": 18.2,
          "Total Population": 4526154,
          "Unemployment": 4.1,
          "Uninsured": 5.4,
          "id": 21
         },
         {
          "Air Pollution": 7.8,
          "Avoided Care Due to Cost": 11.5,
          "Cancer": 7.7,
          "Cannabis Use": 16.2,
          "Depression": 25.7,
          "Diabetes": 16.1,
          "Economic Hardship Index": 97,
          "Exercise": 26.9,
          "High Blood Pressure": 43.3,
          "High Cholesterol": 39.5,
          "High School Graduation": 83.1,
          "Homicide": 19.6,
          "Housing Cost Burden": 30.3,
          "Obesity": 39.9,
          "Overall": -0.946,
          "Overall_Sign": "Negative",
          "Per Capita Income": 34102,
          "Physical Environment": -0.24,
          "Poverty": 19.4,
          "Public Health Funding": 130,
          "Social and Economic Factors": -1.192,
          "State": "LA",
          "Suicide": 15.8,
          "Total Population": 4573749,
          "Unemployment": 4.9,
          "Uninsured": 6.9,
          "id": 22
         },
         {
          "Air Pollution": 7.3,
          "Avoided Care Due to Cost": 7.1,
          "Cancer": 8.7,
          "Cannabis Use": 17.6,
          "Depression": 22.4,
          "Diabetes": 9.8,
          "Economic Hardship Index": 21,
          "Exercise": 31.1,
          "High Blood Pressure": 31,
          "High Cholesterol": 35.7,
          "High School Graduation": 90.1,
          "Homicide": 2.4,
          "Housing Cost Burden": 35.8,
          "Obesity": 27.4,
          "Overall": 0.746,
          "Overall_Sign": "Positive",
          "Per Capita Income": 55897,
          "Physical Environment": 0.152,
          "Poverty": 11.3,
          "Public Health Funding": 205,
          "Social and Economic Factors": 0.762,
          "State": "MA",
          "Suicide": 9,
          "Total Population": 7001399,
          "Unemployment": 3.9,
          "Uninsured": 2.6,
          "id": 25
         },
         {
          "Air Pollution": 6.8,
          "Avoided Care Due to Cost": 9.6,
          "Cancer": 7.6,
          "Cannabis Use": 19.3,
          "Depression": 17.4,
          "Diabetes": 12.2,
          "Economic Hardship Index": 34,
          "Exercise": 30.8,
          "High Blood Pressure": 35.8,
          "High Cholesterol": 39.3,
          "High School Graduation": 86.3,
          "Homicide": 11.1,
          "Housing Cost Burden": 31.8,
          "Obesity": 34.1,
          "Overall": 0.52,
          "Overall_Sign": "Positive",
          "Per Capita Income": 50728,
          "Physical Environment": 0.857,
          "Poverty": 10,
          "Public Health Funding": 210,
          "Social and Economic Factors": 0.436,
          "State": "MD",
          "Suicide": 9.9,
          "Total Population": 6180253,
          "Unemployment": 4,
          "Uninsured": 6.3,
          "id": 24
         },
         {
          "Air Pollution": 5.2,
          "Avoided Care Due to Cost": 8.7,
          "Cancer": 10.4,
          "Cannabis Use": 17.3,
          "Depression": 25.8,
          "Diabetes": 11.4,
          "Economic Hardship Index": 30,
          "Exercise": 31,
          "High Blood Pressure": 35.8,
          "High Cholesterol": 38.3,
          "High School Graduation": 86.1,
          "Homicide": 1.9,
          "Housing Cost Burden": 28.8,
          "Obesity": 32.6,
          "Overall": 0.495,
          "Overall_Sign": "Positive",
          "Per Capita Income": 42936,
          "Physical Environment": 0.833,
          "Poverty": 11.1,
          "Public Health Funding": 157,
          "Social and Economic Factors": 0.582,
          "State": "ME",
          "Suicide": 19.3,
          "Total Population": 1395722,
          "Unemployment": 3.2,
          "Uninsured": 5.9,
          "id": 23
         },
         {
          "Air Pollution": 8.8,
          "Avoided Care Due to Cost": 9.2,
          "Cancer": 9.3,
          "Cannabis Use": 27.2,
          "Depression": 24.1,
          "Diabetes": 12.4,
          "Economic Hardship Index": 60,
          "Exercise": 30.2,
          "High Blood Pressure": 37,
          "High Cholesterol": 35.6,
          "High School Graduation": 81,
          "Homicide": 8.1,
          "Housing Cost Burden": 27.3,
          "Obesity": 35.4,
          "Overall": -0.003,
          "Overall_Sign": "Negative",
          "Per Capita Income": 38952,
          "Physical Environment": 0.482,
          "Poverty": 13.8,
          "Public Health Funding": 79,
          "Social and Economic Factors": -0.225,
          "State": "MI",
          "Suicide": 15,
          "Total Population": 10037261,
          "Unemployment": 4.5,
          "Uninsured": 4.5,
          "id": 26
         },
         {
          "Air Pollution": 7.5,
          "Avoided Care Due to Cost": 8.6,
          "Cancer": 8.4,
          "Cannabis Use": 19.7,
          "Depression": 23.1,
          "Diabetes": 10.5,
          "Economic Hardship Index": 25,
          "Exercise": 30.2,
          "High Blood Pressure": 31.1,
          "High Cholesterol": 33.8,
          "High School Graduation": 83.6,
          "Homicide": 3.8,
          "Housing Cost Burden": 27.4,
          "Obesity": 33.3,
          "Overall": 0.644,
          "Overall_Sign": "Positive",
          "Per Capita Income": 46530,
          "Physical Environment": 0.697,
          "Poverty": 9.8,
          "Public Health Funding": 127,
          "Social and Economic Factors": 0.955,
          "State": "MN",
          "Suicide": 15,
          "Total Population": 5737915,
          "Unemployment": 3,
          "Uninsured": 4.2,
          "id": 27
         },
         {
          "Air Pollution": 7.5,
          "Avoided Care Due to Cost": 11.5,
          "Cancer": 8.6,
          "Cannabis Use": 23,
          "Depression": 23.1,
          "Diabetes": 12.3,
          "Economic Hardship Index": 49,
          "Exercise": 23.7,
          "High Blood Pressure": 36.2,
          "High Cholesterol": 38.5,
          "High School Graduation": 89.8,
          "Homicide": 11.8,
          "Housing Cost Burden": 25.5,
          "Obesity": 35.3,
          "Overall": -0.333,
          "Overall_Sign": "Negative",
          "Per Capita Income": 38699,
          "Physical Environment": 0.458,
          "Poverty": 12.5,
          "Public Health Funding": 92,
          "Social and Economic Factors": -0.152,
          "State": "MO",
          "Suicide": 19.7,
          "Total Population": 6196156,
          "Unemployment": 3.4,
          "Uninsured": 7.5,
          "id": 29
         },
         {
          "Air Pollution": 7.9,
          "Avoided Care Due to Cost": 14.1,
          "Cancer": 8.7,
          "Cannabis Use": 15.5,
          "Depression": 18.1,
          "Diabetes": 17,
          "Economic Hardship Index": 100,
          "Exercise": 23.4,
          "High Blood Pressure": 46,
          "High Cholesterol": 39.8,
          "High School Graduation": 88.9,
          "Homicide": 20.9,
          "Housing Cost Burden": 26.7,
          "Obesity": 40.1,
          "Overall": -0.936,
          "Overall_Sign": "Negative",
          "Per Capita Income": 30807,
          "Physical Environment": 0.138,
          "Poverty": 19.5,
          "Public Health Funding": 119,
          "Social and Economic Factors": -0.971,
          "State": "MS",
          "Suicide": 14.2,
          "Total Population": 2939690,
          "Unemployment": 4.8,
          "Uninsured": 10.3,
          "id": 28
         },
         {
          "Air Pollution": 7,
          "Avoided Care Due to Cost": 9.7,
          "Cancer": 10.5,
          "Cannabis Use": 24.4,
          "Depression": 24.4,
          "Diabetes": 9.4,
          "Economic Hardship Index": 39,
          "Exercise": 32.2,
          "High Blood Pressure": 32.2,
          "High Cholesterol": 34,
          "High School Graduation": 85.8,
          "Homicide": 4.6,
          "Housing Cost Burden": 28.9,
          "Obesity": 30.5,
          "Overall": 0.053,
          "Overall_Sign": "Positive",
          "Per Capita Income": 40197,
          "Physical Environment": 0.195,
          "Poverty": 12.2,
          "Public Health Funding": 143,
          "Social and Economic Factors": 0.104,
          "State": "MT",
          "Suicide": 29.3,
          "Total Population": 1132812,
          "Unemployment": 2.7,
          "Uninsured": 8.4,
          "id": 30
         },
         {
          "Air Pollution": 7.5,
          "Avoided Care Due to Cost": 10.7,
          "Cancer": 8,
          "Cannabis Use": 15.3,
          "Depression": 23.1,
          "Diabetes": 12.4,
          "Economic Hardship Index": 51,
          "Exercise": 26,
          "High Blood Pressure": 37.5,
          "High Cholesterol": 36.3,
          "High School Graduation": 86.4,
          "Homicide": 9.2,
          "Housing Cost Burden": 28,
          "Obesity": 34,
          "Overall": -0.009,
          "Overall_Sign": "Negative",
          "Per Capita Income": 40414,
          "Physical Environment": 0.853,
          "Poverty": 12.8,
          "Public Health Funding": 78,
          "Social and Economic Factors": 0.09,
          "State": "NC",
          "Suicide": 15.1,
          "Total Population": 10835491,
          "Unemployment": 4,
          "Uninsured": 9.2,
          "id": 37
         },
         {
          "Air Pollution": 6.2,
          "Avoided Care Due to Cost": 8.3,
          "Cancer": 7.9,
          "Cannabis Use": 17.1,
          "Depression": 22.3,
          "Diabetes": 9.5,
          "Economic Hardship Index": 27,
          "Exercise": 30.9,
          "High Blood Pressure": 31.8,
          "High Cholesterol": 35.1,
          "High School Graduation": 85.1,
          "Homicide": 3.3,
          "Housing Cost Burden": 22.3,
          "Obesity": 35.6,
          "Overall": 0.351,
          "Overall_Sign": "Positive",
          "Per Capita Income": 42814,
          "Physical Environment": 0.83,
          "Poverty": 11.1,
          "Public Health Funding": 162,
          "Social and Economic Factors": 0.444,
          "State": "ND",
          "Suicide": 21.7,
          "Total Population": 783926,
          "Unemployment": 2.9,
          "Uninsured": 4.5,
          "id": 38
         },
         {
          "Air Pollution": 6.2,
          "Avoided Care Due to Cost": 8.8,
          "Cancer": 8.1,
          "Cannabis Use": 17.1,
          "Depression": 17.9,
          "Diabetes": 10.6,
          "Economic Hardship Index": 41,
          "Exercise": 28.2,
          "High Blood Pressure": 32.7,
          "High Cholesterol": 34,
          "High School Graduation": 87.1,
          "Homicide": 3.6,
          "Housing Cost Burden": 26.4,
          "Obesity": 36.6,
          "Overall": 0.239,
          "Overall_Sign": "Positive",
          "Per Capita Income": 41436,
          "Physical Environment": 0.187,
          "Poverty": 11.5,
          "Public Health Funding": 118,
          "Social and Economic Factors": 0.478,
          "State": "NE",
          "Suicide": 15.5,
          "Total Population": 1978379,
          "Unemployment": 2.7,
          "Uninsured": 6.1,
          "id": 31
         },
         {
          "Air Pollution": 4.9,
          "Avoided Care Due to Cost": 7.7,
          "Cancer": 10.2,
          "Cannabis Use": 21.1,
          "Depression": 22,
          "Diabetes": 9.8,
          "Economic Hardship Index": 1,
          "Exercise": 33.1,
          "High Blood Pressure": 33.3,
          "High Cholesterol": 35.8,
          "High School Graduation": 87.7,
          "Homicide": 1.4,
          "Housing Cost Burden": 31.5,
          "Obesity": 32.8,
          "Overall": 0.857,
          "Overall_Sign": "Positive",
          "Per Capita Income": 51587,
          "Physical Environment": 0.497,
          "Poverty": 8.3,
          "Public Health Funding": 109,
          "Social and Economic Factors": 0.998,
          "State": "NH",
          "Suicide": 17.7,
          "Total Population": 1402054,
          "Unemployment": 2.6,
          "Uninsured": 4.7,
          "id": 33
         },
         {
          "Air Pollution": 7.4,
          "Avoided Care Due to Cost": 10.8,
          "Cancer": 6.9,
          "Cannabis Use": 16.6,
          "Depression": 13.9,
          "Diabetes": 10.5,
          "Economic Hardship Index": 45,
          "Exercise": 31.3,
          "High Blood Pressure": 33.4,
          "High Cholesterol": 39.1,
          "High School Graduation": 85.2,
          "Homicide": 4,
          "Housing Cost Burden": 35.6,
          "Obesity": 28.9,
          "Overall": 0.425,
          "Overall_Sign": "Positive",
          "Per Capita Income": 52583,
          "Physical Environment": -0.068,
          "Poverty": 10.2,
          "Public Health Funding": 95,
          "Social and Economic Factors": 0.527,
          "State": "NJ",
          "Suicide": 8.3,
          "Total Population": 9290841,
          "Unemployment": 4.7,
          "Uninsured": 7.2,
          "id": 34
         },
         {
          "Air Pollution": 6.7,
          "Avoided Care Due to Cost": 10.7,
          "Cancer": 7.7,
          "Cannabis Use": 32.7,
          "Depression": 23,
          "Diabetes": 12.5,
          "Economic Hardship Index": 97,
          "Exercise": 30.4,
          "High Blood Pressure": 34.1,
          "High Cholesterol": 35.4,
          "High School Graduation": null,
          "Homicide": 14.1,
          "Housing Cost Burden": 28.1,
          "Obesity": 35.3,
          "Overall": -0.442,
          "Overall_Sign": "Negative",
          "Per Capita Income": 35510,
          "Physical Environment": 0.267,
          "Poverty": 17.2,
          "Public Health Funding": 300,
          "Social and Economic Factors": -0.989,
          "State": "NM",
          "Suicide": 24.8,
          "Total Population": 2114371,
          "Unemployment": 4.8,
          "Uninsured": 9.1,
          "id": 35
         },
         {
          "Air Pollution": 9.8,
          "Avoided Care Due to Cost": 15.2,
          "Cancer": 8.3,
          "Cannabis Use": 40.4,
          "Depression": 20.7,
          "Diabetes": 11.9,
          "Economic Hardship Index": 69,
          "Exercise": 31,
          "High Blood Pressure": 34,
          "High Cholesterol": 39.3,
          "High School Graduation": 81.7,
          "Homicide": 8,
          "Housing Cost Burden": 36,
          "Obesity": 30.8,
          "Overall": -0.492,
          "Overall_Sign": "Negative",
          "Per Capita Income": 40463,
          "Physical Environment": -0.053,
          "Poverty": 11.9,
          "Public Health Funding": 66,
          "Social and Economic Factors": -0.239,
          "State": "NV",
          "Suicide": 22,
          "Total Population": 3194176,
          "Unemployment": 4.6,
          "Uninsured": 10.8,
          "id": 32
         },
         {
          "Air Pollution": 6.9,
          "Avoided Care Due to Cost": 9.7,
          "Cancer": 7.7,
          "Cannabis Use": 19.7,
          "Depression": 16.4,
          "Diabetes": 10.6,
          "Economic Hardship Index": 71,
          "Exercise": 30.8,
          "High Blood Pressure": 32.1,
          "High Cholesterol": 38.5,
          "High School Graduation": 86.7,
          "Homicide": 4.5,
          "Housing Cost Burden": 37.4,
          "Obesity": 28,
          "Overall": 0.088,
          "Overall_Sign": "Positive",
          "Per Capita Income": 48847,
          "Physical Environment": -0.043,
          "Poverty": 14.5,
          "Public Health Funding": 178,
          "Social and Economic Factors": -0.326,
          "State": "NY",
          "Suicide": 9,
          "Total Population": 19571216,
          "Unemployment": 5,
          "Uninsured": 4.8,
          "id": 36
         },
         {
          "Air Pollution": 8.6,
          "Avoided Care Due to Cost": 9.5,
          "Cancer": 8.7,
          "Cannabis Use": 24.6,
          "Depression": 25,
          "Diabetes": 13.2,
          "Economic Hardship Index": 56,
          "Exercise": 30.6,
          "High Blood Pressure": 37.1,
          "High Cholesterol": 37.4,
          "High School Graduation": 86.2,
          "Homicide": 8.3,
          "Housing Cost Burden": 26.6,
          "Obesity": 36.4,
          "Overall": -0.151,
          "Overall_Sign": "Negative",
          "Per Capita Income": 39395,
          "Physical Environment": 0.282,
          "Poverty": 13.6,
          "Public Health Funding": 97,
          "Social and Economic Factors": -0.002,
          "State": "OH",
          "Suicide": 15.3,
          "Total Population": 11785935,
          "Unemployment": 4,
          "Uninsured": 6.1,
          "id": 39
         },
         {
          "Air Pollution": 8.8,
          "Avoided Care Due to Cost": 13.3,
          "Cancer": 7.7,
          "Cannabis Use": 23.3,
          "Depression": 25,
          "Diabetes": 12.4,
          "Economic Hardship Index": 83,
          "Exercise": 23.4,
          "High Blood Pressure": 38.4,
          "High Cholesterol": 39.2,
          "High School Graduation": null,
          "Homicide": 8.2,
          "Housing Cost Burden": 27.7,
          "Obesity": 38.7,
          "Overall": -0.722,
          "Overall_Sign": "Negative",
          "Per Capita Income": 34206,
          "Physical Environment": -0.39,
          "Poverty": 16.1,
          "Public Health Funding": 143,
          "Social and Economic Factors": -0.74,
          "State": "OK",
          "Suicide": 21.3,
          "Total Population": 4053824,
          "Unemployment": 4.6,
          "Uninsured": 11.4,
          "id": 40
         },
         {
          "Air Pollution": 8.9,
          "Avoided Care Due to Cost": 10.2,
          "Cancer": 10,
          "Cannabis Use": 30.3,
          "Depression": 25.8,
          "Diabetes": 10.9,
          "Economic Hardship Index": 46,
          "Exercise": 32.4,
          "High Blood Pressure": 33.5,
          "High Cholesterol": 34.2,
          "High School Graduation": 81.3,
          "Homicide": 4.9,
          "Housing Cost Burden": 35,
          "Obesity": 33.6,
          "Overall": 0.228,
          "Overall_Sign": "Positive",
          "Per Capita Income": 44623,
          "Physical Environment": -0.098,
          "Poverty": 12.2,
          "Public Health Funding": 191,
          "Social and Economic Factors": 0.202,
          "State": "OR",
          "Suicide": 20.8,
          "Total Population": 4233358,
          "Unemployment": 4.1,
          "Uninsured": 5.5,
          "id": 41
         },
         {
          "Air Pollution": 9,
          "Avoided Care Due to Cost": null,
          "Cancer": null,
          "Cannabis Use": 18.2,
          "Depression": null,
          "Diabetes": null,
          "Economic Hardship Index": 50,
          "Exercise": null,
          "High Blood Pressure": null,
          "High Cholesterol": null,
          "High School Graduation": 87,
          "Homicide": 8.4,
          "Housing Cost Burden": 28.2,
          "Obesity": null,
          "Overall": 0.148,
          "Overall_Sign": "Positive",
          "Per Capita Income": 42605,
          "Physical Environment": 0.038,
          "Poverty": 12.5,
          "Public Health Funding": 79,
          "Social and Economic Factors": 0.158,
          "State": "PA",
          "Suicide": 15.1,
          "Total Population": 12961683,
          "Unemployment": 4.2,
          "Uninsured": 5.4,
          "id": 42
         },
         {
          "Air Pollution": 6.6,
          "Avoided Care Due to Cost": 8.3,
          "Cancer": 8.2,
          "Cannabis Use": 23.7,
          "Depression": 21.7,
          "Diabetes": 11.8,
          "Economic Hardship Index": 47,
          "Exercise": 29.9,
          "High Blood Pressure": 34,
          "High Cholesterol": 35,
          "High School Graduation": 83.3,
          "Homicide": 2.8,
          "Housing Cost Burden": 32.3,
          "Obesity": 31.6,
          "Overall": 0.55,
          "Overall_Sign": "Positive",
          "Per Capita Income": 46525,
          "Physical Environment": 0.198,
          "Poverty": 12.2,
          "Public Health Funding": 333,
          "Social and Economic Factors": 0.432,
          "State": "RI",
          "Suicide": 11.5,
          "Total Population": 1095962,
          "Unemployment": 4.8,
          "Uninsured": 4.5,
          "id": 44
         },
         {
          "Air Pollution": 8.1,
          "Avoided Care Due to Cost": 12.8,
          "Cancer": 9.6,
          "Cannabis Use": 16.7,
          "Depression": 21.9,
          "Diabetes": 14.9,
          "Economic Hardship Index": 68,
          "Exercise": 31.6,
          "High Blood Pressure": 38.9,
          "High Cholesterol": 39.3,
          "High School Graduation": 83.8,
          "Homicide": 11.9,
          "Housing Cost Burden": 26.4,
          "Obesity": 36,
          "Overall": -0.256,
          "Overall_Sign": "Negative",
          "Per Capita Income": 38097,
          "Physical Environment": 0.608,
          "Poverty": 14.3,
          "Public Health Funding": 102,
          "Social and Economic Factors": -0.272,
          "State": "SC",
          "Suicide": 16.1,
          "Total Population": 5373555,
          "Unemployment": 4.3,
          "Uninsured": 9.1,
          "id": 45
         },
         {
          "Air Pollution": 5.9,
          "Avoided Care Due to Cost": 10.3,
          "Cancer": 8.7,
          "Cannabis Use": 13.8,
          "Depression": 23.1,
          "Diabetes": 11.8,
          "Economic Hardship Index": 43,
          "Exercise": 26.5,
          "High Blood Pressure": 35.2,
          "High Cholesterol": 35.5,
          "High School Graduation": 82.1,
          "Homicide": 5.6,
          "Housing Cost Burden": 24.6,
          "Obesity": 36,
          "Overall": 0.171,
          "Overall_Sign": "Positive",
          "Per Capita Income": 40263,
          "Physical Environment": 0.807,
          "Poverty": 11.6,
          "Public Health Funding": 136,
          "Social and Economic Factors": 0.326,
          "State": "SD",
          "Suicide": 21.1,
          "Total Population": 919318,
          "Unemployment": 2.6,
          "Uninsured": 8.3,
          "id": 46
         },
         {
          "Air Pollution": 7.7,
          "Avoided Care Due to Cost": 14.9,
          "Cancer": 8.8,
          "Cannabis Use": 17.8,
          "Depression": 27.3,
          "Diabetes": 14.5,
          "Economic Hardship Index": 60,
          "Exercise": 27.4,
          "High Blood Pressure": 40.7,
          "High Cholesterol": 40.6,
          "High School Graduation": 90.4,
          "Homicide": 11,
          "Housing Cost Burden": 27.3,
          "Obesity": 37.6,
          "Overall": -0.576,
          "Overall_Sign": "Negative",
          "Per Capita Income": 38538,
          "Physical Environment": 0.55,
          "Poverty": 14.2,
          "Public Health Funding": 132,
          "Social and Economic Factors": -0.394,
          "State": "TN",
          "Suicide": 17.7,
          "Total Population": 7126489,
          "Unemployment": 4,
          "Uninsured": 9.3,
          "id": 47
         },
         {
          "Air Pollution": 9.1,
          "Avoided Care Due to Cost": 18.3,
          "Cancer": 5.6,
          "Cannabis Use": 13.8,
          "Depression": 19.7,
          "Diabetes": 12.7,
          "Economic Hardship Index": 74,
          "Exercise": 30.9,
          "High Blood Pressure": 32.3,
          "High Cholesterol": 36.3,
          "High School Graduation": 89.7,
          "Homicide": 7.8,
          "Housing Cost Burden": 33.4,
          "Obesity": 34.4,
          "Overall": -0.353,
          "Overall_Sign": "Negative",
          "Per Capita Income": 39775,
          "Physical Environment": -0.135,
          "Poverty": 13.3,
          "Public Health Funding": 78,
          "Social and Economic Factors": -0.5,
          "State": "TX",
          "Suicide": 14.5,
          "Total Population": 30503301,
          "Unemployment": 4.4,
          "Uninsured": 16.4,
          "id": 48
         },
         {
          "Air Pollution": 8.2,
          "Avoided Care Due to Cost": 11.6,
          "Cancer": 8,
          "Cannabis Use": 16.3,
          "Depression": 26.1,
          "Diabetes": 7.8,
          "Economic Hardship Index": 36,
          "Exercise": 33.1,
          "High Blood Pressure": 27.3,
          "High Cholesterol": 31.2,
          "High School Graduation": 88.2,
          "Homicide": 2.4,
          "Housing Cost Burden": 28.3,
          "Obesity": 30.2,
          "Overall": 0.618,
          "Overall_Sign": "Positive",
          "Per Capita Income": 40096,
          "Physical Environment": 0.13,
          "Poverty": 9.2,
          "Public Health Funding": 95,
          "Social and Economic Factors": 0.752,
          "State": "UT",
          "Suicide": 21.2,
          "Total Population": 3417734,
          "Unemployment": 3.3,
          "Uninsured": 8,
          "id": 49
         },
         {
          "Air Pollution": 6.9,
          "Avoided Care Due to Cost": 9.2,
          "Cancer": 8.1,
          "Cannabis Use": 14.3,
          "Depression": 20.4,
          "Diabetes": 11.8,
          "Economic Hardship Index": 31,
          "Exercise": 31.8,
          "High Blood Pressure": 35.6,
          "High Cholesterol": 39.3,
          "High School Graduation": 89.1,
          "Homicide": 7.3,
          "Housing Cost Burden": 28.8,
          "Obesity": 34.3,
          "Overall": 0.344,
          "Overall_Sign": "Positive",
          "Per Capita Income": 48689,
          "Physical Environment": 0.87,
          "Poverty": 10.7,
          "Public Health Funding": 107,
          "Social and Economic Factors": 0.468,
          "State": "VA",
          "Suicide": 13.9,
          "Total Population": 8715698,
          "Unemployment": 3.7,
          "Uninsured": 6.4,
          "id": 51
         },
         {
          "Air Pollution": 5.9,
          "Avoided Care Due to Cost": 7,
          "Cancer": 10.3,
          "Cannabis Use": 9.6,
          "Depression": 25.8,
          "Diabetes": 9.3,
          "Economic Hardship Index": 18,
          "Exercise": 33.7,
          "High Blood Pressure": 32.5,
          "High Cholesterol": 33,
          "High School Graduation": 82.8,
          "Homicide": 2.2,
          "Housing Cost Burden": 30.4,
          "Obesity": 28.8,
          "Overall": 0.81,
          "Overall_Sign": "Positive",
          "Per Capita Income": 46029,
          "Physical Environment": 0.457,
          "Poverty": 11,
          "Public Health Funding": 206,
          "Social and Economic Factors": 0.717,
          "State": "VT",
          "Suicide": 19.8,
          "Total Population": 647464,
          "Unemployment": 2.6,
          "Uninsured": 3.4,
          "id": 50
         },
         {
          "Air Pollution": 8.2,
          "Avoided Care Due to Cost": 9.7,
          "Cancer": 8.2,
          "Cannabis Use": 21.2,
          "Depression": 23.8,
          "Diabetes": 9.6,
          "Economic Hardship Index": 33,
          "Exercise": 31.8,
          "High Blood Pressure": 30.6,
          "High Cholesterol": 36.2,
          "High School Graduation": 83.6,
          "Homicide": 5,
          "Housing Cost Burden": 33.4,
          "Obesity": 30.6,
          "Overall": 0.607,
          "Overall_Sign": "Positive",
          "Per Capita Income": 52011,
          "Physical Environment": 0.382,
          "Poverty": 10.4,
          "Public Health Funding": 139,
          "Social and Economic Factors": 0.721,
          "State": "WA",
          "Suicide": 16,
          "Total Population": 7812880,
          "Unemployment": 4.5,
          "Uninsured": 6.3,
          "id": 53
         },
         {
          "Air Pollution": 8,
          "Avoided Care Due to Cost": 8.4,
          "Cancer": 8.7,
          "Cannabis Use": 18.9,
          "Depression": 22.6,
          "Diabetes": 11.3,
          "Economic Hardship Index": 30,
          "Exercise": 27.5,
          "High Blood Pressure": 33.1,
          "High Cholesterol": 35.3,
          "High School Graduation": 90.3,
          "Homicide": 5.7,
          "Housing Cost Burden": 26.4,
          "Obesity": 35.9,
          "Overall": 0.222,
          "Overall_Sign": "Positive",
          "Per Capita Income": 41785,
          "Physical Environment": 0.487,
          "Poverty": 11.1,
          "Public Health Funding": 69,
          "Social and Economic Factors": 0.434,
          "State": "WI",
          "Suicide": 15.7,
          "Total Population": 5910955,
          "Unemployment": 2.8,
          "Uninsured": 4.9,
          "id": 55
         },
         {
          "Air Pollution": 7.5,
          "Avoided Care Due to Cost": 12.5,
          "Cancer": 10.2,
          "Cannabis Use": 25.2,
          "Depression": 31.1,
          "Diabetes": 18.2,
          "Economic Hardship Index": 87,
          "Exercise": 20.6,
          "High Blood Pressure": 45.1,
          "High Cholesterol": 45,
          "High School Graduation": 91.2,
          "Homicide": 6.2,
          "Housing Cost Burden": 20.9,
          "Obesity": 41.2,
          "Overall": -0.683,
          "Overall_Sign": "Negative",
          "Per Capita Income": 32766,
          "Physical Environment": 0.182,
          "Poverty": 17.2,
          "Public Health Funding": 161,
          "Social and Economic Factors": -0.795,
          "State": "WV",
          "Suicide": 19.9,
          "Total Population": 1770071,
          "Unemployment": 4.5,
          "Uninsured": 5.9,
          "id": 54
         },
         {
          "Air Pollution": 4.7,
          "Avoided Care Due to Cost": 12,
          "Cancer": 8.8,
          "Cannabis Use": 23.1,
          "Depression": 21.1,
          "Diabetes": 10.8,
          "Economic Hardship Index": 44,
          "Exercise": 30.1,
          "High Blood Pressure": 31.5,
          "High Cholesterol": 33.8,
          "High School Graduation": 81.8,
          "Homicide": 2.8,
          "Housing Cost Burden": 26,
          "Obesity": 33.3,
          "Overall": -0.03,
          "Overall_Sign": "Negative",
          "Per Capita Income": 39966,
          "Physical Environment": 0.488,
          "Poverty": 11.6,
          "Public Health Funding": 123,
          "Social and Economic Factors": 0.156,
          "State": "WY",
          "Suicide": 26.7,
          "Total Population": 584057,
          "Unemployment": 3.2,
          "Uninsured": 10.7,
          "id": 56
         }
        ]
       },
       "encoding": {
        "color": {
         "field": "Overall",
         "legend": {
          "title": "Overall Health Score"
         },
         "scale": {
          "scheme": "redblue"
         },
         "type": "quantitative"
        },
        "tooltip": [
         {
          "field": "State",
          "title": "State",
          "type": "nominal"
         },
         {
          "field": "Overall",
          "format": ".1f",
          "title": "Health Score",
          "type": "quantitative"
         }
        ]
       },
       "height": 450,
       "mark": {
        "type": "geoshape"
       },
       "projection": {
        "type": "albersUsa"
       },
       "title": "Overall Health Scores by State",
       "transform": [
        {
         "from": {
          "data": {
           "name": "data-18f3f2eeabfc02ef8ba381b486e696d2"
          },
          "fields": [
           "State",
           "Overall"
          ],
          "key": "id"
         },
         "lookup": "id"
        }
       ],
       "width": 700
      },
      "image/png": "[encoded data removed]",
      "text/plain": [
       "<VegaLite 5 object>\n",
       "\n",
       "If you see this message, it means the renderer has not been properly enabled\n",
       "for the frontend that you are using. For more information, see\n",
       "https://altair-viz.github.io/user_guide/display_frontends.html#troubleshooting\n"
      ]
     },
     "execution_count": 68,
     "metadata": {},
     "output_type": "execute_result"
    }
   ],
   "source": [
    "import altair as alt\n",
    "import pandas as pd\n",
    "from vega_datasets import data\n",
    "\n",
    "# Load US states topojson from Vega datasets\n",
    "states = alt.topo_feature(data.us_10m.url, feature='states')\n",
    "\n",
    "# Map state abbreviations to FIPS codes (only 50 states, exclude DC and territories)\n",
    "state_abbrev_to_fips = {\n",
    "    'AL': 1, 'AK': 2, 'AZ': 4, 'AR': 5, 'CA': 6, 'CO': 8, 'CT': 9, 'DE': 10,\n",
    "    'FL': 12, 'GA': 13, 'HI': 15, 'ID': 16, 'IL': 17, 'IN': 18,\n",
    "    'IA': 19, 'KS': 20, 'KY': 21, 'LA': 22, 'ME': 23, 'MD': 24, 'MA': 25,\n",
    "    'MI': 26, 'MN': 27, 'MS': 28, 'MO': 29, 'MT': 30, 'NE': 31, 'NV': 32,\n",
    "    'NH': 33, 'NJ': 34, 'NM': 35, 'NY': 36, 'NC': 37, 'ND': 38, 'OH': 39,\n",
    "    'OK': 40, 'OR': 41, 'PA': 42, 'RI': 44, 'SC': 45, 'SD': 46, 'TN': 47,\n",
    "    'TX': 48, 'UT': 49, 'VT': 50, 'VA': 51, 'WA': 53, 'WV': 54, 'WI': 55, 'WY': 56\n",
    "}\n",
    "\n",
    "# Filter your data to only include these 50 states\n",
    "df_filtered = selected[selected[\"State\"].isin(state_abbrev_to_fips.keys())].copy()\n",
    "\n",
    "# Add a column with FIPS code for matching\n",
    "df_filtered[\"id\"] = df_filtered[\"State\"].map(state_abbrev_to_fips)\n",
    "\n",
    "# Build the choropleth map chart with turbo color scheme\n",
    "heatmap = alt.Chart(states).mark_geoshape().encode(\n",
    "    color=alt.Color(\n",
    "        \"Overall:Q\",\n",
    "        scale=alt.Scale(scheme=\"redblue\"),\n",
    "        legend=alt.Legend(title=\"Overall Health Score\")\n",
    "    ),\n",
    "    tooltip=[\n",
    "        alt.Tooltip(\"State:N\", title=\"State\"),\n",
    "        alt.Tooltip(\"Overall:Q\", title=\"Health Score\", format=\".1f\")\n",
    "    ]\n",
    ").transform_lookup(\n",
    "    lookup=\"id\",\n",
    "    from_=alt.LookupData(df_filtered, key=\"id\", fields=[\"State\", \"Overall\"])\n",
    ").project(\n",
    "    type=\"albersUsa\"\n",
    ").properties(\n",
    "    width=700,\n",
    "    height=450,\n",
    "    title=\"Overall Health Scores by State\"\n",
    ")\n",
    "\n",
    "heatmap\n"
   ]
  },
  {
   "cell_type": "markdown",
   "id": "6e2b0e60-837d-45f3-b988-b4aaccfc9a75",
   "metadata": {},
   "source": [
    "## Task 2: Explore Relationships Between Economic and Health Factors\n",
    "**Why?** To understand how economic hardship correlates with health outcomes, like obesity, unisured rates, exercise.\n",
    "**How?** Use a scatter plot comparing `Economic Hardship Index` with `Obesity`, `Unisured`, `High Blood Pressure`, ` High Cholesterol`, `Diabetes`, or `Exercise`.\n",
    "**What?** This task examines correlation and outliers in two-variable comparisons. The correlation regression line can be checked to visualize any positive or negative correlation. Included is the tooltip to hover and view individual states and scores.\n",
    "**Where?** Columns: `Econimc Hardship Index`, `Obesity`, `Uninsured`, etc Index: `State`\n",
    "**When?** Performed after initial exploration to generate hypotheses about cause-and-effect or clustering of outcomes.\n",
    "**Who?** Policy analyst or public health planner evaluating where socioeconomic policy changes may have the greatest health impacts."
   ]
  },
  {
   "cell_type": "code",
   "execution_count": 74,
   "id": "fefd4464-cc31-4012-b69b-55343f3856f2",
   "metadata": {},
   "outputs": [
    {
     "data": {
      "application/vnd.vegalite.v5+json": {
       "$schema": "https://vega.github.io/schema/vega-lite/v5.20.1.json",
       "config": {
        "view": {
         "continuousHeight": 300,
         "continuousWidth": 300
        }
       },
       "data": {
        "name": "data-eb41c106effd0baf227172a2f02d3afc"
       },
       "datasets": {
        "data-eb41c106effd0baf227172a2f02d3afc": [
         {
          "Economic Hardship Index": 47,
          "Health Metric": "Avoided Care Due to Cost",
          "State": "AK",
          "Value": 11.1
         },
         {
          "Economic Hardship Index": 74,
          "Health Metric": "Avoided Care Due to Cost",
          "State": "AL",
          "Value": 13.5
         },
         {
          "Economic Hardship Index": 82,
          "Health Metric": "Avoided Care Due to Cost",
          "State": "AR",
          "Value": 13.9
         },
         {
          "Economic Hardship Index": 70,
          "Health Metric": "Avoided Care Due to Cost",
          "State": "AZ",
          "Value": 12.1
         },
         {
          "Economic Hardship Index": 84,
          "Health Metric": "Avoided Care Due to Cost",
          "State": "CA",
          "Value": 10.7
         },
         {
          "Economic Hardship Index": 12,
          "Health Metric": "Avoided Care Due to Cost",
          "State": "CO",
          "Value": 12.1
         },
         {
          "Economic Hardship Index": 37,
          "Health Metric": "Avoided Care Due to Cost",
          "State": "CT",
          "Value": 8.9
         },
         {
          "Economic Hardship Index": 48,
          "Health Metric": "Avoided Care Due to Cost",
          "State": "DE",
          "Value": 8.7
         },
         {
          "Economic Hardship Index": 65,
          "Health Metric": "Avoided Care Due to Cost",
          "State": "FL",
          "Value": 12.9
         },
         {
          "Economic Hardship Index": 59,
          "Health Metric": "Avoided Care Due to Cost",
          "State": "GA",
          "Value": 15.6
         },
         {
          "Economic Hardship Index": 67,
          "Health Metric": "Avoided Care Due to Cost",
          "State": "HI",
          "Value": 6.7
         },
         {
          "Economic Hardship Index": 41,
          "Health Metric": "Avoided Care Due to Cost",
          "State": "IA",
          "Value": 7.3
         },
         {
          "Economic Hardship Index": 54,
          "Health Metric": "Avoided Care Due to Cost",
          "State": "ID",
          "Value": 11.3
         },
         {
          "Economic Hardship Index": 52,
          "Health Metric": "Avoided Care Due to Cost",
          "State": "IL",
          "Value": 10.6
         },
         {
          "Economic Hardship Index": 56,
          "Health Metric": "Avoided Care Due to Cost",
          "State": "IN",
          "Value": 10.4
         },
         {
          "Economic Hardship Index": 51,
          "Health Metric": "Avoided Care Due to Cost",
          "State": "KS",
          "Value": 10.9
         },
         {
          "Economic Hardship Index": 75,
          "Health Metric": "Avoided Care Due to Cost",
          "State": "KY",
          "Value": null
         },
         {
          "Economic Hardship Index": 97,
          "Health Metric": "Avoided Care Due to Cost",
          "State": "LA",
          "Value": 11.5
         },
         {
          "Economic Hardship Index": 21,
          "Health Metric": "Avoided Care Due to Cost",
          "State": "MA",
          "Value": 7.1
         },
         {
          "Economic Hardship Index": 34,
          "Health Metric": "Avoided Care Due to Cost",
          "State": "MD",
          "Value": 9.6
         },
         {
          "Economic Hardship Index": 30,
          "Health Metric": "Avoided Care Due to Cost",
          "State": "ME",
          "Value": 8.7
         },
         {
          "Economic Hardship Index": 60,
          "Health Metric": "Avoided Care Due to Cost",
          "State": "MI",
          "Value": 9.2
         },
         {
          "Economic Hardship Index": 25,
          "Health Metric": "Avoided Care Due to Cost",
          "State": "MN",
          "Value": 8.6
         },
         {
          "Economic Hardship Index": 49,
          "Health Metric": "Avoided Care Due to Cost",
          "State": "MO",
          "Value": 11.5
         },
         {
          "Economic Hardship Index": 100,
          "Health Metric": "Avoided Care Due to Cost",
          "State": "MS",
          "Value": 14.1
         },
         {
          "Economic Hardship Index": 39,
          "Health Metric": "Avoided Care Due to Cost",
          "State": "MT",
          "Value": 9.7
         },
         {
          "Economic Hardship Index": 51,
          "Health Metric": "Avoided Care Due to Cost",
          "State": "NC",
          "Value": 10.7
         },
         {
          "Economic Hardship Index": 27,
          "Health Metric": "Avoided Care Due to Cost",
          "State": "ND",
          "Value": 8.3
         },
         {
          "Economic Hardship Index": 41,
          "Health Metric": "Avoided Care Due to Cost",
          "State": "NE",
          "Value": 8.8
         },
         {
          "Economic Hardship Index": 1,
          "Health Metric": "Avoided Care Due to Cost",
          "State": "NH",
          "Value": 7.7
         },
         {
          "Economic Hardship Index": 45,
          "Health Metric": "Avoided Care Due to Cost",
          "State": "NJ",
          "Value": 10.8
         },
         {
          "Economic Hardship Index": 97,
          "Health Metric": "Avoided Care Due to Cost",
          "State": "NM",
          "Value": 10.7
         },
         {
          "Economic Hardship Index": 69,
          "Health Metric": "Avoided Care Due to Cost",
          "State": "NV",
          "Value": 15.2
         },
         {
          "Economic Hardship Index": 71,
          "Health Metric": "Avoided Care Due to Cost",
          "State": "NY",
          "Value": 9.7
         },
         {
          "Economic Hardship Index": 56,
          "Health Metric": "Avoided Care Due to Cost",
          "State": "OH",
          "Value": 9.5
         },
         {
          "Economic Hardship Index": 83,
          "Health Metric": "Avoided Care Due to Cost",
          "State": "OK",
          "Value": 13.3
         },
         {
          "Economic Hardship Index": 46,
          "Health Metric": "Avoided Care Due to Cost",
          "State": "OR",
          "Value": 10.2
         },
         {
          "Economic Hardship Index": 50,
          "Health Metric": "Avoided Care Due to Cost",
          "State": "PA",
          "Value": null
         },
         {
          "Economic Hardship Index": 47,
          "Health Metric": "Avoided Care Due to Cost",
          "State": "RI",
          "Value": 8.3
         },
         {
          "Economic Hardship Index": 68,
          "Health Metric": "Avoided Care Due to Cost",
          "State": "SC",
          "Value": 12.8
         },
         {
          "Economic Hardship Index": 43,
          "Health Metric": "Avoided Care Due to Cost",
          "State": "SD",
          "Value": 10.3
         },
         {
          "Economic Hardship Index": 60,
          "Health Metric": "Avoided Care Due to Cost",
          "State": "TN",
          "Value": 14.9
         },
         {
          "Economic Hardship Index": 74,
          "Health Metric": "Avoided Care Due to Cost",
          "State": "TX",
          "Value": 18.3
         },
         {
          "Economic Hardship Index": 36,
          "Health Metric": "Avoided Care Due to Cost",
          "State": "UT",
          "Value": 11.6
         },
         {
          "Economic Hardship Index": 31,
          "Health Metric": "Avoided Care Due to Cost",
          "State": "VA",
          "Value": 9.2
         },
         {
          "Economic Hardship Index": 18,
          "Health Metric": "Avoided Care Due to Cost",
          "State": "VT",
          "Value": 7
         },
         {
          "Economic Hardship Index": 33,
          "Health Metric": "Avoided Care Due to Cost",
          "State": "WA",
          "Value": 9.7
         },
         {
          "Economic Hardship Index": 30,
          "Health Metric": "Avoided Care Due to Cost",
          "State": "WI",
          "Value": 8.4
         },
         {
          "Economic Hardship Index": 87,
          "Health Metric": "Avoided Care Due to Cost",
          "State": "WV",
          "Value": 12.5
         },
         {
          "Economic Hardship Index": 44,
          "Health Metric": "Avoided Care Due to Cost",
          "State": "WY",
          "Value": 12
         },
         {
          "Economic Hardship Index": 47,
          "Health Metric": "Cancer",
          "State": "AK",
          "Value": 7.3
         },
         {
          "Economic Hardship Index": 74,
          "Health Metric": "Cancer",
          "State": "AL",
          "Value": 8.4
         },
         {
          "Economic Hardship Index": 82,
          "Health Metric": "Cancer",
          "State": "AR",
          "Value": 8.4
         },
         {
          "Economic Hardship Index": 70,
          "Health Metric": "Cancer",
          "State": "AZ",
          "Value": 9.4
         },
         {
          "Economic Hardship Index": 84,
          "Health Metric": "Cancer",
          "State": "CA",
          "Value": 6.5
         },
         {
          "Economic Hardship Index": 12,
          "Health Metric": "Cancer",
          "State": "CO",
          "Value": 8.1
         },
         {
          "Economic Hardship Index": 37,
          "Health Metric": "Cancer",
          "State": "CT",
          "Value": 8
         },
         {
          "Economic Hardship Index": 48,
          "Health Metric": "Cancer",
          "State": "DE",
          "Value": 10.2
         },
         {
          "Economic Hardship Index": 65,
          "Health Metric": "Cancer",
          "State": "FL",
          "Value": 9.8
         },
         {
          "Economic Hardship Index": 59,
          "Health Metric": "Cancer",
          "State": "GA",
          "Value": 7.1
         },
         {
          "Economic Hardship Index": 67,
          "Health Metric": "Cancer",
          "State": "HI",
          "Value": 6.6
         },
         {
          "Economic Hardship Index": 41,
          "Health Metric": "Cancer",
          "State": "IA",
          "Value": 8.9
         },
         {
          "Economic Hardship Index": 54,
          "Health Metric": "Cancer",
          "State": "ID",
          "Value": 8.6
         },
         {
          "Economic Hardship Index": 52,
          "Health Metric": "Cancer",
          "State": "IL",
          "Value": 7.5
         },
         {
          "Economic Hardship Index": 56,
          "Health Metric": "Cancer",
          "State": "IN",
          "Value": 8.8
         },
         {
          "Economic Hardship Index": 51,
          "Health Metric": "Cancer",
          "State": "KS",
          "Value": 8.6
         },
         {
          "Economic Hardship Index": 75,
          "Health Metric": "Cancer",
          "State": "KY",
          "Value": null
         },
         {
          "Economic Hardship Index": 97,
          "Health Metric": "Cancer",
          "State": "LA",
          "Value": 7.7
         },
         {
          "Economic Hardship Index": 21,
          "Health Metric": "Cancer",
          "State": "MA",
          "Value": 8.7
         },
         {
          "Economic Hardship Index": 34,
          "Health Metric": "Cancer",
          "State": "MD",
          "Value": 7.6
         },
         {
          "Economic Hardship Index": 30,
          "Health Metric": "Cancer",
          "State": "ME",
          "Value": 10.4
         },
         {
          "Economic Hardship Index": 60,
          "Health Metric": "Cancer",
          "State": "MI",
          "Value": 9.3
         },
         {
          "Economic Hardship Index": 25,
          "Health Metric": "Cancer",
          "State": "MN",
          "Value": 8.4
         },
         {
          "Economic Hardship Index": 49,
          "Health Metric": "Cancer",
          "State": "MO",
          "Value": 8.6
         },
         {
          "Economic Hardship Index": 100,
          "Health Metric": "Cancer",
          "State": "MS",
          "Value": 8.7
         },
         {
          "Economic Hardship Index": 39,
          "Health Metric": "Cancer",
          "State": "MT",
          "Value": 10.5
         },
         {
          "Economic Hardship Index": 51,
          "Health Metric": "Cancer",
          "State": "NC",
          "Value": 8
         },
         {
          "Economic Hardship Index": 27,
          "Health Metric": "Cancer",
          "State": "ND",
          "Value": 7.9
         },
         {
          "Economic Hardship Index": 41,
          "Health Metric": "Cancer",
          "State": "NE",
          "Value": 8.1
         },
         {
          "Economic Hardship Index": 1,
          "Health Metric": "Cancer",
          "State": "NH",
          "Value": 10.2
         },
         {
          "Economic Hardship Index": 45,
          "Health Metric": "Cancer",
          "State": "NJ",
          "Value": 6.9
         },
         {
          "Economic Hardship Index": 97,
          "Health Metric": "Cancer",
          "State": "NM",
          "Value": 7.7
         },
         {
          "Economic Hardship Index": 69,
          "Health Metric": "Cancer",
          "State": "NV",
          "Value": 8.3
         },
         {
          "Economic Hardship Index": 71,
          "Health Metric": "Cancer",
          "State": "NY",
          "Value": 7.7
         },
         {
          "Economic Hardship Index": 56,
          "Health Metric": "Cancer",
          "State": "OH",
          "Value": 8.7
         },
         {
          "Economic Hardship Index": 83,
          "Health Metric": "Cancer",
          "State": "OK",
          "Value": 7.7
         },
         {
          "Economic Hardship Index": 46,
          "Health Metric": "Cancer",
          "State": "OR",
          "Value": 10
         },
         {
          "Economic Hardship Index": 50,
          "Health Metric": "Cancer",
          "State": "PA",
          "Value": null
         },
         {
          "Economic Hardship Index": 47,
          "Health Metric": "Cancer",
          "State": "RI",
          "Value": 8.2
         },
         {
          "Economic Hardship Index": 68,
          "Health Metric": "Cancer",
          "State": "SC",
          "Value": 9.6
         },
         {
          "Economic Hardship Index": 43,
          "Health Metric": "Cancer",
          "State": "SD",
          "Value": 8.7
         },
         {
          "Economic Hardship Index": 60,
          "Health Metric": "Cancer",
          "State": "TN",
          "Value": 8.8
         },
         {
          "Economic Hardship Index": 74,
          "Health Metric": "Cancer",
          "State": "TX",
          "Value": 5.6
         },
         {
          "Economic Hardship Index": 36,
          "Health Metric": "Cancer",
          "State": "UT",
          "Value": 8
         },
         {
          "Economic Hardship Index": 31,
          "Health Metric": "Cancer",
          "State": "VA",
          "Value": 8.1
         },
         {
          "Economic Hardship Index": 18,
          "Health Metric": "Cancer",
          "State": "VT",
          "Value": 10.3
         },
         {
          "Economic Hardship Index": 33,
          "Health Metric": "Cancer",
          "State": "WA",
          "Value": 8.2
         },
         {
          "Economic Hardship Index": 30,
          "Health Metric": "Cancer",
          "State": "WI",
          "Value": 8.7
         },
         {
          "Economic Hardship Index": 87,
          "Health Metric": "Cancer",
          "State": "WV",
          "Value": 10.2
         },
         {
          "Economic Hardship Index": 44,
          "Health Metric": "Cancer",
          "State": "WY",
          "Value": 8.8
         },
         {
          "Economic Hardship Index": 47,
          "Health Metric": "Diabetes",
          "State": "AK",
          "Value": 8.7
         },
         {
          "Economic Hardship Index": 74,
          "Health Metric": "Diabetes",
          "State": "AL",
          "Value": 15.7
         },
         {
          "Economic Hardship Index": 82,
          "Health Metric": "Diabetes",
          "State": "AR",
          "Value": 14.5
         },
         {
          "Economic Hardship Index": 70,
          "Health Metric": "Diabetes",
          "State": "AZ",
          "Value": 11.4
         },
         {
          "Economic Hardship Index": 84,
          "Health Metric": "Diabetes",
          "State": "CA",
          "Value": 11.5
         },
         {
          "Economic Hardship Index": 12,
          "Health Metric": "Diabetes",
          "State": "CO",
          "Value": 8.6
         },
         {
          "Economic Hardship Index": 37,
          "Health Metric": "Diabetes",
          "State": "CT",
          "Value": 9.9
         },
         {
          "Economic Hardship Index": 48,
          "Health Metric": "Diabetes",
          "State": "DE",
          "Value": 13.3
         },
         {
          "Economic Hardship Index": 65,
          "Health Metric": "Diabetes",
          "State": "FL",
          "Value": 12.5
         },
         {
          "Economic Hardship Index": 59,
          "Health Metric": "Diabetes",
          "State": "GA",
          "Value": 12.7
         },
         {
          "Economic Hardship Index": 67,
          "Health Metric": "Diabetes",
          "State": "HI",
          "Value": 11.3
         },
         {
          "Economic Hardship Index": 41,
          "Health Metric": "Diabetes",
          "State": "IA",
          "Value": 11.3
         },
         {
          "Economic Hardship Index": 54,
          "Health Metric": "Diabetes",
          "State": "ID",
          "Value": 9.8
         },
         {
          "Economic Hardship Index": 52,
          "Health Metric": "Diabetes",
          "State": "IL",
          "Value": 12.2
         },
         {
          "Economic Hardship Index": 56,
          "Health Metric": "Diabetes",
          "State": "IN",
          "Value": 13.2
         },
         {
          "Economic Hardship Index": 51,
          "Health Metric": "Diabetes",
          "State": "KS",
          "Value": 11.4
         },
         {
          "Economic Hardship Index": 75,
          "Health Metric": "Diabetes",
          "State": "KY",
          "Value": null
         },
         {
          "Economic Hardship Index": 97,
          "Health Metric": "Diabetes",
          "State": "LA",
          "Value": 16.1
         },
         {
          "Economic Hardship Index": 21,
          "Health Metric": "Diabetes",
          "State": "MA",
          "Value": 9.8
         },
         {
          "Economic Hardship Index": 34,
          "Health Metric": "Diabetes",
          "State": "MD",
          "Value": 12.2
         },
         {
          "Economic Hardship Index": 30,
          "Health Metric": "Diabetes",
          "State": "ME",
          "Value": 11.4
         },
         {
          "Economic Hardship Index": 60,
          "Health Metric": "Diabetes",
          "State": "MI",
          "Value": 12.4
         },
         {
          "Economic Hardship Index": 25,
          "Health Metric": "Diabetes",
          "State": "MN",
          "Value": 10.5
         },
         {
          "Economic Hardship Index": 49,
          "Health Metric": "Diabetes",
          "State": "MO",
          "Value": 12.3
         },
         {
          "Economic Hardship Index": 100,
          "Health Metric": "Diabetes",
          "State": "MS",
          "Value": 17
         },
         {
          "Economic Hardship Index": 39,
          "Health Metric": "Diabetes",
          "State": "MT",
          "Value": 9.4
         },
         {
          "Economic Hardship Index": 51,
          "Health Metric": "Diabetes",
          "State": "NC",
          "Value": 12.4
         },
         {
          "Economic Hardship Index": 27,
          "Health Metric": "Diabetes",
          "State": "ND",
          "Value": 9.5
         },
         {
          "Economic Hardship Index": 41,
          "Health Metric": "Diabetes",
          "State": "NE",
          "Value": 10.6
         },
         {
          "Economic Hardship Index": 1,
          "Health Metric": "Diabetes",
          "State": "NH",
          "Value": 9.8
         },
         {
          "Economic Hardship Index": 45,
          "Health Metric": "Diabetes",
          "State": "NJ",
          "Value": 10.5
         },
         {
          "Economic Hardship Index": 97,
          "Health Metric": "Diabetes",
          "State": "NM",
          "Value": 12.5
         },
         {
          "Economic Hardship Index": 69,
          "Health Metric": "Diabetes",
          "State": "NV",
          "Value": 11.9
         },
         {
          "Economic Hardship Index": 71,
          "Health Metric": "Diabetes",
          "State": "NY",
          "Value": 10.6
         },
         {
          "Economic Hardship Index": 56,
          "Health Metric": "Diabetes",
          "State": "OH",
          "Value": 13.2
         },
         {
          "Economic Hardship Index": 83,
          "Health Metric": "Diabetes",
          "State": "OK",
          "Value": 12.4
         },
         {
          "Economic Hardship Index": 46,
          "Health Metric": "Diabetes",
          "State": "OR",
          "Value": 10.9
         },
         {
          "Economic Hardship Index": 50,
          "Health Metric": "Diabetes",
          "State": "PA",
          "Value": null
         },
         {
          "Economic Hardship Index": 47,
          "Health Metric": "Diabetes",
          "State": "RI",
          "Value": 11.8
         },
         {
          "Economic Hardship Index": 68,
          "Health Metric": "Diabetes",
          "State": "SC",
          "Value": 14.9
         },
         {
          "Economic Hardship Index": 43,
          "Health Metric": "Diabetes",
          "State": "SD",
          "Value": 11.8
         },
         {
          "Economic Hardship Index": 60,
          "Health Metric": "Diabetes",
          "State": "TN",
          "Value": 14.5
         },
         {
          "Economic Hardship Index": 74,
          "Health Metric": "Diabetes",
          "State": "TX",
          "Value": 12.7
         },
         {
          "Economic Hardship Index": 36,
          "Health Metric": "Diabetes",
          "State": "UT",
          "Value": 7.8
         },
         {
          "Economic Hardship Index": 31,
          "Health Metric": "Diabetes",
          "State": "VA",
          "Value": 11.8
         },
         {
          "Economic Hardship Index": 18,
          "Health Metric": "Diabetes",
          "State": "VT",
          "Value": 9.3
         },
         {
          "Economic Hardship Index": 33,
          "Health Metric": "Diabetes",
          "State": "WA",
          "Value": 9.6
         },
         {
          "Economic Hardship Index": 30,
          "Health Metric": "Diabetes",
          "State": "WI",
          "Value": 11.3
         },
         {
          "Economic Hardship Index": 87,
          "Health Metric": "Diabetes",
          "State": "WV",
          "Value": 18.2
         },
         {
          "Economic Hardship Index": 44,
          "Health Metric": "Diabetes",
          "State": "WY",
          "Value": 10.8
         },
         {
          "Economic Hardship Index": 47,
          "Health Metric": "Exercise",
          "State": "AK",
          "Value": 33.9
         },
         {
          "Economic Hardship Index": 74,
          "Health Metric": "Exercise",
          "State": "AL",
          "Value": 25
         },
         {
          "Economic Hardship Index": 82,
          "Health Metric": "Exercise",
          "State": "AR",
          "Value": 26.8
         },
         {
          "Economic Hardship Index": 70,
          "Health Metric": "Exercise",
          "State": "AZ",
          "Value": 33.3
         },
         {
          "Economic Hardship Index": 84,
          "Health Metric": "Exercise",
          "State": "CA",
          "Value": 30.1
         },
         {
          "Economic Hardship Index": 12,
          "Health Metric": "Exercise",
          "State": "CO",
          "Value": 35.4
         },
         {
          "Economic Hardship Index": 37,
          "Health Metric": "Exercise",
          "State": "CT",
          "Value": 31.4
         },
         {
          "Economic Hardship Index": 48,
          "Health Metric": "Exercise",
          "State": "DE",
          "Value": 28.3
         },
         {
          "Economic Hardship Index": 65,
          "Health Metric": "Exercise",
          "State": "FL",
          "Value": 31.5
         },
         {
          "Economic Hardship Index": 59,
          "Health Metric": "Exercise",
          "State": "GA",
          "Value": 29.6
         },
         {
          "Economic Hardship Index": 67,
          "Health Metric": "Exercise",
          "State": "HI",
          "Value": 31.8
         },
         {
          "Economic Hardship Index": 41,
          "Health Metric": "Exercise",
          "State": "IA",
          "Value": 25.9
         },
         {
          "Economic Hardship Index": 54,
          "Health Metric": "Exercise",
          "State": "ID",
          "Value": 29.4
         },
         {
          "Economic Hardship Index": 52,
          "Health Metric": "Exercise",
          "State": "IL",
          "Value": 29.1
         },
         {
          "Economic Hardship Index": 56,
          "Health Metric": "Exercise",
          "State": "IN",
          "Value": 29.3
         },
         {
          "Economic Hardship Index": 51,
          "Health Metric": "Exercise",
          "State": "KS",
          "Value": 26.8
         },
         {
          "Economic Hardship Index": 75,
          "Health Metric": "Exercise",
          "State": "KY",
          "Value": null
         },
         {
          "Economic Hardship Index": 97,
          "Health Metric": "Exercise",
          "State": "LA",
          "Value": 26.9
         },
         {
          "Economic Hardship Index": 21,
          "Health Metric": "Exercise",
          "State": "MA",
          "Value": 31.1
         },
         {
          "Economic Hardship Index": 34,
          "Health Metric": "Exercise",
          "State": "MD",
          "Value": 30.8
         },
         {
          "Economic Hardship Index": 30,
          "Health Metric": "Exercise",
          "State": "ME",
          "Value": 31
         },
         {
          "Economic Hardship Index": 60,
          "Health Metric": "Exercise",
          "State": "MI",
          "Value": 30.2
         },
         {
          "Economic Hardship Index": 25,
          "Health Metric": "Exercise",
          "State": "MN",
          "Value": 30.2
         },
         {
          "Economic Hardship Index": 49,
          "Health Metric": "Exercise",
          "State": "MO",
          "Value": 23.7
         },
         {
          "Economic Hardship Index": 100,
          "Health Metric": "Exercise",
          "State": "MS",
          "Value": 23.4
         },
         {
          "Economic Hardship Index": 39,
          "Health Metric": "Exercise",
          "State": "MT",
          "Value": 32.2
         },
         {
          "Economic Hardship Index": 51,
          "Health Metric": "Exercise",
          "State": "NC",
          "Value": 26
         },
         {
          "Economic Hardship Index": 27,
          "Health Metric": "Exercise",
          "State": "ND",
          "Value": 30.9
         },
         {
          "Economic Hardship Index": 41,
          "Health Metric": "Exercise",
          "State": "NE",
          "Value": 28.2
         },
         {
          "Economic Hardship Index": 1,
          "Health Metric": "Exercise",
          "State": "NH",
          "Value": 33.1
         },
         {
          "Economic Hardship Index": 45,
          "Health Metric": "Exercise",
          "State": "NJ",
          "Value": 31.3
         },
         {
          "Economic Hardship Index": 97,
          "Health Metric": "Exercise",
          "State": "NM",
          "Value": 30.4
         },
         {
          "Economic Hardship Index": 69,
          "Health Metric": "Exercise",
          "State": "NV",
          "Value": 31
         },
         {
          "Economic Hardship Index": 71,
          "Health Metric": "Exercise",
          "State": "NY",
          "Value": 30.8
         },
         {
          "Economic Hardship Index": 56,
          "Health Metric": "Exercise",
          "State": "OH",
          "Value": 30.6
         },
         {
          "Economic Hardship Index": 83,
          "Health Metric": "Exercise",
          "State": "OK",
          "Value": 23.4
         },
         {
          "Economic Hardship Index": 46,
          "Health Metric": "Exercise",
          "State": "OR",
          "Value": 32.4
         },
         {
          "Economic Hardship Index": 50,
          "Health Metric": "Exercise",
          "State": "PA",
          "Value": null
         },
         {
          "Economic Hardship Index": 47,
          "Health Metric": "Exercise",
          "State": "RI",
          "Value": 29.9
         },
         {
          "Economic Hardship Index": 68,
          "Health Metric": "Exercise",
          "State": "SC",
          "Value": 31.6
         },
         {
          "Economic Hardship Index": 43,
          "Health Metric": "Exercise",
          "State": "SD",
          "Value": 26.5
         },
         {
          "Economic Hardship Index": 60,
          "Health Metric": "Exercise",
          "State": "TN",
          "Value": 27.4
         },
         {
          "Economic Hardship Index": 74,
          "Health Metric": "Exercise",
          "State": "TX",
          "Value": 30.9
         },
         {
          "Economic Hardship Index": 36,
          "Health Metric": "Exercise",
          "State": "UT",
          "Value": 33.1
         },
         {
          "Economic Hardship Index": 31,
          "Health Metric": "Exercise",
          "State": "VA",
          "Value": 31.8
         },
         {
          "Economic Hardship Index": 18,
          "Health Metric": "Exercise",
          "State": "VT",
          "Value": 33.7
         },
         {
          "Economic Hardship Index": 33,
          "Health Metric": "Exercise",
          "State": "WA",
          "Value": 31.8
         },
         {
          "Economic Hardship Index": 30,
          "Health Metric": "Exercise",
          "State": "WI",
          "Value": 27.5
         },
         {
          "Economic Hardship Index": 87,
          "Health Metric": "Exercise",
          "State": "WV",
          "Value": 20.6
         },
         {
          "Economic Hardship Index": 44,
          "Health Metric": "Exercise",
          "State": "WY",
          "Value": 30.1
         },
         {
          "Economic Hardship Index": 47,
          "Health Metric": "High Blood Pressure",
          "State": "AK",
          "Value": 33.8
         },
         {
          "Economic Hardship Index": 74,
          "Health Metric": "High Blood Pressure",
          "State": "AL",
          "Value": 44.7
         },
         {
          "Economic Hardship Index": 82,
          "Health Metric": "High Blood Pressure",
          "State": "AR",
          "Value": 42.5
         },
         {
          "Economic Hardship Index": 70,
          "Health Metric": "High Blood Pressure",
          "State": "AZ",
          "Value": 33.4
         },
         {
          "Economic Hardship Index": 84,
          "Health Metric": "High Blood Pressure",
          "State": "CA",
          "Value": 30.6
         },
         {
          "Economic Hardship Index": 12,
          "Health Metric": "High Blood Pressure",
          "State": "CO",
          "Value": 27.3
         },
         {
          "Economic Hardship Index": 37,
          "Health Metric": "High Blood Pressure",
          "State": "CT",
          "Value": 32
         },
         {
          "Economic Hardship Index": 48,
          "Health Metric": "High Blood Pressure",
          "State": "DE",
          "Value": 37.8
         },
         {
          "Economic Hardship Index": 65,
          "Health Metric": "High Blood Pressure",
          "State": "FL",
          "Value": 35.9
         },
         {
          "Economic Hardship Index": 59,
          "Health Metric": "High Blood Pressure",
          "State": "GA",
          "Value": 35.7
         },
         {
          "Economic Hardship Index": 67,
          "Health Metric": "High Blood Pressure",
          "State": "HI",
          "Value": 32.4
         },
         {
          "Economic Hardship Index": 41,
          "Health Metric": "High Blood Pressure",
          "State": "IA",
          "Value": 34.5
         },
         {
          "Economic Hardship Index": 54,
          "Health Metric": "High Blood Pressure",
          "State": "ID",
          "Value": 31.2
         },
         {
          "Economic Hardship Index": 52,
          "Health Metric": "High Blood Pressure",
          "State": "IL",
          "Value": 33.5
         },
         {
          "Economic Hardship Index": 56,
          "Health Metric": "High Blood Pressure",
          "State": "IN",
          "Value": 37.6
         },
         {
          "Economic Hardship Index": 51,
          "Health Metric": "High Blood Pressure",
          "State": "KS",
          "Value": 34.7
         },
         {
          "Economic Hardship Index": 75,
          "Health Metric": "High Blood Pressure",
          "State": "KY",
          "Value": null
         },
         {
          "Economic Hardship Index": 97,
          "Health Metric": "High Blood Pressure",
          "State": "LA",
          "Value": 43.3
         },
         {
          "Economic Hardship Index": 21,
          "Health Metric": "High Blood Pressure",
          "State": "MA",
          "Value": 31
         },
         {
          "Economic Hardship Index": 34,
          "Health Metric": "High Blood Pressure",
          "State": "MD",
          "Value": 35.8
         },
         {
          "Economic Hardship Index": 30,
          "Health Metric": "High Blood Pressure",
          "State": "ME",
          "Value": 35.8
         },
         {
          "Economic Hardship Index": 60,
          "Health Metric": "High Blood Pressure",
          "State": "MI",
          "Value": 37
         },
         {
          "Economic Hardship Index": 25,
          "Health Metric": "High Blood Pressure",
          "State": "MN",
          "Value": 31.1
         },
         {
          "Economic Hardship Index": 49,
          "Health Metric": "High Blood Pressure",
          "State": "MO",
          "Value": 36.2
         },
         {
          "Economic Hardship Index": 100,
          "Health Metric": "High Blood Pressure",
          "State": "MS",
          "Value": 46
         },
         {
          "Economic Hardship Index": 39,
          "Health Metric": "High Blood Pressure",
          "State": "MT",
          "Value": 32.2
         },
         {
          "Economic Hardship Index": 51,
          "Health Metric": "High Blood Pressure",
          "State": "NC",
          "Value": 37.5
         },
         {
          "Economic Hardship Index": 27,
          "Health Metric": "High Blood Pressure",
          "State": "ND",
          "Value": 31.8
         },
         {
          "Economic Hardship Index": 41,
          "Health Metric": "High Blood Pressure",
          "State": "NE",
          "Value": 32.7
         },
         {
          "Economic Hardship Index": 1,
          "Health Metric": "High Blood Pressure",
          "State": "NH",
          "Value": 33.3
         },
         {
          "Economic Hardship Index": 45,
          "Health Metric": "High Blood Pressure",
          "State": "NJ",
          "Value": 33.4
         },
         {
          "Economic Hardship Index": 97,
          "Health Metric": "High Blood Pressure",
          "State": "NM",
          "Value": 34.1
         },
         {
          "Economic Hardship Index": 69,
          "Health Metric": "High Blood Pressure",
          "State": "NV",
          "Value": 34
         },
         {
          "Economic Hardship Index": 71,
          "Health Metric": "High Blood Pressure",
          "State": "NY",
          "Value": 32.1
         },
         {
          "Economic Hardship Index": 56,
          "Health Metric": "High Blood Pressure",
          "State": "OH",
          "Value": 37.1
         },
         {
          "Economic Hardship Index": 83,
          "Health Metric": "High Blood Pressure",
          "State": "OK",
          "Value": 38.4
         },
         {
          "Economic Hardship Index": 46,
          "Health Metric": "High Blood Pressure",
          "State": "OR",
          "Value": 33.5
         },
         {
          "Economic Hardship Index": 50,
          "Health Metric": "High Blood Pressure",
          "State": "PA",
          "Value": null
         },
         {
          "Economic Hardship Index": 47,
          "Health Metric": "High Blood Pressure",
          "State": "RI",
          "Value": 34
         },
         {
          "Economic Hardship Index": 68,
          "Health Metric": "High Blood Pressure",
          "State": "SC",
          "Value": 38.9
         },
         {
          "Economic Hardship Index": 43,
          "Health Metric": "High Blood Pressure",
          "State": "SD",
          "Value": 35.2
         },
         {
          "Economic Hardship Index": 60,
          "Health Metric": "High Blood Pressure",
          "State": "TN",
          "Value": 40.7
         },
         {
          "Economic Hardship Index": 74,
          "Health Metric": "High Blood Pressure",
          "State": "TX",
          "Value": 32.3
         },
         {
          "Economic Hardship Index": 36,
          "Health Metric": "High Blood Pressure",
          "State": "UT",
          "Value": 27.3
         },
         {
          "Economic Hardship Index": 31,
          "Health Metric": "High Blood Pressure",
          "State": "VA",
          "Value": 35.6
         },
         {
          "Economic Hardship Index": 18,
          "Health Metric": "High Blood Pressure",
          "State": "VT",
          "Value": 32.5
         },
         {
          "Economic Hardship Index": 33,
          "Health Metric": "High Blood Pressure",
          "State": "WA",
          "Value": 30.6
         },
         {
          "Economic Hardship Index": 30,
          "Health Metric": "High Blood Pressure",
          "State": "WI",
          "Value": 33.1
         },
         {
          "Economic Hardship Index": 87,
          "Health Metric": "High Blood Pressure",
          "State": "WV",
          "Value": 45.1
         },
         {
          "Economic Hardship Index": 44,
          "Health Metric": "High Blood Pressure",
          "State": "WY",
          "Value": 31.5
         },
         {
          "Economic Hardship Index": 47,
          "Health Metric": "High Cholesterol",
          "State": "AK",
          "Value": 34.2
         },
         {
          "Economic Hardship Index": 74,
          "Health Metric": "High Cholesterol",
          "State": "AL",
          "Value": 42.3
         },
         {
          "Economic Hardship Index": 82,
          "Health Metric": "High Cholesterol",
          "State": "AR",
          "Value": 40.2
         },
         {
          "Economic Hardship Index": 70,
          "Health Metric": "High Cholesterol",
          "State": "AZ",
          "Value": 38.7
         },
         {
          "Economic Hardship Index": 84,
          "Health Metric": "High Cholesterol",
          "State": "CA",
          "Value": 37
         },
         {
          "Economic Hardship Index": 12,
          "Health Metric": "High Cholesterol",
          "State": "CO",
          "Value": 32.5
         },
         {
          "Economic Hardship Index": 37,
          "Health Metric": "High Cholesterol",
          "State": "CT",
          "Value": 38.6
         },
         {
          "Economic Hardship Index": 48,
          "Health Metric": "High Cholesterol",
          "State": "DE",
          "Value": 43.6
         },
         {
          "Economic Hardship Index": 65,
          "Health Metric": "High Cholesterol",
          "State": "FL",
          "Value": 39.3
         },
         {
          "Economic Hardship Index": 59,
          "Health Metric": "High Cholesterol",
          "State": "GA",
          "Value": 36.9
         },
         {
          "Economic Hardship Index": 67,
          "Health Metric": "High Cholesterol",
          "State": "HI",
          "Value": 37.5
         },
         {
          "Economic Hardship Index": 41,
          "Health Metric": "High Cholesterol",
          "State": "IA",
          "Value": 36.7
         },
         {
          "Economic Hardship Index": 54,
          "Health Metric": "High Cholesterol",
          "State": "ID",
          "Value": 34.4
         },
         {
          "Economic Hardship Index": 52,
          "Health Metric": "High Cholesterol",
          "State": "IL",
          "Value": 36.3
         },
         {
          "Economic Hardship Index": 56,
          "Health Metric": "High Cholesterol",
          "State": "IN",
          "Value": 39.3
         },
         {
          "Economic Hardship Index": 51,
          "Health Metric": "High Cholesterol",
          "State": "KS",
          "Value": 38.5
         },
         {
          "Economic Hardship Index": 75,
          "Health Metric": "High Cholesterol",
          "State": "KY",
          "Value": null
         },
         {
          "Economic Hardship Index": 97,
          "Health Metric": "High Cholesterol",
          "State": "LA",
          "Value": 39.5
         },
         {
          "Economic Hardship Index": 21,
          "Health Metric": "High Cholesterol",
          "State": "MA",
          "Value": 35.7
         },
         {
          "Economic Hardship Index": 34,
          "Health Metric": "High Cholesterol",
          "State": "MD",
          "Value": 39.3
         },
         {
          "Economic Hardship Index": 30,
          "Health Metric": "High Cholesterol",
          "State": "ME",
          "Value": 38.3
         },
         {
          "Economic Hardship Index": 60,
          "Health Metric": "High Cholesterol",
          "State": "MI",
          "Value": 35.6
         },
         {
          "Economic Hardship Index": 25,
          "Health Metric": "High Cholesterol",
          "State": "MN",
          "Value": 33.8
         },
         {
          "Economic Hardship Index": 49,
          "Health Metric": "High Cholesterol",
          "State": "MO",
          "Value": 38.5
         },
         {
          "Economic Hardship Index": 100,
          "Health Metric": "High Cholesterol",
          "State": "MS",
          "Value": 39.8
         },
         {
          "Economic Hardship Index": 39,
          "Health Metric": "High Cholesterol",
          "State": "MT",
          "Value": 34
         },
         {
          "Economic Hardship Index": 51,
          "Health Metric": "High Cholesterol",
          "State": "NC",
          "Value": 36.3
         },
         {
          "Economic Hardship Index": 27,
          "Health Metric": "High Cholesterol",
          "State": "ND",
          "Value": 35.1
         },
         {
          "Economic Hardship Index": 41,
          "Health Metric": "High Cholesterol",
          "State": "NE",
          "Value": 34
         },
         {
          "Economic Hardship Index": 1,
          "Health Metric": "High Cholesterol",
          "State": "NH",
          "Value": 35.8
         },
         {
          "Economic Hardship Index": 45,
          "Health Metric": "High Cholesterol",
          "State": "NJ",
          "Value": 39.1
         },
         {
          "Economic Hardship Index": 97,
          "Health Metric": "High Cholesterol",
          "State": "NM",
          "Value": 35.4
         },
         {
          "Economic Hardship Index": 69,
          "Health Metric": "High Cholesterol",
          "State": "NV",
          "Value": 39.3
         },
         {
          "Economic Hardship Index": 71,
          "Health Metric": "High Cholesterol",
          "State": "NY",
          "Value": 38.5
         },
         {
          "Economic Hardship Index": 56,
          "Health Metric": "High Cholesterol",
          "State": "OH",
          "Value": 37.4
         },
         {
          "Economic Hardship Index": 83,
          "Health Metric": "High Cholesterol",
          "State": "OK",
          "Value": 39.2
         },
         {
          "Economic Hardship Index": 46,
          "Health Metric": "High Cholesterol",
          "State": "OR",
          "Value": 34.2
         },
         {
          "Economic Hardship Index": 50,
          "Health Metric": "High Cholesterol",
          "State": "PA",
          "Value": null
         },
         {
          "Economic Hardship Index": 47,
          "Health Metric": "High Cholesterol",
          "State": "RI",
          "Value": 35
         },
         {
          "Economic Hardship Index": 68,
          "Health Metric": "High Cholesterol",
          "State": "SC",
          "Value": 39.3
         },
         {
          "Economic Hardship Index": 43,
          "Health Metric": "High Cholesterol",
          "State": "SD",
          "Value": 35.5
         },
         {
          "Economic Hardship Index": 60,
          "Health Metric": "High Cholesterol",
          "State": "TN",
          "Value": 40.6
         },
         {
          "Economic Hardship Index": 74,
          "Health Metric": "High Cholesterol",
          "State": "TX",
          "Value": 36.3
         },
         {
          "Economic Hardship Index": 36,
          "Health Metric": "High Cholesterol",
          "State": "UT",
          "Value": 31.2
         },
         {
          "Economic Hardship Index": 31,
          "Health Metric": "High Cholesterol",
          "State": "VA",
          "Value": 39.3
         },
         {
          "Economic Hardship Index": 18,
          "Health Metric": "High Cholesterol",
          "State": "VT",
          "Value": 33
         },
         {
          "Economic Hardship Index": 33,
          "Health Metric": "High Cholesterol",
          "State": "WA",
          "Value": 36.2
         },
         {
          "Economic Hardship Index": 30,
          "Health Metric": "High Cholesterol",
          "State": "WI",
          "Value": 35.3
         },
         {
          "Economic Hardship Index": 87,
          "Health Metric": "High Cholesterol",
          "State": "WV",
          "Value": 45
         },
         {
          "Economic Hardship Index": 44,
          "Health Metric": "High Cholesterol",
          "State": "WY",
          "Value": 33.8
         },
         {
          "Economic Hardship Index": 47,
          "Health Metric": "Obesity",
          "State": "AK",
          "Value": 35.2
         },
         {
          "Economic Hardship Index": 74,
          "Health Metric": "Obesity",
          "State": "AL",
          "Value": 39.2
         },
         {
          "Economic Hardship Index": 82,
          "Health Metric": "Obesity",
          "State": "AR",
          "Value": 40
         },
         {
          "Economic Hardship Index": 70,
          "Health Metric": "Obesity",
          "State": "AZ",
          "Value": 31.9
         },
         {
          "Economic Hardship Index": 84,
          "Health Metric": "Obesity",
          "State": "CA",
          "Value": 27.7
         },
         {
          "Economic Hardship Index": 12,
          "Health Metric": "Obesity",
          "State": "CO",
          "Value": 24.9
         },
         {
          "Economic Hardship Index": 37,
          "Health Metric": "Obesity",
          "State": "CT",
          "Value": 29.4
         },
         {
          "Economic Hardship Index": 48,
          "Health Metric": "Obesity",
          "State": "DE",
          "Value": 35.7
         },
         {
          "Economic Hardship Index": 65,
          "Health Metric": "Obesity",
          "State": "FL",
          "Value": 30.1
         },
         {
          "Economic Hardship Index": 59,
          "Health Metric": "Obesity",
          "State": "GA",
          "Value": 35
         },
         {
          "Economic Hardship Index": 67,
          "Health Metric": "Obesity",
          "State": "HI",
          "Value": 26.1
         },
         {
          "Economic Hardship Index": 41,
          "Health Metric": "Obesity",
          "State": "IA",
          "Value": 37.8
         },
         {
          "Economic Hardship Index": 54,
          "Health Metric": "Obesity",
          "State": "ID",
          "Value": 31
         },
         {
          "Economic Hardship Index": 52,
          "Health Metric": "Obesity",
          "State": "IL",
          "Value": 36
         },
         {
          "Economic Hardship Index": 56,
          "Health Metric": "Obesity",
          "State": "IN",
          "Value": 37.8
         },
         {
          "Economic Hardship Index": 51,
          "Health Metric": "Obesity",
          "State": "KS",
          "Value": 35.9
         },
         {
          "Economic Hardship Index": 75,
          "Health Metric": "Obesity",
          "State": "KY",
          "Value": null
         },
         {
          "Economic Hardship Index": 97,
          "Health Metric": "Obesity",
          "State": "LA",
          "Value": 39.9
         },
         {
          "Economic Hardship Index": 21,
          "Health Metric": "Obesity",
          "State": "MA",
          "Value": 27.4
         },
         {
          "Economic Hardship Index": 34,
          "Health Metric": "Obesity",
          "State": "MD",
          "Value": 34.1
         },
         {
          "Economic Hardship Index": 30,
          "Health Metric": "Obesity",
          "State": "ME",
          "Value": 32.6
         },
         {
          "Economic Hardship Index": 60,
          "Health Metric": "Obesity",
          "State": "MI",
          "Value": 35.4
         },
         {
          "Economic Hardship Index": 25,
          "Health Metric": "Obesity",
          "State": "MN",
          "Value": 33.3
         },
         {
          "Economic Hardship Index": 49,
          "Health Metric": "Obesity",
          "State": "MO",
          "Value": 35.3
         },
         {
          "Economic Hardship Index": 100,
          "Health Metric": "Obesity",
          "State": "MS",
          "Value": 40.1
         },
         {
          "Economic Hardship Index": 39,
          "Health Metric": "Obesity",
          "State": "MT",
          "Value": 30.5
         },
         {
          "Economic Hardship Index": 51,
          "Health Metric": "Obesity",
          "State": "NC",
          "Value": 34
         },
         {
          "Economic Hardship Index": 27,
          "Health Metric": "Obesity",
          "State": "ND",
          "Value": 35.6
         },
         {
          "Economic Hardship Index": 41,
          "Health Metric": "Obesity",
          "State": "NE",
          "Value": 36.6
         },
         {
          "Economic Hardship Index": 1,
          "Health Metric": "Obesity",
          "State": "NH",
          "Value": 32.8
         },
         {
          "Economic Hardship Index": 45,
          "Health Metric": "Obesity",
          "State": "NJ",
          "Value": 28.9
         },
         {
          "Economic Hardship Index": 97,
          "Health Metric": "Obesity",
          "State": "NM",
          "Value": 35.3
         },
         {
          "Economic Hardship Index": 69,
          "Health Metric": "Obesity",
          "State": "NV",
          "Value": 30.8
         },
         {
          "Economic Hardship Index": 71,
          "Health Metric": "Obesity",
          "State": "NY",
          "Value": 28
         },
         {
          "Economic Hardship Index": 56,
          "Health Metric": "Obesity",
          "State": "OH",
          "Value": 36.4
         },
         {
          "Economic Hardship Index": 83,
          "Health Metric": "Obesity",
          "State": "OK",
          "Value": 38.7
         },
         {
          "Economic Hardship Index": 46,
          "Health Metric": "Obesity",
          "State": "OR",
          "Value": 33.6
         },
         {
          "Economic Hardship Index": 50,
          "Health Metric": "Obesity",
          "State": "PA",
          "Value": null
         },
         {
          "Economic Hardship Index": 47,
          "Health Metric": "Obesity",
          "State": "RI",
          "Value": 31.6
         },
         {
          "Economic Hardship Index": 68,
          "Health Metric": "Obesity",
          "State": "SC",
          "Value": 36
         },
         {
          "Economic Hardship Index": 43,
          "Health Metric": "Obesity",
          "State": "SD",
          "Value": 36
         },
         {
          "Economic Hardship Index": 60,
          "Health Metric": "Obesity",
          "State": "TN",
          "Value": 37.6
         },
         {
          "Economic Hardship Index": 74,
          "Health Metric": "Obesity",
          "State": "TX",
          "Value": 34.4
         },
         {
          "Economic Hardship Index": 36,
          "Health Metric": "Obesity",
          "State": "UT",
          "Value": 30.2
         },
         {
          "Economic Hardship Index": 31,
          "Health Metric": "Obesity",
          "State": "VA",
          "Value": 34.3
         },
         {
          "Economic Hardship Index": 18,
          "Health Metric": "Obesity",
          "State": "VT",
          "Value": 28.8
         },
         {
          "Economic Hardship Index": 33,
          "Health Metric": "Obesity",
          "State": "WA",
          "Value": 30.6
         },
         {
          "Economic Hardship Index": 30,
          "Health Metric": "Obesity",
          "State": "WI",
          "Value": 35.9
         },
         {
          "Economic Hardship Index": 87,
          "Health Metric": "Obesity",
          "State": "WV",
          "Value": 41.2
         },
         {
          "Economic Hardship Index": 44,
          "Health Metric": "Obesity",
          "State": "WY",
          "Value": 33.3
         },
         {
          "Economic Hardship Index": 47,
          "Health Metric": "Uninsured",
          "State": "AK",
          "Value": 10.4
         },
         {
          "Economic Hardship Index": 74,
          "Health Metric": "Uninsured",
          "State": "AL",
          "Value": 8.5
         },
         {
          "Economic Hardship Index": 82,
          "Health Metric": "Uninsured",
          "State": "AR",
          "Value": 8.9
         },
         {
          "Economic Hardship Index": 70,
          "Health Metric": "Uninsured",
          "State": "AZ",
          "Value": 9.9
         },
         {
          "Economic Hardship Index": 84,
          "Health Metric": "Uninsured",
          "State": "CA",
          "Value": 6.4
         },
         {
          "Economic Hardship Index": 12,
          "Health Metric": "Uninsured",
          "State": "CO",
          "Value": 6.7
         },
         {
          "Economic Hardship Index": 37,
          "Health Metric": "Uninsured",
          "State": "CT",
          "Value": 5.7
         },
         {
          "Economic Hardship Index": 48,
          "Health Metric": "Uninsured",
          "State": "DE",
          "Value": 6.5
         },
         {
          "Economic Hardship Index": 65,
          "Health Metric": "Uninsured",
          "State": "FL",
          "Value": 10.7
         },
         {
          "Economic Hardship Index": 59,
          "Health Metric": "Uninsured",
          "State": "GA",
          "Value": 11.4
         },
         {
          "Economic Hardship Index": 67,
          "Health Metric": "Uninsured",
          "State": "HI",
          "Value": 3.2
         },
         {
          "Economic Hardship Index": 41,
          "Health Metric": "Uninsured",
          "State": "IA",
          "Value": 5
         },
         {
          "Economic Hardship Index": 54,
          "Health Metric": "Uninsured",
          "State": "ID",
          "Value": 8.9
         },
         {
          "Economic Hardship Index": 52,
          "Health Metric": "Uninsured",
          "State": "IL",
          "Value": 6.2
         },
         {
          "Economic Hardship Index": 56,
          "Health Metric": "Uninsured",
          "State": "IN",
          "Value": 6.9
         },
         {
          "Economic Hardship Index": 51,
          "Health Metric": "Uninsured",
          "State": "KS",
          "Value": 8.4
         },
         {
          "Economic Hardship Index": 75,
          "Health Metric": "Uninsured",
          "State": "KY",
          "Value": 5.4
         },
         {
          "Economic Hardship Index": 97,
          "Health Metric": "Uninsured",
          "State": "LA",
          "Value": 6.9
         },
         {
          "Economic Hardship Index": 21,
          "Health Metric": "Uninsured",
          "State": "MA",
          "Value": 2.6
         },
         {
          "Economic Hardship Index": 34,
          "Health Metric": "Uninsured",
          "State": "MD",
          "Value": 6.3
         },
         {
          "Economic Hardship Index": 30,
          "Health Metric": "Uninsured",
          "State": "ME",
          "Value": 5.9
         },
         {
          "Economic Hardship Index": 60,
          "Health Metric": "Uninsured",
          "State": "MI",
          "Value": 4.5
         },
         {
          "Economic Hardship Index": 25,
          "Health Metric": "Uninsured",
          "State": "MN",
          "Value": 4.2
         },
         {
          "Economic Hardship Index": 49,
          "Health Metric": "Uninsured",
          "State": "MO",
          "Value": 7.5
         },
         {
          "Economic Hardship Index": 100,
          "Health Metric": "Uninsured",
          "State": "MS",
          "Value": 10.3
         },
         {
          "Economic Hardship Index": 39,
          "Health Metric": "Uninsured",
          "State": "MT",
          "Value": 8.4
         },
         {
          "Economic Hardship Index": 51,
          "Health Metric": "Uninsured",
          "State": "NC",
          "Value": 9.2
         },
         {
          "Economic Hardship Index": 27,
          "Health Metric": "Uninsured",
          "State": "ND",
          "Value": 4.5
         },
         {
          "Economic Hardship Index": 41,
          "Health Metric": "Uninsured",
          "State": "NE",
          "Value": 6.1
         },
         {
          "Economic Hardship Index": 1,
          "Health Metric": "Uninsured",
          "State": "NH",
          "Value": 4.7
         },
         {
          "Economic Hardship Index": 45,
          "Health Metric": "Uninsured",
          "State": "NJ",
          "Value": 7.2
         },
         {
          "Economic Hardship Index": 97,
          "Health Metric": "Uninsured",
          "State": "NM",
          "Value": 9.1
         },
         {
          "Economic Hardship Index": 69,
          "Health Metric": "Uninsured",
          "State": "NV",
          "Value": 10.8
         },
         {
          "Economic Hardship Index": 71,
          "Health Metric": "Uninsured",
          "State": "NY",
          "Value": 4.8
         },
         {
          "Economic Hardship Index": 56,
          "Health Metric": "Uninsured",
          "State": "OH",
          "Value": 6.1
         },
         {
          "Economic Hardship Index": 83,
          "Health Metric": "Uninsured",
          "State": "OK",
          "Value": 11.4
         },
         {
          "Economic Hardship Index": 46,
          "Health Metric": "Uninsured",
          "State": "OR",
          "Value": 5.5
         },
         {
          "Economic Hardship Index": 50,
          "Health Metric": "Uninsured",
          "State": "PA",
          "Value": 5.4
         },
         {
          "Economic Hardship Index": 47,
          "Health Metric": "Uninsured",
          "State": "RI",
          "Value": 4.5
         },
         {
          "Economic Hardship Index": 68,
          "Health Metric": "Uninsured",
          "State": "SC",
          "Value": 9.1
         },
         {
          "Economic Hardship Index": 43,
          "Health Metric": "Uninsured",
          "State": "SD",
          "Value": 8.3
         },
         {
          "Economic Hardship Index": 60,
          "Health Metric": "Uninsured",
          "State": "TN",
          "Value": 9.3
         },
         {
          "Economic Hardship Index": 74,
          "Health Metric": "Uninsured",
          "State": "TX",
          "Value": 16.4
         },
         {
          "Economic Hardship Index": 36,
          "Health Metric": "Uninsured",
          "State": "UT",
          "Value": 8
         },
         {
          "Economic Hardship Index": 31,
          "Health Metric": "Uninsured",
          "State": "VA",
          "Value": 6.4
         },
         {
          "Economic Hardship Index": 18,
          "Health Metric": "Uninsured",
          "State": "VT",
          "Value": 3.4
         },
         {
          "Economic Hardship Index": 33,
          "Health Metric": "Uninsured",
          "State": "WA",
          "Value": 6.3
         },
         {
          "Economic Hardship Index": 30,
          "Health Metric": "Uninsured",
          "State": "WI",
          "Value": 4.9
         },
         {
          "Economic Hardship Index": 87,
          "Health Metric": "Uninsured",
          "State": "WV",
          "Value": 5.9
         },
         {
          "Economic Hardship Index": 44,
          "Health Metric": "Uninsured",
          "State": "WY",
          "Value": 10.7
         }
        ]
       },
       "height": 350,
       "layer": [
        {
         "encoding": {
          "color": {
           "value": "steelblue"
          },
          "tooltip": [
           {
            "field": "State",
            "type": "nominal"
           },
           {
            "field": "Economic Hardship Index",
            "format": ".1f",
            "type": "quantitative"
           },
           {
            "field": "Value",
            "format": ".1f",
            "type": "quantitative"
           },
           {
            "field": "Health Metric",
            "type": "nominal"
           }
          ],
          "x": {
           "field": "Economic Hardship Index",
           "title": "Economic Hardship Index",
           "type": "quantitative"
          },
          "y": {
           "field": "Value",
           "title": "Health Metric (%)",
           "type": "quantitative"
          }
         },
         "mark": {
          "size": 100,
          "type": "circle"
         },
         "transform": [
          {
           "filter": "(datum['Health Metric'] === health_metric)"
          }
         ]
        },
        {
         "encoding": {
          "x": {
           "field": "Economic Hardship Index",
           "type": "quantitative"
          },
          "y": {
           "field": "Value",
           "type": "quantitative"
          }
         },
         "mark": {
          "color": "darkred",
          "strokeDash": [
           5,
           5
          ],
          "type": "line"
         },
         "transform": [
          {
           "filter": "((datum['Health Metric'] === health_metric) && show_regression)"
          },
          {
           "method": "linear",
           "on": "Economic Hardship Index",
           "regression": "Value"
          }
         ]
        }
       ],
       "params": [
        {
         "bind": {
          "input": "select",
          "name": "Health Metric: ",
          "options": [
           "Avoided Care Due to Cost",
           "Cancer",
           "Diabetes",
           "Exercise",
           "High Blood Pressure",
           "High Cholesterol",
           "Obesity",
           "Uninsured"
          ]
         },
         "name": "health_metric",
         "value": "Avoided Care Due to Cost"
        },
        {
         "bind": {
          "input": "checkbox",
          "name": "Show Correlation Line"
         },
         "name": "show_regression",
         "value": false
        }
       ],
       "title": "Economic Hardship vs. Selected Health Metric (with Toggleable Trend Line)",
       "width": 500
      },
      "image/png": "[encoded data removed]",
      "text/plain": [
       "<VegaLite 5 object>\n",
       "\n",
       "If you see this message, it means the renderer has not been properly enabled\n",
       "for the frontend that you are using. For more information, see\n",
       "https://altair-viz.github.io/user_guide/display_frontends.html#troubleshooting\n"
      ]
     },
     "execution_count": 74,
     "metadata": {},
     "output_type": "execute_result"
    }
   ],
   "source": [
    "import altair as alt\n",
    "import pandas as pd\n",
    "\n",
    "melted = selected.melt(\n",
    "    id_vars=[\"State\", \"Economic Hardship Index\"],\n",
    "    value_vars=[\n",
    "        \"Avoided Care Due to Cost\", \"Cancer\", \"Diabetes\",  \"Exercise\", \n",
    "        \"High Blood Pressure\", \"High Cholesterol\", \"Obesity\",\n",
    "        \"Uninsured\" \n",
    "    ],\n",
    "    var_name=\"Health Metric\",\n",
    "    value_name=\"Value\"\n",
    ")\n",
    "\n",
    "health_metric_param = alt.param(\n",
    "    name=\"health_metric\",\n",
    "    bind=alt.binding_select(\n",
    "        options=[\n",
    "            \"Avoided Care Due to Cost\", \"Cancer\", \"Diabetes\",  \"Exercise\", \n",
    "            \"High Blood Pressure\", \"High Cholesterol\", \"Obesity\",\n",
    "            \"Uninsured\"  \n",
    "        ],\n",
    "        name=\"Health Metric: \"\n",
    "    ),\n",
    "    value=\"Avoided Care Due to Cost\"\n",
    ")\n",
    "\n",
    "show_regression = alt.param(\n",
    "    name=\"show_regression\",\n",
    "    bind=alt.binding_checkbox(name=\"Show Correlation Line\"),\n",
    "    value=False\n",
    ")\n",
    "\n",
    "points = alt.Chart(melted).mark_circle(size=100).encode(\n",
    "    x=alt.X(\"Economic Hardship Index:Q\", title=\"Economic Hardship Index\"),\n",
    "    y=alt.Y(\"Value:Q\", title=\"Health Metric (%)\"),\n",
    "    color=alt.value(\"steelblue\"),\n",
    "    tooltip=[\n",
    "        alt.Tooltip(\"State:N\"),\n",
    "        alt.Tooltip(\"Economic Hardship Index:Q\", format=\".1f\"),\n",
    "        alt.Tooltip(\"Value:Q\", format=\".1f\"),\n",
    "        alt.Tooltip(\"Health Metric:N\")\n",
    "    ]\n",
    ").transform_filter(\n",
    "    alt.datum[\"Health Metric\"] == health_metric_param\n",
    ")\n",
    "\n",
    "trendline = alt.Chart(melted).transform_filter(\n",
    "    (alt.datum[\"Health Metric\"] == health_metric_param) & show_regression\n",
    ").transform_regression(\n",
    "    \"Economic Hardship Index\", \"Value\", method=\"linear\"\n",
    ").mark_line(color=\"darkred\", strokeDash=[5, 5]).encode(\n",
    "    x=\"Economic Hardship Index:Q\",\n",
    "    y=\"Value:Q\"\n",
    ")\n",
    "\n",
    "\n",
    "chart = (points + trendline).add_params(\n",
    "    health_metric_param,\n",
    "    show_regression\n",
    ").properties(\n",
    "    width=500,\n",
    "    height=350,\n",
    "    title=\"Economic Hardship vs. Selected Health Metric (with Toggleable Trend Line)\"\n",
    ")\n",
    "\n",
    "chart\n"
   ]
  },
  {
   "cell_type": "markdown",
   "id": "c5a7afe4-ee87-40bd-97a5-1258b31a8686",
   "metadata": {},
   "source": [
    "## Task 3: Identify States with Health Resource Deficits\n",
    "**Why?** To find states where poor outcomes are linked with low public health funding or access to care.\n",
    "**How?** Use a combination of heatscatter plot and filtering to isolate states with low `Public Health Funding` and high `Avoided Care Due to Cost`. All values were normalized on a scale of 0-1, with Public Health Funding and Exercise reversed. This was done so lower value in these categories would be similar to the other lower values in the health metrics. It includes a dropdown to visualize where a state's value falls in a few different health metrics. \n",
    "**What?** This task focuses on identifying the thresholds, bottlenecks, and gaps in resource allocation.\n",
    "**Where?** Columns: `Public Health Funding`, `Avoided Care Due to Cost`, `Uninsured`\n",
    "**When?** Mid-to-late analysis phases, guiding recommendations or mapping potential interventions.\n",
    "**Who?** Health equity advocate or nonprofit stategist aiming to prioritize underserved areas."
   ]
  },
  {
   "cell_type": "code",
   "execution_count": 73,
   "id": "7b0f945a-da7c-4ecd-bb3f-909cb9fa0c7b",
   "metadata": {},
   "outputs": [
    {
     "data": {
      "application/vnd.vegalite.v5+json": {
       "$schema": "https://vega.github.io/schema/vega-lite/v5.20.1.json",
       "config": {
        "view": {
         "continuousHeight": 300,
         "continuousWidth": 300
        }
       },
       "data": {
        "name": "data-bc8801562c820cdb6f2ceca54792ef72"
       },
       "datasets": {
        "data-bc8801562c820cdb6f2ceca54792ef72": [
         {
          "Metric": "Public Health Funding (Reversed)",
          "State": "AK",
          "Value": 0
         },
         {
          "Metric": "Public Health Funding (Reversed)",
          "State": "AL",
          "Value": 0.7350746268656716
         },
         {
          "Metric": "Public Health Funding (Reversed)",
          "State": "AR",
          "Value": 0.7686567164179104
         },
         {
          "Metric": "Public Health Funding (Reversed)",
          "State": "AZ",
          "Value": 0.9328358208955224
         },
         {
          "Metric": "Public Health Funding (Reversed)",
          "State": "CA",
          "Value": 0.6007462686567164
         },
         {
          "Metric": "Public Health Funding (Reversed)",
          "State": "CO",
          "Value": 0.7537313432835822
         },
         {
          "Metric": "Public Health Funding (Reversed)",
          "State": "CT",
          "Value": 0.8022388059701493
         },
         {
          "Metric": "Public Health Funding (Reversed)",
          "State": "DE",
          "Value": 0.6902985074626866
         },
         {
          "Metric": "Public Health Funding (Reversed)",
          "State": "FL",
          "Value": 0.9589552238805971
         },
         {
          "Metric": "Public Health Funding (Reversed)",
          "State": "GA",
          "Value": 0.791044776119403
         },
         {
          "Metric": "Public Health Funding (Reversed)",
          "State": "HI",
          "Value": 0.664179104477612
         },
         {
          "Metric": "Public Health Funding (Reversed)",
          "State": "IA",
          "Value": 0.8544776119402985
         },
         {
          "Metric": "Public Health Funding (Reversed)",
          "State": "ID",
          "Value": 0.8022388059701493
         },
         {
          "Metric": "Public Health Funding (Reversed)",
          "State": "IL",
          "Value": 0.835820895522388
         },
         {
          "Metric": "Public Health Funding (Reversed)",
          "State": "IN",
          "Value": 0.9738805970149254
         },
         {
          "Metric": "Public Health Funding (Reversed)",
          "State": "KS",
          "Value": 0.8917910447761194
         },
         {
          "Metric": "Public Health Funding (Reversed)",
          "State": "KY",
          "Value": 0.8432835820895522
         },
         {
          "Metric": "Public Health Funding (Reversed)",
          "State": "LA",
          "Value": 0.7611940298507462
         },
         {
          "Metric": "Public Health Funding (Reversed)",
          "State": "MA",
          "Value": 0.48134328358208955
         },
         {
          "Metric": "Public Health Funding (Reversed)",
          "State": "MD",
          "Value": 0.4626865671641791
         },
         {
          "Metric": "Public Health Funding (Reversed)",
          "State": "ME",
          "Value": 0.6604477611940298
         },
         {
          "Metric": "Public Health Funding (Reversed)",
          "State": "MI",
          "Value": 0.9514925373134329
         },
         {
          "Metric": "Public Health Funding (Reversed)",
          "State": "MN",
          "Value": 0.7723880597014925
         },
         {
          "Metric": "Public Health Funding (Reversed)",
          "State": "MO",
          "Value": 0.9029850746268657
         },
         {
          "Metric": "Public Health Funding (Reversed)",
          "State": "MS",
          "Value": 0.8022388059701493
         },
         {
          "Metric": "Public Health Funding (Reversed)",
          "State": "MT",
          "Value": 0.7126865671641791
         },
         {
          "Metric": "Public Health Funding (Reversed)",
          "State": "NC",
          "Value": 0.9552238805970149
         },
         {
          "Metric": "Public Health Funding (Reversed)",
          "State": "ND",
          "Value": 0.6417910447761195
         },
         {
          "Metric": "Public Health Funding (Reversed)",
          "State": "NE",
          "Value": 0.8059701492537313
         },
         {
          "Metric": "Public Health Funding (Reversed)",
          "State": "NH",
          "Value": 0.8395522388059702
         },
         {
          "Metric": "Public Health Funding (Reversed)",
          "State": "NJ",
          "Value": 0.8917910447761194
         },
         {
          "Metric": "Public Health Funding (Reversed)",
          "State": "NM",
          "Value": 0.12686567164179108
         },
         {
          "Metric": "Public Health Funding (Reversed)",
          "State": "NV",
          "Value": 1
         },
         {
          "Metric": "Public Health Funding (Reversed)",
          "State": "NY",
          "Value": 0.582089552238806
         },
         {
          "Metric": "Public Health Funding (Reversed)",
          "State": "OH",
          "Value": 0.8843283582089552
         },
         {
          "Metric": "Public Health Funding (Reversed)",
          "State": "OK",
          "Value": 0.7126865671641791
         },
         {
          "Metric": "Public Health Funding (Reversed)",
          "State": "OR",
          "Value": 0.5335820895522387
         },
         {
          "Metric": "Public Health Funding (Reversed)",
          "State": "PA",
          "Value": 0.9514925373134329
         },
         {
          "Metric": "Public Health Funding (Reversed)",
          "State": "RI",
          "Value": 0.003731343283582045
         },
         {
          "Metric": "Public Health Funding (Reversed)",
          "State": "SC",
          "Value": 0.8656716417910448
         },
         {
          "Metric": "Public Health Funding (Reversed)",
          "State": "SD",
          "Value": 0.7388059701492538
         },
         {
          "Metric": "Public Health Funding (Reversed)",
          "State": "TN",
          "Value": 0.7537313432835822
         },
         {
          "Metric": "Public Health Funding (Reversed)",
          "State": "TX",
          "Value": 0.9552238805970149
         },
         {
          "Metric": "Public Health Funding (Reversed)",
          "State": "UT",
          "Value": 0.8917910447761194
         },
         {
          "Metric": "Public Health Funding (Reversed)",
          "State": "VA",
          "Value": 0.8470149253731343
         },
         {
          "Metric": "Public Health Funding (Reversed)",
          "State": "VT",
          "Value": 0.4776119402985075
         },
         {
          "Metric": "Public Health Funding (Reversed)",
          "State": "WA",
          "Value": 0.7276119402985075
         },
         {
          "Metric": "Public Health Funding (Reversed)",
          "State": "WI",
          "Value": 0.9888059701492538
         },
         {
          "Metric": "Public Health Funding (Reversed)",
          "State": "WV",
          "Value": 0.6455223880597014
         },
         {
          "Metric": "Public Health Funding (Reversed)",
          "State": "WY",
          "Value": 0.7873134328358209
         },
         {
          "Metric": "Avoided Care Due to Cost",
          "State": "AK",
          "Value": 0.37931034482758613
         },
         {
          "Metric": "Avoided Care Due to Cost",
          "State": "AL",
          "Value": 0.5862068965517241
         },
         {
          "Metric": "Avoided Care Due to Cost",
          "State": "AR",
          "Value": 0.6206896551724137
         },
         {
          "Metric": "Avoided Care Due to Cost",
          "State": "AZ",
          "Value": 0.4655172413793102
         },
         {
          "Metric": "Avoided Care Due to Cost",
          "State": "CA",
          "Value": 0.3448275862068964
         },
         {
          "Metric": "Avoided Care Due to Cost",
          "State": "CO",
          "Value": 0.4655172413793102
         },
         {
          "Metric": "Avoided Care Due to Cost",
          "State": "CT",
          "Value": 0.1896551724137931
         },
         {
          "Metric": "Avoided Care Due to Cost",
          "State": "DE",
          "Value": 0.17241379310344818
         },
         {
          "Metric": "Avoided Care Due to Cost",
          "State": "FL",
          "Value": 0.5344827586206896
         },
         {
          "Metric": "Avoided Care Due to Cost",
          "State": "GA",
          "Value": 0.7672413793103446
         },
         {
          "Metric": "Avoided Care Due to Cost",
          "State": "HI",
          "Value": 0
         },
         {
          "Metric": "Avoided Care Due to Cost",
          "State": "IA",
          "Value": 0.05172413793103445
         },
         {
          "Metric": "Avoided Care Due to Cost",
          "State": "ID",
          "Value": 0.39655172413793105
         },
         {
          "Metric": "Avoided Care Due to Cost",
          "State": "IL",
          "Value": 0.33620689655172403
         },
         {
          "Metric": "Avoided Care Due to Cost",
          "State": "IN",
          "Value": 0.3189655172413793
         },
         {
          "Metric": "Avoided Care Due to Cost",
          "State": "KS",
          "Value": 0.3620689655172413
         },
         {
          "Metric": "Avoided Care Due to Cost",
          "State": "KY",
          "Value": null
         },
         {
          "Metric": "Avoided Care Due to Cost",
          "State": "LA",
          "Value": 0.4137931034482758
         },
         {
          "Metric": "Avoided Care Due to Cost",
          "State": "MA",
          "Value": 0.034482758620689606
         },
         {
          "Metric": "Avoided Care Due to Cost",
          "State": "MD",
          "Value": 0.24999999999999992
         },
         {
          "Metric": "Avoided Care Due to Cost",
          "State": "ME",
          "Value": 0.17241379310344818
         },
         {
          "Metric": "Avoided Care Due to Cost",
          "State": "MI",
          "Value": 0.21551724137931025
         },
         {
          "Metric": "Avoided Care Due to Cost",
          "State": "MN",
          "Value": 0.1637931034482758
         },
         {
          "Metric": "Avoided Care Due to Cost",
          "State": "MO",
          "Value": 0.4137931034482758
         },
         {
          "Metric": "Avoided Care Due to Cost",
          "State": "MS",
          "Value": 0.6379310344827585
         },
         {
          "Metric": "Avoided Care Due to Cost",
          "State": "MT",
          "Value": 0.2586206896551723
         },
         {
          "Metric": "Avoided Care Due to Cost",
          "State": "NC",
          "Value": 0.3448275862068964
         },
         {
          "Metric": "Avoided Care Due to Cost",
          "State": "ND",
          "Value": 0.13793103448275865
         },
         {
          "Metric": "Avoided Care Due to Cost",
          "State": "NE",
          "Value": 0.18103448275862072
         },
         {
          "Metric": "Avoided Care Due to Cost",
          "State": "NH",
          "Value": 0.08620689655172413
         },
         {
          "Metric": "Avoided Care Due to Cost",
          "State": "NJ",
          "Value": 0.35344827586206895
         },
         {
          "Metric": "Avoided Care Due to Cost",
          "State": "NM",
          "Value": 0.3448275862068964
         },
         {
          "Metric": "Avoided Care Due to Cost",
          "State": "NV",
          "Value": 0.7327586206896551
         },
         {
          "Metric": "Avoided Care Due to Cost",
          "State": "NY",
          "Value": 0.2586206896551723
         },
         {
          "Metric": "Avoided Care Due to Cost",
          "State": "OH",
          "Value": 0.24137931034482754
         },
         {
          "Metric": "Avoided Care Due to Cost",
          "State": "OK",
          "Value": 0.5689655172413793
         },
         {
          "Metric": "Avoided Care Due to Cost",
          "State": "OR",
          "Value": 0.30172413793103436
         },
         {
          "Metric": "Avoided Care Due to Cost",
          "State": "PA",
          "Value": null
         },
         {
          "Metric": "Avoided Care Due to Cost",
          "State": "RI",
          "Value": 0.13793103448275865
         },
         {
          "Metric": "Avoided Care Due to Cost",
          "State": "SC",
          "Value": 0.5258620689655172
         },
         {
          "Metric": "Avoided Care Due to Cost",
          "State": "SD",
          "Value": 0.3103448275862069
         },
         {
          "Metric": "Avoided Care Due to Cost",
          "State": "TN",
          "Value": 0.7068965517241378
         },
         {
          "Metric": "Avoided Care Due to Cost",
          "State": "TX",
          "Value": 1
         },
         {
          "Metric": "Avoided Care Due to Cost",
          "State": "UT",
          "Value": 0.4224137931034482
         },
         {
          "Metric": "Avoided Care Due to Cost",
          "State": "VA",
          "Value": 0.21551724137931025
         },
         {
          "Metric": "Avoided Care Due to Cost",
          "State": "VT",
          "Value": 0.025862068965517224
         },
         {
          "Metric": "Avoided Care Due to Cost",
          "State": "WA",
          "Value": 0.2586206896551723
         },
         {
          "Metric": "Avoided Care Due to Cost",
          "State": "WI",
          "Value": 0.14655172413793102
         },
         {
          "Metric": "Avoided Care Due to Cost",
          "State": "WV",
          "Value": 0.49999999999999994
         },
         {
          "Metric": "Avoided Care Due to Cost",
          "State": "WY",
          "Value": 0.45689655172413784
         },
         {
          "Metric": "Uninsured",
          "State": "AK",
          "Value": 0.5652173913043479
         },
         {
          "Metric": "Uninsured",
          "State": "AL",
          "Value": 0.42753623188405804
         },
         {
          "Metric": "Uninsured",
          "State": "AR",
          "Value": 0.45652173913043487
         },
         {
          "Metric": "Uninsured",
          "State": "AZ",
          "Value": 0.5289855072463769
         },
         {
          "Metric": "Uninsured",
          "State": "CA",
          "Value": 0.27536231884057977
         },
         {
          "Metric": "Uninsured",
          "State": "CO",
          "Value": 0.2971014492753623
         },
         {
          "Metric": "Uninsured",
          "State": "CT",
          "Value": 0.22463768115942032
         },
         {
          "Metric": "Uninsured",
          "State": "DE",
          "Value": 0.28260869565217395
         },
         {
          "Metric": "Uninsured",
          "State": "FL",
          "Value": 0.5869565217391305
         },
         {
          "Metric": "Uninsured",
          "State": "GA",
          "Value": 0.6376811594202899
         },
         {
          "Metric": "Uninsured",
          "State": "HI",
          "Value": 0.04347826086956523
         },
         {
          "Metric": "Uninsured",
          "State": "IA",
          "Value": 0.17391304347826086
         },
         {
          "Metric": "Uninsured",
          "State": "ID",
          "Value": 0.45652173913043487
         },
         {
          "Metric": "Uninsured",
          "State": "IL",
          "Value": 0.26086956521739135
         },
         {
          "Metric": "Uninsured",
          "State": "IN",
          "Value": 0.3115942028985508
         },
         {
          "Metric": "Uninsured",
          "State": "KS",
          "Value": 0.42028985507246386
         },
         {
          "Metric": "Uninsured",
          "State": "KY",
          "Value": 0.20289855072463772
         },
         {
          "Metric": "Uninsured",
          "State": "LA",
          "Value": 0.3115942028985508
         },
         {
          "Metric": "Uninsured",
          "State": "MA",
          "Value": 0
         },
         {
          "Metric": "Uninsured",
          "State": "MD",
          "Value": 0.26811594202898553
         },
         {
          "Metric": "Uninsured",
          "State": "ME",
          "Value": 0.23913043478260873
         },
         {
          "Metric": "Uninsured",
          "State": "MI",
          "Value": 0.13768115942028986
         },
         {
          "Metric": "Uninsured",
          "State": "MN",
          "Value": 0.11594202898550726
         },
         {
          "Metric": "Uninsured",
          "State": "MO",
          "Value": 0.355072463768116
         },
         {
          "Metric": "Uninsured",
          "State": "MS",
          "Value": 0.5579710144927538
         },
         {
          "Metric": "Uninsured",
          "State": "MT",
          "Value": 0.42028985507246386
         },
         {
          "Metric": "Uninsured",
          "State": "NC",
          "Value": 0.4782608695652174
         },
         {
          "Metric": "Uninsured",
          "State": "ND",
          "Value": 0.13768115942028986
         },
         {
          "Metric": "Uninsured",
          "State": "NE",
          "Value": 0.25362318840579706
         },
         {
          "Metric": "Uninsured",
          "State": "NH",
          "Value": 0.15217391304347827
         },
         {
          "Metric": "Uninsured",
          "State": "NJ",
          "Value": 0.3333333333333333
         },
         {
          "Metric": "Uninsured",
          "State": "NM",
          "Value": 0.4710144927536232
         },
         {
          "Metric": "Uninsured",
          "State": "NV",
          "Value": 0.5942028985507247
         },
         {
          "Metric": "Uninsured",
          "State": "NY",
          "Value": 0.15942028985507245
         },
         {
          "Metric": "Uninsured",
          "State": "OH",
          "Value": 0.25362318840579706
         },
         {
          "Metric": "Uninsured",
          "State": "OK",
          "Value": 0.6376811594202899
         },
         {
          "Metric": "Uninsured",
          "State": "OR",
          "Value": 0.2101449275362319
         },
         {
          "Metric": "Uninsured",
          "State": "PA",
          "Value": 0.20289855072463772
         },
         {
          "Metric": "Uninsured",
          "State": "RI",
          "Value": 0.13768115942028986
         },
         {
          "Metric": "Uninsured",
          "State": "SC",
          "Value": 0.4710144927536232
         },
         {
          "Metric": "Uninsured",
          "State": "SD",
          "Value": 0.4130434782608697
         },
         {
          "Metric": "Uninsured",
          "State": "TN",
          "Value": 0.4855072463768117
         },
         {
          "Metric": "Uninsured",
          "State": "TX",
          "Value": 1
         },
         {
          "Metric": "Uninsured",
          "State": "UT",
          "Value": 0.39130434782608703
         },
         {
          "Metric": "Uninsured",
          "State": "VA",
          "Value": 0.27536231884057977
         },
         {
          "Metric": "Uninsured",
          "State": "VT",
          "Value": 0.05797101449275362
         },
         {
          "Metric": "Uninsured",
          "State": "WA",
          "Value": 0.26811594202898553
         },
         {
          "Metric": "Uninsured",
          "State": "WI",
          "Value": 0.16666666666666669
         },
         {
          "Metric": "Uninsured",
          "State": "WV",
          "Value": 0.23913043478260873
         },
         {
          "Metric": "Uninsured",
          "State": "WY",
          "Value": 0.5869565217391305
         },
         {
          "Metric": "Economic Hardship Index",
          "State": "AK",
          "Value": 0.46464646464646464
         },
         {
          "Metric": "Economic Hardship Index",
          "State": "AL",
          "Value": 0.7373737373737373
         },
         {
          "Metric": "Economic Hardship Index",
          "State": "AR",
          "Value": 0.8181818181818182
         },
         {
          "Metric": "Economic Hardship Index",
          "State": "AZ",
          "Value": 0.696969696969697
         },
         {
          "Metric": "Economic Hardship Index",
          "State": "CA",
          "Value": 0.8383838383838383
         },
         {
          "Metric": "Economic Hardship Index",
          "State": "CO",
          "Value": 0.1111111111111111
         },
         {
          "Metric": "Economic Hardship Index",
          "State": "CT",
          "Value": 0.36363636363636365
         },
         {
          "Metric": "Economic Hardship Index",
          "State": "DE",
          "Value": 0.47474747474747475
         },
         {
          "Metric": "Economic Hardship Index",
          "State": "FL",
          "Value": 0.6464646464646465
         },
         {
          "Metric": "Economic Hardship Index",
          "State": "GA",
          "Value": 0.5858585858585859
         },
         {
          "Metric": "Economic Hardship Index",
          "State": "HI",
          "Value": 0.6666666666666666
         },
         {
          "Metric": "Economic Hardship Index",
          "State": "IA",
          "Value": 0.40404040404040403
         },
         {
          "Metric": "Economic Hardship Index",
          "State": "ID",
          "Value": 0.5353535353535354
         },
         {
          "Metric": "Economic Hardship Index",
          "State": "IL",
          "Value": 0.5151515151515151
         },
         {
          "Metric": "Economic Hardship Index",
          "State": "IN",
          "Value": 0.5555555555555556
         },
         {
          "Metric": "Economic Hardship Index",
          "State": "KS",
          "Value": 0.5050505050505051
         },
         {
          "Metric": "Economic Hardship Index",
          "State": "KY",
          "Value": 0.7474747474747475
         },
         {
          "Metric": "Economic Hardship Index",
          "State": "LA",
          "Value": 0.9696969696969697
         },
         {
          "Metric": "Economic Hardship Index",
          "State": "MA",
          "Value": 0.20202020202020202
         },
         {
          "Metric": "Economic Hardship Index",
          "State": "MD",
          "Value": 0.3333333333333333
         },
         {
          "Metric": "Economic Hardship Index",
          "State": "ME",
          "Value": 0.29292929292929293
         },
         {
          "Metric": "Economic Hardship Index",
          "State": "MI",
          "Value": 0.5959595959595959
         },
         {
          "Metric": "Economic Hardship Index",
          "State": "MN",
          "Value": 0.24242424242424243
         },
         {
          "Metric": "Economic Hardship Index",
          "State": "MO",
          "Value": 0.48484848484848486
         },
         {
          "Metric": "Economic Hardship Index",
          "State": "MS",
          "Value": 1
         },
         {
          "Metric": "Economic Hardship Index",
          "State": "MT",
          "Value": 0.3838383838383838
         },
         {
          "Metric": "Economic Hardship Index",
          "State": "NC",
          "Value": 0.5050505050505051
         },
         {
          "Metric": "Economic Hardship Index",
          "State": "ND",
          "Value": 0.26262626262626265
         },
         {
          "Metric": "Economic Hardship Index",
          "State": "NE",
          "Value": 0.40404040404040403
         },
         {
          "Metric": "Economic Hardship Index",
          "State": "NH",
          "Value": 0
         },
         {
          "Metric": "Economic Hardship Index",
          "State": "NJ",
          "Value": 0.4444444444444444
         },
         {
          "Metric": "Economic Hardship Index",
          "State": "NM",
          "Value": 0.9696969696969697
         },
         {
          "Metric": "Economic Hardship Index",
          "State": "NV",
          "Value": 0.6868686868686869
         },
         {
          "Metric": "Economic Hardship Index",
          "State": "NY",
          "Value": 0.7070707070707071
         },
         {
          "Metric": "Economic Hardship Index",
          "State": "OH",
          "Value": 0.5555555555555556
         },
         {
          "Metric": "Economic Hardship Index",
          "State": "OK",
          "Value": 0.8282828282828283
         },
         {
          "Metric": "Economic Hardship Index",
          "State": "OR",
          "Value": 0.45454545454545453
         },
         {
          "Metric": "Economic Hardship Index",
          "State": "PA",
          "Value": 0.494949494949495
         },
         {
          "Metric": "Economic Hardship Index",
          "State": "RI",
          "Value": 0.46464646464646464
         },
         {
          "Metric": "Economic Hardship Index",
          "State": "SC",
          "Value": 0.6767676767676768
         },
         {
          "Metric": "Economic Hardship Index",
          "State": "SD",
          "Value": 0.42424242424242425
         },
         {
          "Metric": "Economic Hardship Index",
          "State": "TN",
          "Value": 0.5959595959595959
         },
         {
          "Metric": "Economic Hardship Index",
          "State": "TX",
          "Value": 0.7373737373737373
         },
         {
          "Metric": "Economic Hardship Index",
          "State": "UT",
          "Value": 0.35353535353535354
         },
         {
          "Metric": "Economic Hardship Index",
          "State": "VA",
          "Value": 0.30303030303030304
         },
         {
          "Metric": "Economic Hardship Index",
          "State": "VT",
          "Value": 0.1717171717171717
         },
         {
          "Metric": "Economic Hardship Index",
          "State": "WA",
          "Value": 0.32323232323232326
         },
         {
          "Metric": "Economic Hardship Index",
          "State": "WI",
          "Value": 0.29292929292929293
         },
         {
          "Metric": "Economic Hardship Index",
          "State": "WV",
          "Value": 0.8686868686868687
         },
         {
          "Metric": "Economic Hardship Index",
          "State": "WY",
          "Value": 0.43434343434343436
         },
         {
          "Metric": "Poverty",
          "State": "AK",
          "Value": 0.18749999999999997
         },
         {
          "Metric": "Poverty",
          "State": "AL",
          "Value": 0.6875
         },
         {
          "Metric": "Poverty",
          "State": "AR",
          "Value": 0.7142857142857143
         },
         {
          "Metric": "Poverty",
          "State": "AZ",
          "Value": 0.38392857142857134
         },
         {
          "Metric": "Poverty",
          "State": "CA",
          "Value": 0.3303571428571428
         },
         {
          "Metric": "Poverty",
          "State": "CO",
          "Value": 0.12499999999999988
         },
         {
          "Metric": "Poverty",
          "State": "CT",
          "Value": 0.24999999999999992
         },
         {
          "Metric": "Poverty",
          "State": "DE",
          "Value": 0.19642857142857137
         },
         {
          "Metric": "Poverty",
          "State": "FL",
          "Value": 0.38392857142857134
         },
         {
          "Metric": "Poverty",
          "State": "GA",
          "Value": 0.48214285714285704
         },
         {
          "Metric": "Poverty",
          "State": "HI",
          "Value": 0.17857142857142858
         },
         {
          "Metric": "Poverty",
          "State": "IA",
          "Value": 0.29464285714285704
         },
         {
          "Metric": "Poverty",
          "State": "ID",
          "Value": 0.16071428571428564
         },
         {
          "Metric": "Poverty",
          "State": "IL",
          "Value": 0.35714285714285715
         },
         {
          "Metric": "Poverty",
          "State": "IN",
          "Value": 0.38392857142857134
         },
         {
          "Metric": "Poverty",
          "State": "KS",
          "Value": 0.30357142857142844
         },
         {
          "Metric": "Poverty",
          "State": "KY",
          "Value": 0.7678571428571427
         },
         {
          "Metric": "Poverty",
          "State": "LA",
          "Value": 0.9910714285714285
         },
         {
          "Metric": "Poverty",
          "State": "MA",
          "Value": 0.26785714285714285
         },
         {
          "Metric": "Poverty",
          "State": "MD",
          "Value": 0.15178571428571422
         },
         {
          "Metric": "Poverty",
          "State": "ME",
          "Value": 0.24999999999999992
         },
         {
          "Metric": "Poverty",
          "State": "MI",
          "Value": 0.4910714285714286
         },
         {
          "Metric": "Poverty",
          "State": "MN",
          "Value": 0.13392857142857142
         },
         {
          "Metric": "Poverty",
          "State": "MO",
          "Value": 0.37499999999999994
         },
         {
          "Metric": "Poverty",
          "State": "MS",
          "Value": 1
         },
         {
          "Metric": "Poverty",
          "State": "MT",
          "Value": 0.3482142857142856
         },
         {
          "Metric": "Poverty",
          "State": "NC",
          "Value": 0.4017857142857143
         },
         {
          "Metric": "Poverty",
          "State": "ND",
          "Value": 0.24999999999999992
         },
         {
          "Metric": "Poverty",
          "State": "NE",
          "Value": 0.28571428571428564
         },
         {
          "Metric": "Poverty",
          "State": "NH",
          "Value": 0
         },
         {
          "Metric": "Poverty",
          "State": "NJ",
          "Value": 0.16964285714285704
         },
         {
          "Metric": "Poverty",
          "State": "NM",
          "Value": 0.7946428571428571
         },
         {
          "Metric": "Poverty",
          "State": "NV",
          "Value": 0.3214285714285714
         },
         {
          "Metric": "Poverty",
          "State": "NY",
          "Value": 0.5535714285714285
         },
         {
          "Metric": "Poverty",
          "State": "OH",
          "Value": 0.47321428571428564
         },
         {
          "Metric": "Poverty",
          "State": "OK",
          "Value": 0.6964285714285715
         },
         {
          "Metric": "Poverty",
          "State": "OR",
          "Value": 0.3482142857142856
         },
         {
          "Metric": "Poverty",
          "State": "PA",
          "Value": 0.37499999999999994
         },
         {
          "Metric": "Poverty",
          "State": "RI",
          "Value": 0.3482142857142856
         },
         {
          "Metric": "Poverty",
          "State": "SC",
          "Value": 0.5357142857142857
         },
         {
          "Metric": "Poverty",
          "State": "SD",
          "Value": 0.29464285714285704
         },
         {
          "Metric": "Poverty",
          "State": "TN",
          "Value": 0.5267857142857142
         },
         {
          "Metric": "Poverty",
          "State": "TX",
          "Value": 0.44642857142857145
         },
         {
          "Metric": "Poverty",
          "State": "UT",
          "Value": 0.08035714285714274
         },
         {
          "Metric": "Poverty",
          "State": "VA",
          "Value": 0.21428571428571416
         },
         {
          "Metric": "Poverty",
          "State": "VT",
          "Value": 0.24107142857142852
         },
         {
          "Metric": "Poverty",
          "State": "WA",
          "Value": 0.18749999999999997
         },
         {
          "Metric": "Poverty",
          "State": "WI",
          "Value": 0.24999999999999992
         },
         {
          "Metric": "Poverty",
          "State": "WV",
          "Value": 0.7946428571428571
         },
         {
          "Metric": "Poverty",
          "State": "WY",
          "Value": 0.29464285714285704
         },
         {
          "Metric": "Cannabis Use",
          "State": "AK",
          "Value": 0.3376623376623377
         },
         {
          "Metric": "Cannabis Use",
          "State": "AL",
          "Value": 0.262987012987013
         },
         {
          "Metric": "Cannabis Use",
          "State": "AR",
          "Value": 0.4805194805194805
         },
         {
          "Metric": "Cannabis Use",
          "State": "AZ",
          "Value": 0.6233766233766235
         },
         {
          "Metric": "Cannabis Use",
          "State": "CA",
          "Value": 0.314935064935065
         },
         {
          "Metric": "Cannabis Use",
          "State": "CO",
          "Value": 0.3636363636363637
         },
         {
          "Metric": "Cannabis Use",
          "State": "CT",
          "Value": 0.288961038961039
         },
         {
          "Metric": "Cannabis Use",
          "State": "DE",
          "Value": 0.46103896103896114
         },
         {
          "Metric": "Cannabis Use",
          "State": "FL",
          "Value": 0.3603896103896104
         },
         {
          "Metric": "Cannabis Use",
          "State": "GA",
          "Value": 0.3084415584415585
         },
         {
          "Metric": "Cannabis Use",
          "State": "HI",
          "Value": 0.17857142857142858
         },
         {
          "Metric": "Cannabis Use",
          "State": "IA",
          "Value": 0.3344155844155844
         },
         {
          "Metric": "Cannabis Use",
          "State": "ID",
          "Value": 0.27597402597402604
         },
         {
          "Metric": "Cannabis Use",
          "State": "IL",
          "Value": 0.45454545454545464
         },
         {
          "Metric": "Cannabis Use",
          "State": "IN",
          "Value": 0.25000000000000006
         },
         {
          "Metric": "Cannabis Use",
          "State": "KS",
          "Value": 0.237012987012987
         },
         {
          "Metric": "Cannabis Use",
          "State": "KY",
          "Value": 0.26623376623376627
         },
         {
          "Metric": "Cannabis Use",
          "State": "LA",
          "Value": 0.2142857142857143
         },
         {
          "Metric": "Cannabis Use",
          "State": "MA",
          "Value": 0.2597402597402598
         },
         {
          "Metric": "Cannabis Use",
          "State": "MD",
          "Value": 0.314935064935065
         },
         {
          "Metric": "Cannabis Use",
          "State": "ME",
          "Value": 0.25000000000000006
         },
         {
          "Metric": "Cannabis Use",
          "State": "MI",
          "Value": 0.5714285714285715
         },
         {
          "Metric": "Cannabis Use",
          "State": "MN",
          "Value": 0.32792207792207795
         },
         {
          "Metric": "Cannabis Use",
          "State": "MO",
          "Value": 0.4350649350649351
         },
         {
          "Metric": "Cannabis Use",
          "State": "MS",
          "Value": 0.1915584415584416
         },
         {
          "Metric": "Cannabis Use",
          "State": "MT",
          "Value": 0.4805194805194805
         },
         {
          "Metric": "Cannabis Use",
          "State": "NC",
          "Value": 0.18506493506493513
         },
         {
          "Metric": "Cannabis Use",
          "State": "ND",
          "Value": 0.2435064935064936
         },
         {
          "Metric": "Cannabis Use",
          "State": "NE",
          "Value": 0.2435064935064936
         },
         {
          "Metric": "Cannabis Use",
          "State": "NH",
          "Value": 0.3733766233766235
         },
         {
          "Metric": "Cannabis Use",
          "State": "NJ",
          "Value": 0.22727272727272735
         },
         {
          "Metric": "Cannabis Use",
          "State": "NM",
          "Value": 0.7500000000000001
         },
         {
          "Metric": "Cannabis Use",
          "State": "NV",
          "Value": 1
         },
         {
          "Metric": "Cannabis Use",
          "State": "NY",
          "Value": 0.32792207792207795
         },
         {
          "Metric": "Cannabis Use",
          "State": "OH",
          "Value": 0.4870129870129871
         },
         {
          "Metric": "Cannabis Use",
          "State": "OK",
          "Value": 0.44480519480519487
         },
         {
          "Metric": "Cannabis Use",
          "State": "OR",
          "Value": 0.6720779220779223
         },
         {
          "Metric": "Cannabis Use",
          "State": "PA",
          "Value": 0.27922077922077926
         },
         {
          "Metric": "Cannabis Use",
          "State": "RI",
          "Value": 0.4577922077922078
         },
         {
          "Metric": "Cannabis Use",
          "State": "SC",
          "Value": 0.23051948051948054
         },
         {
          "Metric": "Cannabis Use",
          "State": "SD",
          "Value": 0.1363636363636364
         },
         {
          "Metric": "Cannabis Use",
          "State": "TN",
          "Value": 0.26623376623376627
         },
         {
          "Metric": "Cannabis Use",
          "State": "TX",
          "Value": 0.1363636363636364
         },
         {
          "Metric": "Cannabis Use",
          "State": "UT",
          "Value": 0.21753246753246758
         },
         {
          "Metric": "Cannabis Use",
          "State": "VA",
          "Value": 0.15259740259740265
         },
         {
          "Metric": "Cannabis Use",
          "State": "VT",
          "Value": 0
         },
         {
          "Metric": "Cannabis Use",
          "State": "WA",
          "Value": 0.37662337662337664
         },
         {
          "Metric": "Cannabis Use",
          "State": "WI",
          "Value": 0.30194805194805197
         },
         {
          "Metric": "Cannabis Use",
          "State": "WV",
          "Value": 0.5064935064935066
         },
         {
          "Metric": "Cannabis Use",
          "State": "WY",
          "Value": 0.43831168831168843
         },
         {
          "Metric": "Obesity",
          "State": "AK",
          "Value": 0.6319018404907977
         },
         {
          "Metric": "Obesity",
          "State": "AL",
          "Value": 0.8773006134969326
         },
         {
          "Metric": "Obesity",
          "State": "AR",
          "Value": 0.9263803680981594
         },
         {
          "Metric": "Obesity",
          "State": "AZ",
          "Value": 0.4294478527607361
         },
         {
          "Metric": "Obesity",
          "State": "CA",
          "Value": 0.17177914110429449
         },
         {
          "Metric": "Obesity",
          "State": "CO",
          "Value": 0
         },
         {
          "Metric": "Obesity",
          "State": "CT",
          "Value": 0.27607361963190175
         },
         {
          "Metric": "Obesity",
          "State": "DE",
          "Value": 0.6625766871165645
         },
         {
          "Metric": "Obesity",
          "State": "FL",
          "Value": 0.31901840490797556
         },
         {
          "Metric": "Obesity",
          "State": "GA",
          "Value": 0.6196319018404908
         },
         {
          "Metric": "Obesity",
          "State": "HI",
          "Value": 0.07361963190184065
         },
         {
          "Metric": "Obesity",
          "State": "IA",
          "Value": 0.791411042944785
         },
         {
          "Metric": "Obesity",
          "State": "ID",
          "Value": 0.37423312883435583
         },
         {
          "Metric": "Obesity",
          "State": "IL",
          "Value": 0.6809815950920245
         },
         {
          "Metric": "Obesity",
          "State": "IN",
          "Value": 0.791411042944785
         },
         {
          "Metric": "Obesity",
          "State": "KS",
          "Value": 0.674846625766871
         },
         {
          "Metric": "Obesity",
          "State": "KY",
          "Value": null
         },
         {
          "Metric": "Obesity",
          "State": "LA",
          "Value": 0.9202453987730059
         },
         {
          "Metric": "Obesity",
          "State": "MA",
          "Value": 0.1533742331288343
         },
         {
          "Metric": "Obesity",
          "State": "MD",
          "Value": 0.5644171779141105
         },
         {
          "Metric": "Obesity",
          "State": "ME",
          "Value": 0.47239263803680986
         },
         {
          "Metric": "Obesity",
          "State": "MI",
          "Value": 0.6441717791411041
         },
         {
          "Metric": "Obesity",
          "State": "MN",
          "Value": 0.5153374233128832
         },
         {
          "Metric": "Obesity",
          "State": "MO",
          "Value": 0.6380368098159507
         },
         {
          "Metric": "Obesity",
          "State": "MS",
          "Value": 0.9325153374233128
         },
         {
          "Metric": "Obesity",
          "State": "MT",
          "Value": 0.34355828220858897
         },
         {
          "Metric": "Obesity",
          "State": "NC",
          "Value": 0.558282208588957
         },
         {
          "Metric": "Obesity",
          "State": "ND",
          "Value": 0.656441717791411
         },
         {
          "Metric": "Obesity",
          "State": "NE",
          "Value": 0.7177914110429447
         },
         {
          "Metric": "Obesity",
          "State": "NH",
          "Value": 0.4846625766871164
         },
         {
          "Metric": "Obesity",
          "State": "NJ",
          "Value": 0.2453987730061349
         },
         {
          "Metric": "Obesity",
          "State": "NM",
          "Value": 0.6380368098159507
         },
         {
          "Metric": "Obesity",
          "State": "NV",
          "Value": 0.3619631901840491
         },
         {
          "Metric": "Obesity",
          "State": "NY",
          "Value": 0.19018404907975464
         },
         {
          "Metric": "Obesity",
          "State": "OH",
          "Value": 0.7055214723926378
         },
         {
          "Metric": "Obesity",
          "State": "OK",
          "Value": 0.8466257668711656
         },
         {
          "Metric": "Obesity",
          "State": "OR",
          "Value": 0.5337423312883436
         },
         {
          "Metric": "Obesity",
          "State": "PA",
          "Value": null
         },
         {
          "Metric": "Obesity",
          "State": "RI",
          "Value": 0.41104294478527614
         },
         {
          "Metric": "Obesity",
          "State": "SC",
          "Value": 0.6809815950920245
         },
         {
          "Metric": "Obesity",
          "State": "SD",
          "Value": 0.6809815950920245
         },
         {
          "Metric": "Obesity",
          "State": "TN",
          "Value": 0.7791411042944785
         },
         {
          "Metric": "Obesity",
          "State": "TX",
          "Value": 0.5828220858895704
         },
         {
          "Metric": "Obesity",
          "State": "UT",
          "Value": 0.3251533742331288
         },
         {
          "Metric": "Obesity",
          "State": "VA",
          "Value": 0.576687116564417
         },
         {
          "Metric": "Obesity",
          "State": "VT",
          "Value": 0.23926380368098166
         },
         {
          "Metric": "Obesity",
          "State": "WA",
          "Value": 0.3496932515337424
         },
         {
          "Metric": "Obesity",
          "State": "WI",
          "Value": 0.674846625766871
         },
         {
          "Metric": "Obesity",
          "State": "WV",
          "Value": 1
         },
         {
          "Metric": "Obesity",
          "State": "WY",
          "Value": 0.5153374233128832
         },
         {
          "Metric": "High Blood Pressure",
          "State": "AK",
          "Value": 0.34759358288770037
         },
         {
          "Metric": "High Blood Pressure",
          "State": "AL",
          "Value": 0.9304812834224601
         },
         {
          "Metric": "High Blood Pressure",
          "State": "AR",
          "Value": 0.8128342245989305
         },
         {
          "Metric": "High Blood Pressure",
          "State": "AZ",
          "Value": 0.32620320855614965
         },
         {
          "Metric": "High Blood Pressure",
          "State": "CA",
          "Value": 0.17647058823529416
         },
         {
          "Metric": "High Blood Pressure",
          "State": "CO",
          "Value": 0
         },
         {
          "Metric": "High Blood Pressure",
          "State": "CT",
          "Value": 0.2513368983957219
         },
         {
          "Metric": "High Blood Pressure",
          "State": "DE",
          "Value": 0.5614973262032084
         },
         {
          "Metric": "High Blood Pressure",
          "State": "FL",
          "Value": 0.45989304812834214
         },
         {
          "Metric": "High Blood Pressure",
          "State": "GA",
          "Value": 0.449197860962567
         },
         {
          "Metric": "High Blood Pressure",
          "State": "HI",
          "Value": 0.2727272727272726
         },
         {
          "Metric": "High Blood Pressure",
          "State": "IA",
          "Value": 0.3850267379679144
         },
         {
          "Metric": "High Blood Pressure",
          "State": "ID",
          "Value": 0.20855614973262027
         },
         {
          "Metric": "High Blood Pressure",
          "State": "IL",
          "Value": 0.3315508021390374
         },
         {
          "Metric": "High Blood Pressure",
          "State": "IN",
          "Value": 0.5508021390374332
         },
         {
          "Metric": "High Blood Pressure",
          "State": "KS",
          "Value": 0.39572192513369
         },
         {
          "Metric": "High Blood Pressure",
          "State": "KY",
          "Value": null
         },
         {
          "Metric": "High Blood Pressure",
          "State": "LA",
          "Value": 0.855614973262032
         },
         {
          "Metric": "High Blood Pressure",
          "State": "MA",
          "Value": 0.19786096256684488
         },
         {
          "Metric": "High Blood Pressure",
          "State": "MD",
          "Value": 0.45454545454545436
         },
         {
          "Metric": "High Blood Pressure",
          "State": "ME",
          "Value": 0.45454545454545436
         },
         {
          "Metric": "High Blood Pressure",
          "State": "MI",
          "Value": 0.5187165775401069
         },
         {
          "Metric": "High Blood Pressure",
          "State": "MN",
          "Value": 0.20320855614973266
         },
         {
          "Metric": "High Blood Pressure",
          "State": "MO",
          "Value": 0.4759358288770055
         },
         {
          "Metric": "High Blood Pressure",
          "State": "MS",
          "Value": 1
         },
         {
          "Metric": "High Blood Pressure",
          "State": "MT",
          "Value": 0.26203208556149743
         },
         {
          "Metric": "High Blood Pressure",
          "State": "NC",
          "Value": 0.5454545454545454
         },
         {
          "Metric": "High Blood Pressure",
          "State": "ND",
          "Value": 0.24064171122994654
         },
         {
          "Metric": "High Blood Pressure",
          "State": "NE",
          "Value": 0.28877005347593593
         },
         {
          "Metric": "High Blood Pressure",
          "State": "NH",
          "Value": 0.32085561497326187
         },
         {
          "Metric": "High Blood Pressure",
          "State": "NJ",
          "Value": 0.32620320855614965
         },
         {
          "Metric": "High Blood Pressure",
          "State": "NM",
          "Value": 0.3636363636363637
         },
         {
          "Metric": "High Blood Pressure",
          "State": "NV",
          "Value": 0.3582887700534759
         },
         {
          "Metric": "High Blood Pressure",
          "State": "NY",
          "Value": 0.25668449197860965
         },
         {
          "Metric": "High Blood Pressure",
          "State": "OH",
          "Value": 0.5240641711229947
         },
         {
          "Metric": "High Blood Pressure",
          "State": "OK",
          "Value": 0.5935828877005347
         },
         {
          "Metric": "High Blood Pressure",
          "State": "OR",
          "Value": 0.3315508021390374
         },
         {
          "Metric": "High Blood Pressure",
          "State": "PA",
          "Value": null
         },
         {
          "Metric": "High Blood Pressure",
          "State": "RI",
          "Value": 0.3582887700534759
         },
         {
          "Metric": "High Blood Pressure",
          "State": "SC",
          "Value": 0.6203208556149732
         },
         {
          "Metric": "High Blood Pressure",
          "State": "SD",
          "Value": 0.4224598930481285
         },
         {
          "Metric": "High Blood Pressure",
          "State": "TN",
          "Value": 0.716577540106952
         },
         {
          "Metric": "High Blood Pressure",
          "State": "TX",
          "Value": 0.2673796791443849
         },
         {
          "Metric": "High Blood Pressure",
          "State": "UT",
          "Value": 0
         },
         {
          "Metric": "High Blood Pressure",
          "State": "VA",
          "Value": 0.4438502673796792
         },
         {
          "Metric": "High Blood Pressure",
          "State": "VT",
          "Value": 0.2780748663101604
         },
         {
          "Metric": "High Blood Pressure",
          "State": "WA",
          "Value": 0.17647058823529416
         },
         {
          "Metric": "High Blood Pressure",
          "State": "WI",
          "Value": 0.3101604278074867
         },
         {
          "Metric": "High Blood Pressure",
          "State": "WV",
          "Value": 0.9518716577540107
         },
         {
          "Metric": "High Blood Pressure",
          "State": "WY",
          "Value": 0.2245989304812834
         },
         {
          "Metric": "High Cholesterol",
          "State": "AK",
          "Value": 0.21739130434782633
         },
         {
          "Metric": "High Cholesterol",
          "State": "AL",
          "Value": 0.8043478260869563
         },
         {
          "Metric": "High Cholesterol",
          "State": "AR",
          "Value": 0.6521739130434785
         },
         {
          "Metric": "High Cholesterol",
          "State": "AZ",
          "Value": 0.5434782608695654
         },
         {
          "Metric": "High Cholesterol",
          "State": "CA",
          "Value": 0.4202898550724638
         },
         {
          "Metric": "High Cholesterol",
          "State": "CO",
          "Value": 0.09420289855072468
         },
         {
          "Metric": "High Cholesterol",
          "State": "CT",
          "Value": 0.5362318840579712
         },
         {
          "Metric": "High Cholesterol",
          "State": "DE",
          "Value": 0.8985507246376813
         },
         {
          "Metric": "High Cholesterol",
          "State": "FL",
          "Value": 0.5869565217391303
         },
         {
          "Metric": "High Cholesterol",
          "State": "GA",
          "Value": 0.4130434782608695
         },
         {
          "Metric": "High Cholesterol",
          "State": "HI",
          "Value": 0.4565217391304348
         },
         {
          "Metric": "High Cholesterol",
          "State": "IA",
          "Value": 0.3985507246376814
         },
         {
          "Metric": "High Cholesterol",
          "State": "ID",
          "Value": 0.23188405797101444
         },
         {
          "Metric": "High Cholesterol",
          "State": "IL",
          "Value": 0.36956521739130416
         },
         {
          "Metric": "High Cholesterol",
          "State": "IN",
          "Value": 0.5869565217391303
         },
         {
          "Metric": "High Cholesterol",
          "State": "KS",
          "Value": 0.5289855072463768
         },
         {
          "Metric": "High Cholesterol",
          "State": "KY",
          "Value": null
         },
         {
          "Metric": "High Cholesterol",
          "State": "LA",
          "Value": 0.6014492753623188
         },
         {
          "Metric": "High Cholesterol",
          "State": "MA",
          "Value": 0.32608695652173936
         },
         {
          "Metric": "High Cholesterol",
          "State": "MD",
          "Value": 0.5869565217391303
         },
         {
          "Metric": "High Cholesterol",
          "State": "ME",
          "Value": 0.5144927536231882
         },
         {
          "Metric": "High Cholesterol",
          "State": "MI",
          "Value": 0.31884057971014507
         },
         {
          "Metric": "High Cholesterol",
          "State": "MN",
          "Value": 0.1884057971014491
         },
         {
          "Metric": "High Cholesterol",
          "State": "MO",
          "Value": 0.5289855072463768
         },
         {
          "Metric": "High Cholesterol",
          "State": "MS",
          "Value": 0.6231884057971012
         },
         {
          "Metric": "High Cholesterol",
          "State": "MT",
          "Value": 0.20289855072463772
         },
         {
          "Metric": "High Cholesterol",
          "State": "NC",
          "Value": 0.36956521739130416
         },
         {
          "Metric": "High Cholesterol",
          "State": "ND",
          "Value": 0.28260869565217406
         },
         {
          "Metric": "High Cholesterol",
          "State": "NE",
          "Value": 0.20289855072463772
         },
         {
          "Metric": "High Cholesterol",
          "State": "NH",
          "Value": 0.33333333333333315
         },
         {
          "Metric": "High Cholesterol",
          "State": "NJ",
          "Value": 0.5724637681159421
         },
         {
          "Metric": "High Cholesterol",
          "State": "NM",
          "Value": 0.30434782608695643
         },
         {
          "Metric": "High Cholesterol",
          "State": "NV",
          "Value": 0.5869565217391303
         },
         {
          "Metric": "High Cholesterol",
          "State": "NY",
          "Value": 0.5289855072463768
         },
         {
          "Metric": "High Cholesterol",
          "State": "OH",
          "Value": 0.4492753623188405
         },
         {
          "Metric": "High Cholesterol",
          "State": "OK",
          "Value": 0.5797101449275365
         },
         {
          "Metric": "High Cholesterol",
          "State": "OR",
          "Value": 0.21739130434782633
         },
         {
          "Metric": "High Cholesterol",
          "State": "PA",
          "Value": null
         },
         {
          "Metric": "High Cholesterol",
          "State": "RI",
          "Value": 0.27536231884057977
         },
         {
          "Metric": "High Cholesterol",
          "State": "SC",
          "Value": 0.5869565217391303
         },
         {
          "Metric": "High Cholesterol",
          "State": "SD",
          "Value": 0.3115942028985508
         },
         {
          "Metric": "High Cholesterol",
          "State": "TN",
          "Value": 0.6811594202898552
         },
         {
          "Metric": "High Cholesterol",
          "State": "TX",
          "Value": 0.36956521739130416
         },
         {
          "Metric": "High Cholesterol",
          "State": "UT",
          "Value": 0
         },
         {
          "Metric": "High Cholesterol",
          "State": "VA",
          "Value": 0.5869565217391303
         },
         {
          "Metric": "High Cholesterol",
          "State": "VT",
          "Value": 0.1304347826086957
         },
         {
          "Metric": "High Cholesterol",
          "State": "WA",
          "Value": 0.36231884057971037
         },
         {
          "Metric": "High Cholesterol",
          "State": "WI",
          "Value": 0.29710144927536214
         },
         {
          "Metric": "High Cholesterol",
          "State": "WV",
          "Value": 1
         },
         {
          "Metric": "High Cholesterol",
          "State": "WY",
          "Value": 0.1884057971014491
         },
         {
          "Metric": "Diabetes",
          "State": "AK",
          "Value": 0.0865384615384615
         },
         {
          "Metric": "Diabetes",
          "State": "AL",
          "Value": 0.7596153846153847
         },
         {
          "Metric": "Diabetes",
          "State": "AR",
          "Value": 0.6442307692307694
         },
         {
          "Metric": "Diabetes",
          "State": "AZ",
          "Value": 0.34615384615384626
         },
         {
          "Metric": "Diabetes",
          "State": "CA",
          "Value": 0.35576923076923084
         },
         {
          "Metric": "Diabetes",
          "State": "CO",
          "Value": 0.07692307692307691
         },
         {
          "Metric": "Diabetes",
          "State": "CT",
          "Value": 0.201923076923077
         },
         {
          "Metric": "Diabetes",
          "State": "DE",
          "Value": 0.528846153846154
         },
         {
          "Metric": "Diabetes",
          "State": "FL",
          "Value": 0.451923076923077
         },
         {
          "Metric": "Diabetes",
          "State": "GA",
          "Value": 0.47115384615384615
         },
         {
          "Metric": "Diabetes",
          "State": "HI",
          "Value": 0.3365384615384617
         },
         {
          "Metric": "Diabetes",
          "State": "IA",
          "Value": 0.3365384615384617
         },
         {
          "Metric": "Diabetes",
          "State": "ID",
          "Value": 0.19230769230769243
         },
         {
          "Metric": "Diabetes",
          "State": "IL",
          "Value": 0.4230769230769231
         },
         {
          "Metric": "Diabetes",
          "State": "IN",
          "Value": 0.5192307692307693
         },
         {
          "Metric": "Diabetes",
          "State": "KS",
          "Value": 0.34615384615384626
         },
         {
          "Metric": "Diabetes",
          "State": "KY",
          "Value": null
         },
         {
          "Metric": "Diabetes",
          "State": "LA",
          "Value": 0.7980769230769232
         },
         {
          "Metric": "Diabetes",
          "State": "MA",
          "Value": 0.19230769230769243
         },
         {
          "Metric": "Diabetes",
          "State": "MD",
          "Value": 0.4230769230769231
         },
         {
          "Metric": "Diabetes",
          "State": "ME",
          "Value": 0.34615384615384626
         },
         {
          "Metric": "Diabetes",
          "State": "MI",
          "Value": 0.4423076923076924
         },
         {
          "Metric": "Diabetes",
          "State": "MN",
          "Value": 0.2596153846153847
         },
         {
          "Metric": "Diabetes",
          "State": "MO",
          "Value": 0.4326923076923078
         },
         {
          "Metric": "Diabetes",
          "State": "MS",
          "Value": 0.8846153846153847
         },
         {
          "Metric": "Diabetes",
          "State": "MT",
          "Value": 0.1538461538461539
         },
         {
          "Metric": "Diabetes",
          "State": "NC",
          "Value": 0.4423076923076924
         },
         {
          "Metric": "Diabetes",
          "State": "ND",
          "Value": 0.1634615384615385
         },
         {
          "Metric": "Diabetes",
          "State": "NE",
          "Value": 0.2692307692307693
         },
         {
          "Metric": "Diabetes",
          "State": "NH",
          "Value": 0.19230769230769243
         },
         {
          "Metric": "Diabetes",
          "State": "NJ",
          "Value": 0.2596153846153847
         },
         {
          "Metric": "Diabetes",
          "State": "NM",
          "Value": 0.451923076923077
         },
         {
          "Metric": "Diabetes",
          "State": "NV",
          "Value": 0.39423076923076933
         },
         {
          "Metric": "Diabetes",
          "State": "NY",
          "Value": 0.2692307692307693
         },
         {
          "Metric": "Diabetes",
          "State": "OH",
          "Value": 0.5192307692307693
         },
         {
          "Metric": "Diabetes",
          "State": "OK",
          "Value": 0.4423076923076924
         },
         {
          "Metric": "Diabetes",
          "State": "OR",
          "Value": 0.2980769230769232
         },
         {
          "Metric": "Diabetes",
          "State": "PA",
          "Value": null
         },
         {
          "Metric": "Diabetes",
          "State": "RI",
          "Value": 0.38461538461538475
         },
         {
          "Metric": "Diabetes",
          "State": "SC",
          "Value": 0.6826923076923078
         },
         {
          "Metric": "Diabetes",
          "State": "SD",
          "Value": 0.38461538461538475
         },
         {
          "Metric": "Diabetes",
          "State": "TN",
          "Value": 0.6442307692307694
         },
         {
          "Metric": "Diabetes",
          "State": "TX",
          "Value": 0.47115384615384615
         },
         {
          "Metric": "Diabetes",
          "State": "UT",
          "Value": 0
         },
         {
          "Metric": "Diabetes",
          "State": "VA",
          "Value": 0.38461538461538475
         },
         {
          "Metric": "Diabetes",
          "State": "VT",
          "Value": 0.14423076923076933
         },
         {
          "Metric": "Diabetes",
          "State": "WA",
          "Value": 0.17307692307692307
         },
         {
          "Metric": "Diabetes",
          "State": "WI",
          "Value": 0.3365384615384617
         },
         {
          "Metric": "Diabetes",
          "State": "WV",
          "Value": 1
         },
         {
          "Metric": "Diabetes",
          "State": "WY",
          "Value": 0.2884615384615386
         },
         {
          "Metric": "Exercise (Reversed)",
          "State": "AK",
          "Value": 0.10135135135135132
         },
         {
          "Metric": "Exercise (Reversed)",
          "State": "AL",
          "Value": 0.7027027027027027
         },
         {
          "Metric": "Exercise (Reversed)",
          "State": "AR",
          "Value": 0.581081081081081
         },
         {
          "Metric": "Exercise (Reversed)",
          "State": "AZ",
          "Value": 0.141891891891892
         },
         {
          "Metric": "Exercise (Reversed)",
          "State": "CA",
          "Value": 0.358108108108108
         },
         {
          "Metric": "Exercise (Reversed)",
          "State": "CO",
          "Value": 0
         },
         {
          "Metric": "Exercise (Reversed)",
          "State": "CT",
          "Value": 0.2702702702702703
         },
         {
          "Metric": "Exercise (Reversed)",
          "State": "DE",
          "Value": 0.4797297297297297
         },
         {
          "Metric": "Exercise (Reversed)",
          "State": "FL",
          "Value": 0.2635135135135135
         },
         {
          "Metric": "Exercise (Reversed)",
          "State": "GA",
          "Value": 0.3918918918918918
         },
         {
          "Metric": "Exercise (Reversed)",
          "State": "HI",
          "Value": 0.2432432432432432
         },
         {
          "Metric": "Exercise (Reversed)",
          "State": "IA",
          "Value": 0.641891891891892
         },
         {
          "Metric": "Exercise (Reversed)",
          "State": "ID",
          "Value": 0.4054054054054055
         },
         {
          "Metric": "Exercise (Reversed)",
          "State": "IL",
          "Value": 0.42567567567567555
         },
         {
          "Metric": "Exercise (Reversed)",
          "State": "IN",
          "Value": 0.41216216216216206
         },
         {
          "Metric": "Exercise (Reversed)",
          "State": "KS",
          "Value": 0.581081081081081
         },
         {
          "Metric": "Exercise (Reversed)",
          "State": "KY",
          "Value": null
         },
         {
          "Metric": "Exercise (Reversed)",
          "State": "LA",
          "Value": 0.5743243243243245
         },
         {
          "Metric": "Exercise (Reversed)",
          "State": "MA",
          "Value": 0.29054054054054046
         },
         {
          "Metric": "Exercise (Reversed)",
          "State": "MD",
          "Value": 0.31081081081081074
         },
         {
          "Metric": "Exercise (Reversed)",
          "State": "ME",
          "Value": 0.29729729729729726
         },
         {
          "Metric": "Exercise (Reversed)",
          "State": "MI",
          "Value": 0.3513513513513513
         },
         {
          "Metric": "Exercise (Reversed)",
          "State": "MN",
          "Value": 0.3513513513513513
         },
         {
          "Metric": "Exercise (Reversed)",
          "State": "MO",
          "Value": 0.7905405405405407
         },
         {
          "Metric": "Exercise (Reversed)",
          "State": "MS",
          "Value": 0.810810810810811
         },
         {
          "Metric": "Exercise (Reversed)",
          "State": "MT",
          "Value": 0.216216216216216
         },
         {
          "Metric": "Exercise (Reversed)",
          "State": "NC",
          "Value": 0.6351351351351351
         },
         {
          "Metric": "Exercise (Reversed)",
          "State": "ND",
          "Value": 0.30405405405405406
         },
         {
          "Metric": "Exercise (Reversed)",
          "State": "NE",
          "Value": 0.4864864864864865
         },
         {
          "Metric": "Exercise (Reversed)",
          "State": "NH",
          "Value": 0.15540540540540526
         },
         {
          "Metric": "Exercise (Reversed)",
          "State": "NJ",
          "Value": 0.277027027027027
         },
         {
          "Metric": "Exercise (Reversed)",
          "State": "NM",
          "Value": 0.33783783783783794
         },
         {
          "Metric": "Exercise (Reversed)",
          "State": "NV",
          "Value": 0.29729729729729726
         },
         {
          "Metric": "Exercise (Reversed)",
          "State": "NY",
          "Value": 0.31081081081081074
         },
         {
          "Metric": "Exercise (Reversed)",
          "State": "OH",
          "Value": 0.32432432432432423
         },
         {
          "Metric": "Exercise (Reversed)",
          "State": "OK",
          "Value": 0.810810810810811
         },
         {
          "Metric": "Exercise (Reversed)",
          "State": "OR",
          "Value": 0.20270270270270274
         },
         {
          "Metric": "Exercise (Reversed)",
          "State": "PA",
          "Value": null
         },
         {
          "Metric": "Exercise (Reversed)",
          "State": "RI",
          "Value": 0.3716216216216217
         },
         {
          "Metric": "Exercise (Reversed)",
          "State": "SC",
          "Value": 0.2567567567567566
         },
         {
          "Metric": "Exercise (Reversed)",
          "State": "SD",
          "Value": 0.6013513513513513
         },
         {
          "Metric": "Exercise (Reversed)",
          "State": "TN",
          "Value": 0.5405405405405406
         },
         {
          "Metric": "Exercise (Reversed)",
          "State": "TX",
          "Value": 0.30405405405405406
         },
         {
          "Metric": "Exercise (Reversed)",
          "State": "UT",
          "Value": 0.15540540540540526
         },
         {
          "Metric": "Exercise (Reversed)",
          "State": "VA",
          "Value": 0.2432432432432432
         },
         {
          "Metric": "Exercise (Reversed)",
          "State": "VT",
          "Value": 0.11486486486486458
         },
         {
          "Metric": "Exercise (Reversed)",
          "State": "WA",
          "Value": 0.2432432432432432
         },
         {
          "Metric": "Exercise (Reversed)",
          "State": "WI",
          "Value": 0.5337837837837838
         },
         {
          "Metric": "Exercise (Reversed)",
          "State": "WV",
          "Value": 1
         },
         {
          "Metric": "Exercise (Reversed)",
          "State": "WY",
          "Value": 0.358108108108108
         },
         {
          "Metric": "Suicide",
          "State": "AK",
          "Value": 0.9047619047619048
         },
         {
          "Metric": "Suicide",
          "State": "AL",
          "Value": 0.3952380952380953
         },
         {
          "Metric": "Suicide",
          "State": "AR",
          "Value": 0.4619047619047619
         },
         {
          "Metric": "Suicide",
          "State": "AZ",
          "Value": 0.6428571428571429
         },
         {
          "Metric": "Suicide",
          "State": "CA",
          "Value": 0.12857142857142853
         },
         {
          "Metric": "Suicide",
          "State": "CO",
          "Value": 0.6571428571428571
         },
         {
          "Metric": "Suicide",
          "State": "CT",
          "Value": 0.12857142857142853
         },
         {
          "Metric": "Suicide",
          "State": "DE",
          "Value": 0.21428571428571427
         },
         {
          "Metric": "Suicide",
          "State": "FL",
          "Value": 0.3428571428571428
         },
         {
          "Metric": "Suicide",
          "State": "GA",
          "Value": 0.3142857142857143
         },
         {
          "Metric": "Suicide",
          "State": "HI",
          "Value": 0.41904761904761906
         },
         {
          "Metric": "Suicide",
          "State": "IA",
          "Value": 0.48095238095238085
         },
         {
          "Metric": "Suicide",
          "State": "ID",
          "Value": 0.6952380952380951
         },
         {
          "Metric": "Suicide",
          "State": "IL",
          "Value": 0.18571428571428564
         },
         {
          "Metric": "Suicide",
          "State": "IN",
          "Value": 0.4095238095238094
         },
         {
          "Metric": "Suicide",
          "State": "KS",
          "Value": 0.5714285714285714
         },
         {
          "Metric": "Suicide",
          "State": "KY",
          "Value": 0.47142857142857136
         },
         {
          "Metric": "Suicide",
          "State": "LA",
          "Value": 0.35714285714285715
         },
         {
          "Metric": "Suicide",
          "State": "MA",
          "Value": 0.0333333333333333
         },
         {
          "Metric": "Suicide",
          "State": "MD",
          "Value": 0.07619047619047617
         },
         {
          "Metric": "Suicide",
          "State": "ME",
          "Value": 0.5238095238095238
         },
         {
          "Metric": "Suicide",
          "State": "MI",
          "Value": 0.319047619047619
         },
         {
          "Metric": "Suicide",
          "State": "MN",
          "Value": 0.319047619047619
         },
         {
          "Metric": "Suicide",
          "State": "MO",
          "Value": 0.5428571428571428
         },
         {
          "Metric": "Suicide",
          "State": "MS",
          "Value": 0.2809523809523809
         },
         {
          "Metric": "Suicide",
          "State": "MT",
          "Value": 1
         },
         {
          "Metric": "Suicide",
          "State": "NC",
          "Value": 0.32380952380952377
         },
         {
          "Metric": "Suicide",
          "State": "ND",
          "Value": 0.638095238095238
         },
         {
          "Metric": "Suicide",
          "State": "NE",
          "Value": 0.3428571428571428
         },
         {
          "Metric": "Suicide",
          "State": "NH",
          "Value": 0.4476190476190475
         },
         {
          "Metric": "Suicide",
          "State": "NJ",
          "Value": 0
         },
         {
          "Metric": "Suicide",
          "State": "NM",
          "Value": 0.7857142857142857
         },
         {
          "Metric": "Suicide",
          "State": "NV",
          "Value": 0.6523809523809524
         },
         {
          "Metric": "Suicide",
          "State": "NY",
          "Value": 0.0333333333333333
         },
         {
          "Metric": "Suicide",
          "State": "OH",
          "Value": 0.3333333333333333
         },
         {
          "Metric": "Suicide",
          "State": "OK",
          "Value": 0.6190476190476191
         },
         {
          "Metric": "Suicide",
          "State": "OR",
          "Value": 0.5952380952380952
         },
         {
          "Metric": "Suicide",
          "State": "PA",
          "Value": 0.32380952380952377
         },
         {
          "Metric": "Suicide",
          "State": "RI",
          "Value": 0.15238095238095234
         },
         {
          "Metric": "Suicide",
          "State": "SC",
          "Value": 0.37142857142857144
         },
         {
          "Metric": "Suicide",
          "State": "SD",
          "Value": 0.6095238095238096
         },
         {
          "Metric": "Suicide",
          "State": "TN",
          "Value": 0.4476190476190475
         },
         {
          "Metric": "Suicide",
          "State": "TX",
          "Value": 0.2952380952380952
         },
         {
          "Metric": "Suicide",
          "State": "UT",
          "Value": 0.6142857142857142
         },
         {
          "Metric": "Suicide",
          "State": "VA",
          "Value": 0.26666666666666666
         },
         {
          "Metric": "Suicide",
          "State": "VT",
          "Value": 0.5476190476190477
         },
         {
          "Metric": "Suicide",
          "State": "WA",
          "Value": 0.36666666666666664
         },
         {
          "Metric": "Suicide",
          "State": "WI",
          "Value": 0.3523809523809523
         },
         {
          "Metric": "Suicide",
          "State": "WV",
          "Value": 0.5523809523809523
         },
         {
          "Metric": "Suicide",
          "State": "WY",
          "Value": 0.8761904761904761
         },
         {
          "Metric": "Homicide",
          "State": "AK",
          "Value": 0.3641025641025641
         },
         {
          "Metric": "Homicide",
          "State": "AL",
          "Value": 0.6666666666666666
         },
         {
          "Metric": "Homicide",
          "State": "AR",
          "Value": 0.5025641025641026
         },
         {
          "Metric": "Homicide",
          "State": "AZ",
          "Value": 0.34358974358974353
         },
         {
          "Metric": "Homicide",
          "State": "CA",
          "Value": 0.241025641025641
         },
         {
          "Metric": "Homicide",
          "State": "CO",
          "Value": 0.27179487179487183
         },
         {
          "Metric": "Homicide",
          "State": "CT",
          "Value": 0.1435897435897436
         },
         {
          "Metric": "Homicide",
          "State": "DE",
          "Value": 0.35384615384615387
         },
         {
          "Metric": "Homicide",
          "State": "FL",
          "Value": 0.27179487179487183
         },
         {
          "Metric": "Homicide",
          "State": "GA",
          "Value": 0.5025641025641026
         },
         {
          "Metric": "Homicide",
          "State": "HI",
          "Value": 0.07179487179487179
         },
         {
          "Metric": "Homicide",
          "State": "IA",
          "Value": 0.07692307692307693
         },
         {
          "Metric": "Homicide",
          "State": "ID",
          "Value": 0.04615384615384615
         },
         {
          "Metric": "Homicide",
          "State": "IL",
          "Value": 0.4974358974358974
         },
         {
          "Metric": "Homicide",
          "State": "IN",
          "Value": 0.3692307692307692
         },
         {
          "Metric": "Homicide",
          "State": "KS",
          "Value": 0.22564102564102567
         },
         {
          "Metric": "Homicide",
          "State": "KY",
          "Value": 0.358974358974359
         },
         {
          "Metric": "Homicide",
          "State": "LA",
          "Value": 0.9333333333333335
         },
         {
          "Metric": "Homicide",
          "State": "MA",
          "Value": 0.05128205128205128
         },
         {
          "Metric": "Homicide",
          "State": "MD",
          "Value": 0.4974358974358974
         },
         {
          "Metric": "Homicide",
          "State": "ME",
          "Value": 0.02564102564102564
         },
         {
          "Metric": "Homicide",
          "State": "MI",
          "Value": 0.34358974358974353
         },
         {
          "Metric": "Homicide",
          "State": "MN",
          "Value": 0.12307692307692307
         },
         {
          "Metric": "Homicide",
          "State": "MO",
          "Value": 0.5333333333333333
         },
         {
          "Metric": "Homicide",
          "State": "MS",
          "Value": 1
         },
         {
          "Metric": "Homicide",
          "State": "MT",
          "Value": 0.1641025641025641
         },
         {
          "Metric": "Homicide",
          "State": "NC",
          "Value": 0.39999999999999997
         },
         {
          "Metric": "Homicide",
          "State": "ND",
          "Value": 0.09743589743589744
         },
         {
          "Metric": "Homicide",
          "State": "NE",
          "Value": 0.11282051282051284
         },
         {
          "Metric": "Homicide",
          "State": "NH",
          "Value": 0
         },
         {
          "Metric": "Homicide",
          "State": "NJ",
          "Value": 0.13333333333333333
         },
         {
          "Metric": "Homicide",
          "State": "NM",
          "Value": 0.6512820512820513
         },
         {
          "Metric": "Homicide",
          "State": "NV",
          "Value": 0.3384615384615384
         },
         {
          "Metric": "Homicide",
          "State": "NY",
          "Value": 0.158974358974359
         },
         {
          "Metric": "Homicide",
          "State": "OH",
          "Value": 0.35384615384615387
         },
         {
          "Metric": "Homicide",
          "State": "OK",
          "Value": 0.34871794871794864
         },
         {
          "Metric": "Homicide",
          "State": "OR",
          "Value": 0.17948717948717952
         },
         {
          "Metric": "Homicide",
          "State": "PA",
          "Value": 0.358974358974359
         },
         {
          "Metric": "Homicide",
          "State": "RI",
          "Value": 0.07179487179487179
         },
         {
          "Metric": "Homicide",
          "State": "SC",
          "Value": 0.5384615384615384
         },
         {
          "Metric": "Homicide",
          "State": "SD",
          "Value": 0.21538461538461534
         },
         {
          "Metric": "Homicide",
          "State": "TN",
          "Value": 0.4923076923076923
         },
         {
          "Metric": "Homicide",
          "State": "TX",
          "Value": 0.3282051282051282
         },
         {
          "Metric": "Homicide",
          "State": "UT",
          "Value": 0.05128205128205128
         },
         {
          "Metric": "Homicide",
          "State": "VA",
          "Value": 0.3025641025641026
         },
         {
          "Metric": "Homicide",
          "State": "VT",
          "Value": 0.04102564102564104
         },
         {
          "Metric": "Homicide",
          "State": "WA",
          "Value": 0.18461538461538463
         },
         {
          "Metric": "Homicide",
          "State": "WI",
          "Value": 0.22051282051282056
         },
         {
          "Metric": "Homicide",
          "State": "WV",
          "Value": 0.2461538461538462
         },
         {
          "Metric": "Homicide",
          "State": "WY",
          "Value": 0.07179487179487179
         }
        ]
       },
       "height": 400,
       "layer": [
        {
         "encoding": {
          "color": {
           "value": "lightgray"
          },
          "tooltip": [
           {
            "field": "State",
            "type": "nominal"
           },
           {
            "field": "Metric",
            "type": "nominal"
           },
           {
            "field": "Value",
            "format": ".2f",
            "type": "quantitative"
           }
          ],
          "x": {
           "field": "Metric",
           "sort": null,
           "title": "Health Metric",
           "type": "nominal"
          },
          "y": {
           "field": "Value",
           "scale": {
            "domain": [
             0,
             1
            ]
           },
           "title": "Normalized Value",
           "type": "quantitative"
          }
         },
         "mark": {
          "opacity": 0.2,
          "size": 100,
          "type": "circle"
         },
         "transform": [
          {
           "filter": "((state_param === 'All') || (datum.State !== state_param))"
          }
         ]
        },
        {
         "encoding": {
          "color": {
           "field": "Value",
           "legend": {
            "title": "Normalized Value"
           },
           "scale": {
            "domain": [
             0,
             1
            ],
            "scheme": "turbo"
           },
           "type": "quantitative"
          },
          "tooltip": [
           {
            "field": "State",
            "type": "nominal"
           },
           {
            "field": "Metric",
            "type": "nominal"
           },
           {
            "field": "Value",
            "format": ".2f",
            "type": "quantitative"
           }
          ],
          "x": {
           "field": "Metric",
           "sort": null,
           "title": "Health Metric",
           "type": "nominal"
          },
          "y": {
           "field": "Value",
           "scale": {
            "domain": [
             0,
             1
            ]
           },
           "title": "Normalized Value",
           "type": "quantitative"
          }
         },
         "mark": {
          "size": 300,
          "type": "circle"
         },
         "transform": [
          {
           "filter": "(datum.State === state_param)"
          }
         ]
        }
       ],
       "params": [
        {
         "bind": {
          "input": "select",
          "name": "Select State: ",
          "options": [
           "All",
           "AK",
           "AL",
           "AR",
           "AZ",
           "CA",
           "CO",
           "CT",
           "DE",
           "FL",
           "GA",
           "HI",
           "IA",
           "ID",
           "IL",
           "IN",
           "KS",
           "KY",
           "LA",
           "MA",
           "MD",
           "ME",
           "MI",
           "MN",
           "MO",
           "MS",
           "MT",
           "NC",
           "ND",
           "NE",
           "NH",
           "NJ",
           "NM",
           "NV",
           "NY",
           "OH",
           "OK",
           "OR",
           "PA",
           "RI",
           "SC",
           "SD",
           "TN",
           "TX",
           "UT",
           "VA",
           "VT",
           "WA",
           "WI",
           "WV",
           "WY"
          ]
         },
         "name": "state_param",
         "value": "All"
        }
       ],
       "title": "Normalized Health Metrics Heat Scatterplot (0–1 Scale)",
       "width": 700
      },
      "image/png": "[encoded data removed]",
      "text/plain": [
       "<VegaLite 5 object>\n",
       "\n",
       "If you see this message, it means the renderer has not been properly enabled\n",
       "for the frontend that you are using. For more information, see\n",
       "https://altair-viz.github.io/user_guide/display_frontends.html#troubleshooting\n"
      ]
     },
     "execution_count": 73,
     "metadata": {},
     "output_type": "execute_result"
    }
   ],
   "source": [
    "import altair as alt\n",
    "import pandas as pd\n",
    "\n",
    "df_norm = selected.copy()\n",
    "\n",
    "metrics = [\n",
    "    \"Public Health Funding\", \n",
    "    \"Avoided Care Due to Cost\",\n",
    "    \"Uninsured\",\n",
    "    \"Economic Hardship Index\",\n",
    "    \"Poverty\",\n",
    "    \"Cannabis Use\",\n",
    "    \"Obesity\",\n",
    "    \"High Blood Pressure\",\n",
    "    \"High Cholesterol\",\n",
    "    \"Diabetes\",\n",
    "    \"Exercise\",\n",
    "    \"Suicide\",\n",
    "    \"Homicide\"    \n",
    "]\n",
    "\n",
    "for metric in metrics:\n",
    "    min_val = df_norm[metric].min()\n",
    "    max_val = df_norm[metric].max()\n",
    "    df_norm[f\"{metric} Norm\"] = (df_norm[metric] - min_val) / (max_val - min_val)\n",
    "\n",
    "df_norm[\"Public Health Funding Norm\"] = 1 - df_norm[\"Public Health Funding Norm\"]\n",
    "df_norm[\"Exercise Norm\"] = 1 - df_norm[\"Exercise Norm\"]\n",
    "\n",
    "\n",
    "norm_cols = [f\"{m} Norm\" for m in metrics]\n",
    "melted = df_norm.melt(\n",
    "    id_vars=[\"State\"],\n",
    "    value_vars=norm_cols,\n",
    "    var_name=\"Metric\",\n",
    "    value_name=\"Value\"\n",
    ")\n",
    "\n",
    "melted[\"Metric\"] = melted[\"Metric\"].str.replace(\" Norm\", \"\", regex=False)\n",
    "melted.loc[melted[\"Metric\"] == \"Public Health Funding\", \"Metric\"] = \"Public Health Funding (Reversed)\"\n",
    "melted.loc[melted[\"Metric\"] == \"Exercise\", \"Metric\"] = \"Exercise (Reversed)\"\n",
    "\n",
    "\n",
    "state_options = [\"All\"] + sorted(df_norm[\"State\"].unique())\n",
    "state_dropdown = alt.binding_select(options=state_options, name=\"Select State: \")\n",
    "state_param = alt.param(name=\"state_param\", bind=state_dropdown, value=\"All\")\n",
    "\n",
    "base = alt.Chart(melted).mark_circle(size=100, opacity=0.2).encode(\n",
    "    x=alt.X(\"Metric:N\", title=\"Health Metric\", sort=None),\n",
    "    y=alt.Y(\"Value:Q\", title=\"Normalized Value\", scale=alt.Scale(domain=[0, 1])),\n",
    "    color=alt.value(\"lightgray\"),\n",
    "    tooltip=[\n",
    "        alt.Tooltip(\"State:N\"),\n",
    "        alt.Tooltip(\"Metric:N\"),\n",
    "        alt.Tooltip(\"Value:Q\", format=\".2f\")\n",
    "    ]\n",
    ").transform_filter(\n",
    "    (state_param == \"All\") | (alt.datum.State != state_param)\n",
    ")\n",
    "\n",
    "highlight = alt.Chart(melted).mark_circle(size=300).encode(\n",
    "    x=alt.X(\"Metric:N\", title=\"Health Metric\", sort=None),\n",
    "    y=alt.Y(\"Value:Q\", title=\"Normalized Value\", scale=alt.Scale(domain=[0, 1])),\n",
    "    color=alt.Color(\n",
    "        \"Value:Q\",\n",
    "        scale=alt.Scale(scheme=\"turbo\", domain=[0, 1]),\n",
    "        legend=alt.Legend(title=\"Normalized Value\")\n",
    "    ),\n",
    "    tooltip=[\n",
    "        alt.Tooltip(\"State:N\"),\n",
    "        alt.Tooltip(\"Metric:N\"),\n",
    "        alt.Tooltip(\"Value:Q\", format=\".2f\")\n",
    "    ]\n",
    ").transform_filter(\n",
    "    alt.datum.State == state_param\n",
    ")\n",
    "\n",
    "heat_scatter = (base + highlight).add_params(\n",
    "    state_param\n",
    ").properties(\n",
    "    width=700,\n",
    "    height=400,\n",
    "    title=\"Normalized Health Metrics Heat Scatterplot (0–1 Scale)\"\n",
    ")\n",
    "\n",
    "heat_scatter\n"
   ]
  },
  {
   "cell_type": "markdown",
   "id": "130f4527-3edc-4dbe-a5ee-4817db21ebc8",
   "metadata": {},
   "source": [
    "### Design Summary and Justification\n",
    "All of the visualizations were created using Altair for interactive features. It allowed me to quickly experiment with design ideas and incorporate interactivity, such as tooltips and dropdown menus, without making the visuals too complex.\n",
    "\n",
    "Color was used strategically throughout the charts. For example, in the bar chart, color highlights whether a state is performing above or below average. In the scatterplots and heatmaps, color helps to emphasize variation in health metrics. This makes it easier for users to spot trends and outliers at a glance.\n",
    "\n",
    "The layout of each chart was designed with usability in mind. Horizontal bar charts were used so top half and bottom half would be readable. Scatterplots were included to help viewers visually assess correlations between economic conditions and health outcomes. Heatmaps and dot plots allowed for quick comparisons across multiple dimensions.\n",
    "\n",
    "Overall, I focused on keeping the design clean and not overwhelming the viewer. Tooltips were added to provide helpful context without adding visual clutter. Sort options and interactivity made the charts more engaging and helped users explore the data in ways that were relevant to their own questions."
   ]
  },
  {
   "cell_type": "markdown",
   "id": "dfa02153-127b-4704-9d0c-383955ed3816",
   "metadata": {},
   "source": [
    "### Evaluation Summary\n",
    "To evaluate the effectiveness of my visualizations, I shared them with three people who had some basic familiarity with data, two mechanical engineer  friends and my mother. Each completed four short questions designed to reflect real analysis scenarios, followed by a brief interview to gather their feedback. I provided them a link to the interactive charts using Google Colab or Jupyter.\n",
    "\n",
    "**Questions**\n",
    "1) Which three states are ranked the lowest? \n",
    "2) Which area of the United States seems to be considered healthy based on their overall scores?\n",
    "3) Does Economic Hardship have a positive or negative correlation with Avoided Care due to Cost?\n",
    "4) From the dropdown menu, are most of Colorado's health markers bad/towards the top or good/near the bottom?\n",
    "\n",
    "I tracked how long it took them to answer, how confident they were, and then asked a few follow-up questions. The goal was to see how easily they could understand the charts, whether the visuals supported their reasoning, and if anything was confusing or difficult.\n",
    "\n",
    "The results were mostly positive. All three participants were able to complete the tasks. They said the bar chart and heatmap were the most straightforward to read. The heat scatterplot led to more questions and discussion, which showed it was thought-provoking but slightly harder to interpret."
   ]
  },
  {
   "cell_type": "markdown",
   "id": "160154d4-c1ae-431f-b4c0-0be60029dab6",
   "metadata": {},
   "source": [
    "### Synthesis of Findings\n",
    "\n",
    "Through this project, I found that several aspects of my design worked well. The use of color and sorting helped people quickly notice important patterns, such as which states were struggling or which had better funding. The interactive tooltips were also appreciated, as they gave people access to more detailed information without making the chart look too busy.\n",
    "\n",
    "Participants generally found the charts clear and helpful for answering the questions. However, there are also areas I would like to improve. For example, adding filters to allow users to explore by region or specific health topics could make the charts more powerful. Another idea is to combine multiple charts into a single dashboard view, which would make it easier to compare metrics side by side.\n",
    "\n",
    "Throughout the project, my plan evolved based on what I learned during the process. I initially only planned to make a bar chart and scatterplot, but added a heatmap after realizing it helped address one of my key goals. I also adjusted the tooltips and formatting based on early user feedback to make them clearer. In the evaluation phase, I decided not only to measure accuracy but also ask for people’s confidence and reflections, which gave me more insight into how effective the visuals were.\n",
    "\n",
    "In summary, this project helped me learn a lot about designing for clarity, interactivity, user needs, and how to adapt a data analysis plan based on what the data and users reveal along the way."
   ]
  }
 ],
 "metadata": {
  "kernelspec": {
   "display_name": "Python 3 (ipykernel)",
   "language": "python",
   "name": "python3"
  },
  "language_info": {
   "codemirror_mode": {
    "name": "ipython",
    "version": 3
   },
   "file_extension": ".py",
   "mimetype": "text/x-python",
   "name": "python",
   "nbconvert_exporter": "python",
   "pygments_lexer": "ipython3",
   "version": "3.13.5"
  }
 },
 "nbformat": 4,
 "nbformat_minor": 5
}
